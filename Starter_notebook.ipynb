{
  "nbformat": 4,
  "nbformat_minor": 5,
  "metadata": {
    "kernelspec": {
      "display_name": "Python 3",
      "language": "python",
      "name": "python3"
    },
    "language_info": {
      "codemirror_mode": {
        "name": "ipython",
        "version": 3
      },
      "file_extension": ".py",
      "mimetype": "text/x-python",
      "name": "python",
      "nbconvert_exporter": "python",
      "pygments_lexer": "ipython3",
      "version": "3.8.8"
    },
    "colab": {
      "name": "Starter_notebook.ipynb",
      "provenance": []
    }
  },
  "cells": [
    {
      "cell_type": "markdown",
      "metadata": {
        "id": "yzpz_sLxVC1T"
      },
      "source": [
        "# Classification Predict : Climate Change Belief Analysis\n",
        "\n",
        "<h2><center> Team_7:</center></h2>\n",
        " \n",
        "<center>- Kwenadi Letsalo\n",
        "<center>- Rinae Tshivhidzo\n",
        "<center>- Kgotso Phela\n",
        "<center>Matome Peta\n",
        "<center>Rookaya Madari"
      ],
      "id": "yzpz_sLxVC1T"
    },
    {
      "cell_type": "markdown",
      "metadata": {
        "id": "84dfef78"
      },
      "source": [
        "\n",
        "<img src=\"https://github.com/Rinae-D/classification-predict-streamlit-template/blob/master/Climate_Action_Poster.png?raw=1\" width=\"700\">"
      ],
      "id": "84dfef78"
    },
    {
      "cell_type": "markdown",
      "metadata": {
        "id": "4sXYQ0UiYUYJ"
      },
      "source": [
        "##  Introduction\n",
        "\n",
        "Climate change is the long-term shift in global or regional temperature and typical weather patterns. These shifts may be natural but the cause of current climate change is largely human activity, like burning fossil fuels, such as natural gas, oil, and coal. Burning these materials releases what are called greenhouse gases into Earth’s atmosphere. There, these gases trap heat from the sun’s rays inside the atmosphere causing Earth’s average temperature to rise. However,recently, many companies are built around lessening one’s environmental impact or carbon footprint. They offer products and services that are environmentally friendly and sustainable, in line with their values and ideals. \n",
        "\n",
        "### Problem statement \n",
        "\n",
        "With that being said, they would like to determine how people perceive climate change and whether or not they believe it is a real threat. This would add to their market research efforts in gauging how their product/service may be received.\n",
        "\n",
        "### Main Objective\n",
        "\n",
        "To creat a Machine Learning model that is able to classify whether or not a person believes in climate change, based on their  tweet data.\n",
        "\n",
        "### Data Information <br>\n",
        "The collection of this data was funded by a Canada Foundation for Innovation JELF Grant to Chris Bauch, University of Waterloo. The dataset aggregates tweets pertaining to climate change collected between Apr 27, 2015 and Feb 21, 2018. In total, 43943 tweets were collected. Each tweet is labelled as one of the following classes:\n",
        "\n",
        "sentiments: <br>\n",
        " 1:   The tweet supports the belief of man-made climate change <br>\n",
        "-1:   The tweet does not believe in man-made climate change <br>\n",
        " 0:   The tweet neither supports nor refutes the belief of man-made climate change <br>\n",
        " 2:   The tweet links to factual news about climate change\n",
        "\n",
        " sentiment: Sentiment of tweet message <br>\n",
        " Tweet body tweetid: Twitter unique id\n",
        "\n"
      ],
      "id": "4sXYQ0UiYUYJ"
    },
    {
      "cell_type": "markdown",
      "metadata": {
        "id": "0e4JOaaeYcCm"
      },
      "source": [
        "## Overview\n",
        "\n",
        "1. Loading data\n",
        "3. Text cleaning\n",
        "3. EDA\n",
        "4. EDA after cleaning of the Text\n",
        "5. Training different models\n",
        "6. Gridsearch on 3 best models\n",
        "7. Stacking\n",
        "8. Conclusion"
      ],
      "id": "0e4JOaaeYcCm"
    },
    {
      "cell_type": "markdown",
      "metadata": {
        "id": "gPlEGSR0frtw"
      },
      "source": [
        "# Importing neccessary libraries"
      ],
      "id": "gPlEGSR0frtw"
    },
    {
      "cell_type": "code",
      "metadata": {
        "colab": {
          "base_uri": "https://localhost:8080/"
        },
        "id": "a6eacf84",
        "outputId": "f428fc6b-a3ce-4929-b2d1-466e9cbc1262"
      },
      "source": [
        "# downloads\n",
        "#!pip install parfit\n",
        "#!pip install scikit-plot\n",
        "#!pip install contractions\n",
        "\n",
        "\n",
        "# imports for Natural Language  Processing\n",
        "import pandas as pd\n",
        "import numpy as np\n",
        "import nltk\n",
        "import string\n",
        "import re\n",
        "from sklearn.pipeline import Pipeline\n",
        "import pickle\n",
        "\n",
        "\n",
        "# feature extractioin\n",
        "from sklearn.feature_extraction.text import CountVectorizer\n",
        "from sklearn.feature_extraction.text import TfidfVectorizer\n",
        "\n",
        "# Preprocessing\n",
        "#import contractions\n",
        "from collections import Counter\n",
        "from nltk.corpus import wordnet\n",
        "from nltk.corpus import stopwords\n",
        "from nltk.stem import WordNetLemmatizer\n",
        "from nltk.tokenize import word_tokenize\n",
        "from nltk.tokenize import TweetTokenizer\n",
        "from sklearn.preprocessing import label_binarize\n",
        "from sklearn.model_selection import train_test_split\n",
        "\n",
        "# classification models\n",
        "from sklearn.svm import SVC\n",
        "from sklearn.svm import LinearSVC\n",
        "from sklearn.ensemble import VotingClassifier\n",
        "from sklearn.linear_model import SGDClassifier\n",
        "from sklearn.tree import DecisionTreeClassifier\n",
        "from sklearn.linear_model import RidgeClassifier\n",
        "from sklearn.multiclass import OneVsRestClassifier\n",
        "from sklearn.linear_model import LogisticRegression\n",
        "from sklearn.ensemble import RandomForestClassifier\n",
        "\n",
        "\n",
        "# Hyperparameter tunning methods\n",
        "#import parfit.parfit as pf\n",
        "from sklearn.model_selection import GridSearchCV\n",
        "from sklearn.model_selection import ParameterGrid\n",
        "\n",
        "# metrics\n",
        "\n",
        "from sklearn.metrics import f1_score\n",
        "from sklearn.metrics import roc_auc_score\n",
        "from sklearn.metrics import accuracy_score\n",
        "from sklearn.metrics import confusion_matrix\n",
        "from sklearn.metrics import classification_report\n",
        "\n",
        "# imports for data visualisation\n",
        "import seaborn as sns\n",
        "from PIL import Image\n",
        "from scipy import stats\n",
        "import matplotlib.pyplot as plt\n",
        "from nltk.probability import FreqDist\n",
        "from sklearn.metrics import plot_roc_curve\n",
        "\n",
        "from scikitplot.metrics import plot_roc, plot_confusion_matrix\n",
        "%matplotlib inline"
      ],
      "id": "a6eacf84",
      "execution_count": 1,
      "outputs": [
        {
          "output_type": "stream",
          "name": "stdout",
          "text": [
            "Collecting scikit-plot\n",
            "  Downloading scikit_plot-0.3.7-py3-none-any.whl (33 kB)\n",
            "Requirement already satisfied: joblib>=0.10 in /usr/local/lib/python3.7/dist-packages (from scikit-plot) (1.1.0)\n",
            "Requirement already satisfied: scikit-learn>=0.18 in /usr/local/lib/python3.7/dist-packages (from scikit-plot) (1.0.1)\n",
            "Requirement already satisfied: scipy>=0.9 in /usr/local/lib/python3.7/dist-packages (from scikit-plot) (1.4.1)\n",
            "Requirement already satisfied: matplotlib>=1.4.0 in /usr/local/lib/python3.7/dist-packages (from scikit-plot) (3.2.2)\n",
            "Requirement already satisfied: python-dateutil>=2.1 in /usr/local/lib/python3.7/dist-packages (from matplotlib>=1.4.0->scikit-plot) (2.8.2)\n",
            "Requirement already satisfied: pyparsing!=2.0.4,!=2.1.2,!=2.1.6,>=2.0.1 in /usr/local/lib/python3.7/dist-packages (from matplotlib>=1.4.0->scikit-plot) (3.0.6)\n",
            "Requirement already satisfied: kiwisolver>=1.0.1 in /usr/local/lib/python3.7/dist-packages (from matplotlib>=1.4.0->scikit-plot) (1.3.2)\n",
            "Requirement already satisfied: numpy>=1.11 in /usr/local/lib/python3.7/dist-packages (from matplotlib>=1.4.0->scikit-plot) (1.19.5)\n",
            "Requirement already satisfied: cycler>=0.10 in /usr/local/lib/python3.7/dist-packages (from matplotlib>=1.4.0->scikit-plot) (0.11.0)\n",
            "Requirement already satisfied: six>=1.5 in /usr/local/lib/python3.7/dist-packages (from python-dateutil>=2.1->matplotlib>=1.4.0->scikit-plot) (1.15.0)\n",
            "Requirement already satisfied: threadpoolctl>=2.0.0 in /usr/local/lib/python3.7/dist-packages (from scikit-learn>=0.18->scikit-plot) (3.0.0)\n",
            "Installing collected packages: scikit-plot\n",
            "Successfully installed scikit-plot-0.3.7\n"
          ]
        }
      ]
    },
    {
      "cell_type": "markdown",
      "metadata": {
        "id": "ASV3eXdxYsBE"
      },
      "source": [
        "1.Loading data"
      ],
      "id": "ASV3eXdxYsBE"
    },
    {
      "cell_type": "code",
      "metadata": {
        "id": "8597beb7"
      },
      "source": [
        "train = pd.read_csv('https://raw.githubusercontent.com/Rinae-D/classification-predict-streamlit-template/master/train.csv')\n",
        "test = pd.read_csv('https://raw.githubusercontent.com/Rinae-D/classification-predict-streamlit-template/master/test_with_no_labels.csv')\n",
        "\n",
        "\n",
        "train_df = train.copy()\n",
        "test_df = test.copy()\n"
      ],
      "id": "8597beb7",
      "execution_count": 11,
      "outputs": []
    },
    {
      "cell_type": "code",
      "metadata": {
        "colab": {
          "base_uri": "https://localhost:8080/",
          "height": 206
        },
        "id": "82fbb28a",
        "outputId": "6f3b6df7-ebdf-425c-d6d5-1b2d68e0c7ed"
      },
      "source": [
        "#viewing the train data\n",
        "train_df.head()"
      ],
      "id": "82fbb28a",
      "execution_count": 12,
      "outputs": [
        {
          "output_type": "execute_result",
          "data": {
            "text/html": [
              "<div>\n",
              "<style scoped>\n",
              "    .dataframe tbody tr th:only-of-type {\n",
              "        vertical-align: middle;\n",
              "    }\n",
              "\n",
              "    .dataframe tbody tr th {\n",
              "        vertical-align: top;\n",
              "    }\n",
              "\n",
              "    .dataframe thead th {\n",
              "        text-align: right;\n",
              "    }\n",
              "</style>\n",
              "<table border=\"1\" class=\"dataframe\">\n",
              "  <thead>\n",
              "    <tr style=\"text-align: right;\">\n",
              "      <th></th>\n",
              "      <th>sentiment</th>\n",
              "      <th>message</th>\n",
              "      <th>tweetid</th>\n",
              "    </tr>\n",
              "  </thead>\n",
              "  <tbody>\n",
              "    <tr>\n",
              "      <th>0</th>\n",
              "      <td>1</td>\n",
              "      <td>PolySciMajor EPA chief doesn't think carbon di...</td>\n",
              "      <td>625221</td>\n",
              "    </tr>\n",
              "    <tr>\n",
              "      <th>1</th>\n",
              "      <td>1</td>\n",
              "      <td>It's not like we lack evidence of anthropogeni...</td>\n",
              "      <td>126103</td>\n",
              "    </tr>\n",
              "    <tr>\n",
              "      <th>2</th>\n",
              "      <td>2</td>\n",
              "      <td>RT @RawStory: Researchers say we have three ye...</td>\n",
              "      <td>698562</td>\n",
              "    </tr>\n",
              "    <tr>\n",
              "      <th>3</th>\n",
              "      <td>1</td>\n",
              "      <td>#TodayinMaker# WIRED : 2016 was a pivotal year...</td>\n",
              "      <td>573736</td>\n",
              "    </tr>\n",
              "    <tr>\n",
              "      <th>4</th>\n",
              "      <td>1</td>\n",
              "      <td>RT @SoyNovioDeTodas: It's 2016, and a racist, ...</td>\n",
              "      <td>466954</td>\n",
              "    </tr>\n",
              "  </tbody>\n",
              "</table>\n",
              "</div>"
            ],
            "text/plain": [
              "   sentiment                                            message  tweetid\n",
              "0          1  PolySciMajor EPA chief doesn't think carbon di...   625221\n",
              "1          1  It's not like we lack evidence of anthropogeni...   126103\n",
              "2          2  RT @RawStory: Researchers say we have three ye...   698562\n",
              "3          1  #TodayinMaker# WIRED : 2016 was a pivotal year...   573736\n",
              "4          1  RT @SoyNovioDeTodas: It's 2016, and a racist, ...   466954"
            ]
          },
          "metadata": {},
          "execution_count": 12
        }
      ]
    },
    {
      "cell_type": "code",
      "metadata": {
        "colab": {
          "base_uri": "https://localhost:8080/",
          "height": 206
        },
        "id": "e9ca5880",
        "outputId": "160d8761-1617-4798-c286-ed572a0f829a"
      },
      "source": [
        "#viewing the test data\n",
        "test_df.head()"
      ],
      "id": "e9ca5880",
      "execution_count": 13,
      "outputs": [
        {
          "output_type": "execute_result",
          "data": {
            "text/html": [
              "<div>\n",
              "<style scoped>\n",
              "    .dataframe tbody tr th:only-of-type {\n",
              "        vertical-align: middle;\n",
              "    }\n",
              "\n",
              "    .dataframe tbody tr th {\n",
              "        vertical-align: top;\n",
              "    }\n",
              "\n",
              "    .dataframe thead th {\n",
              "        text-align: right;\n",
              "    }\n",
              "</style>\n",
              "<table border=\"1\" class=\"dataframe\">\n",
              "  <thead>\n",
              "    <tr style=\"text-align: right;\">\n",
              "      <th></th>\n",
              "      <th>message</th>\n",
              "      <th>tweetid</th>\n",
              "    </tr>\n",
              "  </thead>\n",
              "  <tbody>\n",
              "    <tr>\n",
              "      <th>0</th>\n",
              "      <td>Europe will now be looking to China to make su...</td>\n",
              "      <td>169760</td>\n",
              "    </tr>\n",
              "    <tr>\n",
              "      <th>1</th>\n",
              "      <td>Combine this with the polling of staffers re c...</td>\n",
              "      <td>35326</td>\n",
              "    </tr>\n",
              "    <tr>\n",
              "      <th>2</th>\n",
              "      <td>The scary, unimpeachable evidence that climate...</td>\n",
              "      <td>224985</td>\n",
              "    </tr>\n",
              "    <tr>\n",
              "      <th>3</th>\n",
              "      <td>@Karoli @morgfair @OsborneInk @dailykos \\nPuti...</td>\n",
              "      <td>476263</td>\n",
              "    </tr>\n",
              "    <tr>\n",
              "      <th>4</th>\n",
              "      <td>RT @FakeWillMoore: 'Female orgasms cause globa...</td>\n",
              "      <td>872928</td>\n",
              "    </tr>\n",
              "  </tbody>\n",
              "</table>\n",
              "</div>"
            ],
            "text/plain": [
              "                                             message  tweetid\n",
              "0  Europe will now be looking to China to make su...   169760\n",
              "1  Combine this with the polling of staffers re c...    35326\n",
              "2  The scary, unimpeachable evidence that climate...   224985\n",
              "3  @Karoli @morgfair @OsborneInk @dailykos \\nPuti...   476263\n",
              "4  RT @FakeWillMoore: 'Female orgasms cause globa...   872928"
            ]
          },
          "metadata": {},
          "execution_count": 13
        }
      ]
    },
    {
      "cell_type": "markdown",
      "metadata": {
        "id": "1T-TRN3J0Xig"
      },
      "source": [
        "# Exploratory Data Analysis (EDA)"
      ],
      "id": "1T-TRN3J0Xig"
    },
    {
      "cell_type": "markdown",
      "metadata": {
        "id": "8fDRbO7C11f6"
      },
      "source": [
        "Let us look at how samples we have for each sentiment. "
      ],
      "id": "8fDRbO7C11f6"
    },
    {
      "cell_type": "code",
      "metadata": {
        "id": "TEfeTFj90Xij",
        "outputId": "fa35c725-d9a2-4309-a8d3-2b433efc6377",
        "colab": {
          "base_uri": "https://localhost:8080/",
          "height": 353
        }
      },
      "source": [
        "#Countplot for each sentiment\n",
        "sns.set(font_scale=1.5)\n",
        "fig, ax1 = plt.subplots(figsize=(10,5))\n",
        "graph = sns.countplot(ax=ax1,x='sentiment', data=train_df)\n",
        "graph.set_xticklabels(graph.get_xticklabels())\n",
        "for p in graph.patches:\n",
        "    height = p.get_height()\n",
        "    graph.text(p.get_x()+p.get_width()/2., height + 0.1,height ,ha=\"center\")"
      ],
      "id": "TEfeTFj90Xij",
      "execution_count": 28,
      "outputs": [
        {
          "output_type": "display_data",
          "data": {
            "image/png": "[encoded data removed]",
            "text/plain": [
              "<Figure size 720x360 with 1 Axes>"
            ]
          },
          "metadata": {}
        }
      ]
    },
    {
      "cell_type": "markdown",
      "metadata": {
        "id": "RlplSqLB25NQ"
      },
      "source": [
        "we can see that we have a class imbalance.  Most of the tweets are from climate change believers followed by news tweets."
      ],
      "id": "RlplSqLB25NQ"
    },
    {
      "cell_type": "code",
      "metadata": {
        "id": "SM4Q0C5i31kD"
      },
      "source": [
        ""
      ],
      "id": "SM4Q0C5i31kD",
      "execution_count": null,
      "outputs": []
    },
    {
      "cell_type": "code",
      "metadata": {
        "id": "WrDnlZRY31s4"
      },
      "source": [
        ""
      ],
      "id": "WrDnlZRY31s4",
      "execution_count": null,
      "outputs": []
    },
    {
      "cell_type": "code",
      "metadata": {
        "id": "M8JI612I31wB"
      },
      "source": [
        ""
      ],
      "id": "M8JI612I31wB",
      "execution_count": null,
      "outputs": []
    },
    {
      "cell_type": "code",
      "metadata": {
        "id": "Z1BtJI8s31zG"
      },
      "source": [
        ""
      ],
      "id": "Z1BtJI8s31zG",
      "execution_count": null,
      "outputs": []
    },
    {
      "cell_type": "code",
      "metadata": {
        "id": "fFkRQaFF312Q"
      },
      "source": [
        ""
      ],
      "id": "fFkRQaFF312Q",
      "execution_count": null,
      "outputs": []
    },
    {
      "cell_type": "code",
      "metadata": {
        "id": "qSlNtsj4315I"
      },
      "source": [
        ""
      ],
      "id": "qSlNtsj4315I",
      "execution_count": null,
      "outputs": []
    },
    {
      "cell_type": "code",
      "metadata": {
        "id": "T6HhlmcD318k"
      },
      "source": [
        ""
      ],
      "id": "T6HhlmcD318k",
      "execution_count": null,
      "outputs": []
    },
    {
      "cell_type": "markdown",
      "metadata": {
        "id": "1df8c69d"
      },
      "source": [
        "# 2. Text Cleaning \n",
        "\n",
        " We are now cheking if we have some missing or null values and also look at the data types"
      ],
      "id": "1df8c69d"
    },
    {
      "cell_type": "code",
      "metadata": {
        "colab": {
          "base_uri": "https://localhost:8080/"
        },
        "id": "92621045",
        "outputId": "5ce807f4-87c0-45ae-ebca-f249c5675a74"
      },
      "source": [
        "#checking the information of the train data\n",
        "train_df.info()"
      ],
      "id": "92621045",
      "execution_count": 14,
      "outputs": [
        {
          "output_type": "stream",
          "name": "stdout",
          "text": [
            "<class 'pandas.core.frame.DataFrame'>\n",
            "RangeIndex: 15819 entries, 0 to 15818\n",
            "Data columns (total 3 columns):\n",
            " #   Column     Non-Null Count  Dtype \n",
            "---  ------     --------------  ----- \n",
            " 0   sentiment  15819 non-null  int64 \n",
            " 1   message    15819 non-null  object\n",
            " 2   tweetid    15819 non-null  int64 \n",
            "dtypes: int64(2), object(1)\n",
            "memory usage: 370.9+ KB\n"
          ]
        }
      ]
    },
    {
      "cell_type": "markdown",
      "metadata": {
        "id": "vBseXhc2ywBz"
      },
      "source": [
        "We see we have 15819 tweets to train on, each labeled with a sentiment to see if they believe, deny or are neutral about climate change."
      ],
      "id": "vBseXhc2ywBz"
    },
    {
      "cell_type": "code",
      "metadata": {
        "colab": {
          "base_uri": "https://localhost:8080/"
        },
        "id": "f5f9369a",
        "outputId": "e9f75a45-f433-40bb-81c2-d4f233344653"
      },
      "source": [
        "#checking the information of the test data\n",
        "test_df.info()"
      ],
      "id": "f5f9369a",
      "execution_count": 15,
      "outputs": [
        {
          "output_type": "stream",
          "name": "stdout",
          "text": [
            "<class 'pandas.core.frame.DataFrame'>\n",
            "RangeIndex: 10546 entries, 0 to 10545\n",
            "Data columns (total 2 columns):\n",
            " #   Column   Non-Null Count  Dtype \n",
            "---  ------   --------------  ----- \n",
            " 0   message  10546 non-null  object\n",
            " 1   tweetid  10546 non-null  int64 \n",
            "dtypes: int64(1), object(1)\n",
            "memory usage: 164.9+ KB\n"
          ]
        }
      ]
    },
    {
      "cell_type": "markdown",
      "metadata": {
        "id": "AjiTbLfYzSxN"
      },
      "source": [
        "The test data have 10546  tweets tto test on."
      ],
      "id": "AjiTbLfYzSxN"
    },
    {
      "cell_type": "markdown",
      "metadata": {
        "id": "r-dqWRCAgBAb"
      },
      "source": [
        "Both the train and test data have no missing values "
      ],
      "id": "r-dqWRCAgBAb"
    },
    {
      "cell_type": "code",
      "metadata": {
        "id": "69a6ab7b"
      },
      "source": [
        "# Part of Speech for modeling\n",
        "def POS(word):\n",
        "    \"\"\"\n",
        "    This function gets the part of speech\n",
        "    \"\"\"\n",
        "    pos_counts = Counter()\n",
        "    probable_part_of_speech = wordnet.synsets(word)\n",
        "    pos_counts[\"n\"] = len([i for i in probable_part_of_speech if i.pos()==\"n\"])\n",
        "    pos_counts[\"v\"] = len([i for i in probable_part_of_speech if i.pos()==\"v\"])\n",
        "    pos_counts[\"a\"] = len([i for i in probable_part_of_speech if i.pos()==\"a\"])\n",
        "    pos_counts[\"r\"] = len([i for i in probable_part_of_speech if i.pos()==\"r\"])\n",
        "    part_of_speech = pos_counts.most_common(1)[0][0]\n",
        "    return part_of_speech"
      ],
      "id": "69a6ab7b",
      "execution_count": 18,
      "outputs": []
    },
    {
      "cell_type": "markdown",
      "metadata": {
        "id": "BDzgPHw6mLP3"
      },
      "source": [
        " ### Extract urls and mentions\n",
        " \n",
        "Returns a DataFrame with three additional columns, \"hashtags\", \"mentions\", \"url\" and \"RT\"\n"
      ],
      "id": "BDzgPHw6mLP3"
    },
    {
      "cell_type": "code",
      "metadata": {
        "id": "cb94d327"
      },
      "source": [
        "# Extract mentions\n",
        "\n",
        "def extractor(df):\n",
        "  \n",
        "    # Extract hashtags\n",
        "    tweets = df['message']\n",
        "    df['hashtags'] = df.message. str.lower().str.findall(r'#.*?(?=\\s|$)')\n",
        "    htags = df['hashtags']\n",
        "    df['hashtags'] = htags.apply(lambda x: np.nan if len(x) == 0 else x)\n",
        "    \n",
        "    # Extract mentions\n",
        "    df['mentions'] = df.message. str.lower().str.findall(r'@\\w*')\n",
        "    mtags = df['mentions']\n",
        "    df['mentions'] = mtags.apply(lambda x: np.nan if len(x) == 0 else x)\n",
        "    \n",
        "    # Extract url\n",
        "    df['url'] = df.message. str.lower().str.findall(r'http\\S+|www.\\S+')\n",
        "    urltags = df['url']\n",
        "    df['url'] = urltags.apply(lambda x: np.nan if len(x) == 0 else x)\n",
        "    \n",
        "    return df"
      ],
      "id": "cb94d327",
      "execution_count": 19,
      "outputs": []
    },
    {
      "cell_type": "code",
      "metadata": {
        "scrolled": true,
        "colab": {
          "base_uri": "https://localhost:8080/",
          "height": 424
        },
        "id": "0aa8a9e2",
        "outputId": "02ede8f3-9d5b-436c-88c1-10317d901582"
      },
      "source": [
        "extractor(train_df)  "
      ],
      "id": "0aa8a9e2",
      "execution_count": 20,
      "outputs": [
        {
          "output_type": "execute_result",
          "data": {
            "text/html": [
              "<div>\n",
              "<style scoped>\n",
              "    .dataframe tbody tr th:only-of-type {\n",
              "        vertical-align: middle;\n",
              "    }\n",
              "\n",
              "    .dataframe tbody tr th {\n",
              "        vertical-align: top;\n",
              "    }\n",
              "\n",
              "    .dataframe thead th {\n",
              "        text-align: right;\n",
              "    }\n",
              "</style>\n",
              "<table border=\"1\" class=\"dataframe\">\n",
              "  <thead>\n",
              "    <tr style=\"text-align: right;\">\n",
              "      <th></th>\n",
              "      <th>sentiment</th>\n",
              "      <th>message</th>\n",
              "      <th>tweetid</th>\n",
              "      <th>hashtags</th>\n",
              "      <th>mentions</th>\n",
              "      <th>url</th>\n",
              "    </tr>\n",
              "  </thead>\n",
              "  <tbody>\n",
              "    <tr>\n",
              "      <th>0</th>\n",
              "      <td>1</td>\n",
              "      <td>PolySciMajor EPA chief doesn't think carbon di...</td>\n",
              "      <td>625221</td>\n",
              "      <td>NaN</td>\n",
              "      <td>[@mashable]</td>\n",
              "      <td>[https://t.co/yelvcefxkc]</td>\n",
              "    </tr>\n",
              "    <tr>\n",
              "      <th>1</th>\n",
              "      <td>1</td>\n",
              "      <td>It's not like we lack evidence of anthropogeni...</td>\n",
              "      <td>126103</td>\n",
              "      <td>NaN</td>\n",
              "      <td>NaN</td>\n",
              "      <td>NaN</td>\n",
              "    </tr>\n",
              "    <tr>\n",
              "      <th>2</th>\n",
              "      <td>2</td>\n",
              "      <td>RT @RawStory: Researchers say we have three ye...</td>\n",
              "      <td>698562</td>\n",
              "      <td>NaN</td>\n",
              "      <td>[@rawstory]</td>\n",
              "      <td>[https://t.co/wdt0kdur2f, https://t.co/z0anpt…]</td>\n",
              "    </tr>\n",
              "    <tr>\n",
              "      <th>3</th>\n",
              "      <td>1</td>\n",
              "      <td>#TodayinMaker# WIRED : 2016 was a pivotal year...</td>\n",
              "      <td>573736</td>\n",
              "      <td>[#todayinmaker#]</td>\n",
              "      <td>NaN</td>\n",
              "      <td>[https://t.co/44wotxtlcd]</td>\n",
              "    </tr>\n",
              "    <tr>\n",
              "      <th>4</th>\n",
              "      <td>1</td>\n",
              "      <td>RT @SoyNovioDeTodas: It's 2016, and a racist, ...</td>\n",
              "      <td>466954</td>\n",
              "      <td>[#electionnight]</td>\n",
              "      <td>[@soynoviodetodas]</td>\n",
              "      <td>NaN</td>\n",
              "    </tr>\n",
              "    <tr>\n",
              "      <th>...</th>\n",
              "      <td>...</td>\n",
              "      <td>...</td>\n",
              "      <td>...</td>\n",
              "      <td>...</td>\n",
              "      <td>...</td>\n",
              "      <td>...</td>\n",
              "    </tr>\n",
              "    <tr>\n",
              "      <th>15814</th>\n",
              "      <td>1</td>\n",
              "      <td>RT @ezlusztig: They took down the material on ...</td>\n",
              "      <td>22001</td>\n",
              "      <td>NaN</td>\n",
              "      <td>[@ezlusztig]</td>\n",
              "      <td>[https://…]</td>\n",
              "    </tr>\n",
              "    <tr>\n",
              "      <th>15815</th>\n",
              "      <td>2</td>\n",
              "      <td>RT @washingtonpost: How climate change could b...</td>\n",
              "      <td>17856</td>\n",
              "      <td>NaN</td>\n",
              "      <td>[@washingtonpost]</td>\n",
              "      <td>[https://t.co/rpfgvb2plq]</td>\n",
              "    </tr>\n",
              "    <tr>\n",
              "      <th>15816</th>\n",
              "      <td>0</td>\n",
              "      <td>notiven: RT: nytimesworld :What does Trump act...</td>\n",
              "      <td>384248</td>\n",
              "      <td>NaN</td>\n",
              "      <td>NaN</td>\n",
              "      <td>[https://t.co/0mp2]</td>\n",
              "    </tr>\n",
              "    <tr>\n",
              "      <th>15817</th>\n",
              "      <td>-1</td>\n",
              "      <td>RT @sara8smiles: Hey liberals the climate chan...</td>\n",
              "      <td>819732</td>\n",
              "      <td>[#agenda2030.]</td>\n",
              "      <td>[@sara8smiles]</td>\n",
              "      <td>NaN</td>\n",
              "    </tr>\n",
              "    <tr>\n",
              "      <th>15818</th>\n",
              "      <td>0</td>\n",
              "      <td>RT @Chet_Cannon: .@kurteichenwald's 'climate c...</td>\n",
              "      <td>806319</td>\n",
              "      <td>NaN</td>\n",
              "      <td>[@chet_cannon, @kurteichenwald]</td>\n",
              "      <td>[https://t.co/lp7uufcxdq]</td>\n",
              "    </tr>\n",
              "  </tbody>\n",
              "</table>\n",
              "<p>15819 rows × 6 columns</p>\n",
              "</div>"
            ],
            "text/plain": [
              "       sentiment  ...                                              url\n",
              "0              1  ...                        [https://t.co/yelvcefxkc]\n",
              "1              1  ...                                              NaN\n",
              "2              2  ...  [https://t.co/wdt0kdur2f, https://t.co/z0anpt…]\n",
              "3              1  ...                        [https://t.co/44wotxtlcd]\n",
              "4              1  ...                                              NaN\n",
              "...          ...  ...                                              ...\n",
              "15814          1  ...                                      [https://…]\n",
              "15815          2  ...                        [https://t.co/rpfgvb2plq]\n",
              "15816          0  ...                              [https://t.co/0mp2]\n",
              "15817         -1  ...                                              NaN\n",
              "15818          0  ...                        [https://t.co/lp7uufcxdq]\n",
              "\n",
              "[15819 rows x 6 columns]"
            ]
          },
          "metadata": {},
          "execution_count": 20
        }
      ]
    },
    {
      "cell_type": "markdown",
      "metadata": {
        "id": "xhgEccR_rdcv"
      },
      "source": [
        "### Remove noise \n",
        "\n",
        "we remove unneccesary information  such as urls,mentions, hashtags and RT."
      ],
      "id": "xhgEccR_rdcv"
    },
    {
      "cell_type": "code",
      "metadata": {
        "id": "1bbfc092"
      },
      "source": [
        "def remove_noice(df):\n",
        "    # Remove URLs\n",
        "    df['message'] = df['message'].str.replace('http\\S+|www.\\S+', '', case=False)\n",
        "\n",
        "    # Remove mentions\n",
        "    df['message'] = df['message'].str.replace('@\\w*', '', case=False)\n",
        "\n",
        "    # Removal hashtags\n",
        "    df['message'] = df['message'].str.replace('#.*?(?=\\s|$)', '', case=False)\n",
        "\n",
        "    # Remove 'RT'\n",
        "    df['message'] = df['message'].str.replace('RT', '', case=False)\n",
        "\n",
        "    return df.head()\n",
        "    "
      ],
      "id": "1bbfc092",
      "execution_count": 21,
      "outputs": []
    },
    {
      "cell_type": "code",
      "metadata": {
        "colab": {
          "base_uri": "https://localhost:8080/",
          "height": 206
        },
        "id": "ac4c8620",
        "outputId": "4085550f-3aa0-4a49-e0d6-a0752a8afd0b"
      },
      "source": [
        "remove_noice(train_df)"
      ],
      "id": "ac4c8620",
      "execution_count": 22,
      "outputs": [
        {
          "output_type": "execute_result",
          "data": {
            "text/html": [
              "<div>\n",
              "<style scoped>\n",
              "    .dataframe tbody tr th:only-of-type {\n",
              "        vertical-align: middle;\n",
              "    }\n",
              "\n",
              "    .dataframe tbody tr th {\n",
              "        vertical-align: top;\n",
              "    }\n",
              "\n",
              "    .dataframe thead th {\n",
              "        text-align: right;\n",
              "    }\n",
              "</style>\n",
              "<table border=\"1\" class=\"dataframe\">\n",
              "  <thead>\n",
              "    <tr style=\"text-align: right;\">\n",
              "      <th></th>\n",
              "      <th>sentiment</th>\n",
              "      <th>message</th>\n",
              "      <th>tweetid</th>\n",
              "      <th>hashtags</th>\n",
              "      <th>mentions</th>\n",
              "      <th>url</th>\n",
              "    </tr>\n",
              "  </thead>\n",
              "  <tbody>\n",
              "    <tr>\n",
              "      <th>0</th>\n",
              "      <td>1</td>\n",
              "      <td>PolySciMajor EPA chief doesn't think carbon di...</td>\n",
              "      <td>625221</td>\n",
              "      <td>NaN</td>\n",
              "      <td>[@mashable]</td>\n",
              "      <td>[https://t.co/yelvcefxkc]</td>\n",
              "    </tr>\n",
              "    <tr>\n",
              "      <th>1</th>\n",
              "      <td>1</td>\n",
              "      <td>It's not like we lack evidence of anthropogeni...</td>\n",
              "      <td>126103</td>\n",
              "      <td>NaN</td>\n",
              "      <td>NaN</td>\n",
              "      <td>NaN</td>\n",
              "    </tr>\n",
              "    <tr>\n",
              "      <th>2</th>\n",
              "      <td>2</td>\n",
              "      <td>: Researchers say we have three years to act ...</td>\n",
              "      <td>698562</td>\n",
              "      <td>NaN</td>\n",
              "      <td>[@rawstory]</td>\n",
              "      <td>[https://t.co/wdt0kdur2f, https://t.co/z0anpt…]</td>\n",
              "    </tr>\n",
              "    <tr>\n",
              "      <th>3</th>\n",
              "      <td>1</td>\n",
              "      <td>WIRED : 2016 was a pivotal year in the war on...</td>\n",
              "      <td>573736</td>\n",
              "      <td>[#todayinmaker#]</td>\n",
              "      <td>NaN</td>\n",
              "      <td>[https://t.co/44wotxtlcd]</td>\n",
              "    </tr>\n",
              "    <tr>\n",
              "      <th>4</th>\n",
              "      <td>1</td>\n",
              "      <td>: It's 2016, and a racist, sexist, climate ch...</td>\n",
              "      <td>466954</td>\n",
              "      <td>[#electionnight]</td>\n",
              "      <td>[@soynoviodetodas]</td>\n",
              "      <td>NaN</td>\n",
              "    </tr>\n",
              "  </tbody>\n",
              "</table>\n",
              "</div>"
            ],
            "text/plain": [
              "   sentiment  ...                                              url\n",
              "0          1  ...                        [https://t.co/yelvcefxkc]\n",
              "1          1  ...                                              NaN\n",
              "2          2  ...  [https://t.co/wdt0kdur2f, https://t.co/z0anpt…]\n",
              "3          1  ...                        [https://t.co/44wotxtlcd]\n",
              "4          1  ...                                              NaN\n",
              "\n",
              "[5 rows x 6 columns]"
            ]
          },
          "metadata": {},
          "execution_count": 22
        }
      ]
    },
    {
      "cell_type": "markdown",
      "metadata": {
        "id": "iXF-017LtIbU"
      },
      "source": [
        "  ### Remove punctuation and tokenise the text\n",
        "  We create a function that cleans the tweets by tokenizing, removing punctuation, removing digits and removing 1 character tokens."
      ],
      "id": "iXF-017LtIbU"
    },
    {
      "cell_type": "code",
      "metadata": {
        "id": "edb5a169"
      },
      "source": [
        "# Clean tweets\n",
        "def clean_tweets(df):\n",
        "  \n",
        "\n",
        "    # tokenizing the tweets\n",
        "    clean_tweets = df['message'].apply(TweetTokenizer().tokenize) ## first we tokenize\n",
        "\n",
        "    # remove punctuation\n",
        "    clean_tweets = clean_tweets.apply(lambda x : [token for token in x if token not in string.punctuation])\n",
        "\n",
        "    # removing digits from the tweets\n",
        "    clean_tweets = clean_tweets.apply(lambda x: [token for token in x if token not in list(string.digits)])\n",
        "\n",
        "    # lastly we remove all one character tokens\n",
        "    clean_tweets = clean_tweets.apply(lambda x: [token for token in x if len(token) > 1])\n",
        "    \n",
        "    df['cleaned_tweets'] = clean_tweets\n",
        "    \n",
        "    return df['cleaned_tweets']"
      ],
      "id": "edb5a169",
      "execution_count": 25,
      "outputs": []
    },
    {
      "cell_type": "code",
      "metadata": {
        "colab": {
          "base_uri": "https://localhost:8080/"
        },
        "id": "ddbd7b7a",
        "outputId": "cb3940b0-eba3-499b-f9c5-038f6afa275f"
      },
      "source": [
        "clean_tweets(train_df)"
      ],
      "id": "ddbd7b7a",
      "execution_count": 26,
      "outputs": [
        {
          "output_type": "execute_result",
          "data": {
            "text/plain": [
              "0        [PolySciMajor, EPA, chief, doesn't, think, car...\n",
              "1        [It's, not, like, we, lack, evidence, of, anth...\n",
              "2        [Researchers, say, we, have, three, years, to,...\n",
              "3        [WIRED, 2016, was, pivotal, year, in, the, war...\n",
              "4        [It's, 2016, and, racist, sexist, climate, cha...\n",
              "                               ...                        \n",
              "15814    [They, took, down, the, material, on, global, ...\n",
              "15815    [How, climate, change, could, be, breaking, up...\n",
              "15816    [notiven, nytimesworld, What, does, Trump, act...\n",
              "15817    [Hey, liberals, the, climate, change, crap, is...\n",
              "15818         [climate, change, equation, in, screenshots]\n",
              "Name: cleaned_tweets, Length: 15819, dtype: object"
            ]
          },
          "metadata": {},
          "execution_count": 26
        }
      ]
    },
    {
      "cell_type": "markdown",
      "metadata": {
        "id": "8e9af2bc"
      },
      "source": [
        "**Removing Stopwords**"
      ],
      "id": "8e9af2bc"
    },
    {
      "cell_type": "code",
      "metadata": {
        "id": "2302bf98",
        "outputId": "2ae110fc-2612-4b8e-b611-df002bf6caa9"
      },
      "source": [
        "from nltk.corpus import stopwords\n",
        "nltk.download('stopwords')\n",
        "\n",
        "stop = stopwords.words('english')\n",
        "\n",
        "# Convert to lower case\n",
        "train['cleaned_tweets'] = train['cleaned_tweets'].apply(lambda x: [word.lower() for word in x])\n",
        "\n",
        "# Remove stopwords\n",
        "train['no_stopwords'] = train['cleaned_tweets'].apply(lambda x: [item for item in x if item not in stop])\n",
        "\n",
        "train.head()"
      ],
      "id": "2302bf98",
      "execution_count": null,
      "outputs": [
        {
          "name": "stderr",
          "output_type": "stream",
          "text": [
            "[nltk_data] Downloading package stopwords to\n",
            "[nltk_data]     C:\\Users\\Kgotso\\AppData\\Roaming\\nltk_data...\n",
            "[nltk_data]   Package stopwords is already up-to-date!\n"
          ]
        },
        {
          "data": {
            "text/html": [
              "<div>\n",
              "<style scoped>\n",
              "    .dataframe tbody tr th:only-of-type {\n",
              "        vertical-align: middle;\n",
              "    }\n",
              "\n",
              "    .dataframe tbody tr th {\n",
              "        vertical-align: top;\n",
              "    }\n",
              "\n",
              "    .dataframe thead th {\n",
              "        text-align: right;\n",
              "    }\n",
              "</style>\n",
              "<table border=\"1\" class=\"dataframe\">\n",
              "  <thead>\n",
              "    <tr style=\"text-align: right;\">\n",
              "      <th></th>\n",
              "      <th>sentiment</th>\n",
              "      <th>message</th>\n",
              "      <th>tweetid</th>\n",
              "      <th>hashtags</th>\n",
              "      <th>mentions</th>\n",
              "      <th>url</th>\n",
              "      <th>cleaned_tweets</th>\n",
              "      <th>no_stopwords</th>\n",
              "    </tr>\n",
              "  </thead>\n",
              "  <tbody>\n",
              "    <tr>\n",
              "      <th>0</th>\n",
              "      <td>1</td>\n",
              "      <td>PolySciMajor EPA chief doesn't think carbon di...</td>\n",
              "      <td>625221</td>\n",
              "      <td>NaN</td>\n",
              "      <td>[@mashable]</td>\n",
              "      <td>[https://t.co/yelvcefxkc]</td>\n",
              "      <td>[polyscimajor, epa, chief, doesn't, think, car...</td>\n",
              "      <td>[polyscimajor, epa, chief, think, carbon, diox...</td>\n",
              "    </tr>\n",
              "    <tr>\n",
              "      <th>1</th>\n",
              "      <td>1</td>\n",
              "      <td>It's not like we lack evidence of anthropogeni...</td>\n",
              "      <td>126103</td>\n",
              "      <td>NaN</td>\n",
              "      <td>NaN</td>\n",
              "      <td>NaN</td>\n",
              "      <td>[it's, not, like, we, lack, evidence, of, anth...</td>\n",
              "      <td>[like, lack, evidence, anthropogenic, global, ...</td>\n",
              "    </tr>\n",
              "    <tr>\n",
              "      <th>2</th>\n",
              "      <td>2</td>\n",
              "      <td>: Researchers say we have three years to act ...</td>\n",
              "      <td>698562</td>\n",
              "      <td>NaN</td>\n",
              "      <td>[@rawstory]</td>\n",
              "      <td>[https://t.co/wdt0kdur2f, https://t.co/z0anpt…]</td>\n",
              "      <td>[researchers, say, we, have, three, years, to,...</td>\n",
              "      <td>[researchers, say, three, years, act, climate,...</td>\n",
              "    </tr>\n",
              "    <tr>\n",
              "      <th>3</th>\n",
              "      <td>1</td>\n",
              "      <td>WIRED : 2016 was a pivotal year in the war on...</td>\n",
              "      <td>573736</td>\n",
              "      <td>[#todayinmaker#]</td>\n",
              "      <td>NaN</td>\n",
              "      <td>[https://t.co/44wotxtlcd]</td>\n",
              "      <td>[wired, 2016, was, pivotal, year, in, the, war...</td>\n",
              "      <td>[wired, 2016, pivotal, year, war, climate, cha...</td>\n",
              "    </tr>\n",
              "    <tr>\n",
              "      <th>4</th>\n",
              "      <td>1</td>\n",
              "      <td>: It's 2016, and a racist, sexist, climate ch...</td>\n",
              "      <td>466954</td>\n",
              "      <td>[#electionnight]</td>\n",
              "      <td>[@soynoviodetodas]</td>\n",
              "      <td>NaN</td>\n",
              "      <td>[it's, 2016, and, racist, sexist, climate, cha...</td>\n",
              "      <td>[2016, racist, sexist, climate, change, denyin...</td>\n",
              "    </tr>\n",
              "  </tbody>\n",
              "</table>\n",
              "</div>"
            ],
            "text/plain": [
              "   sentiment                                            message  tweetid  \\\n",
              "0          1  PolySciMajor EPA chief doesn't think carbon di...   625221   \n",
              "1          1  It's not like we lack evidence of anthropogeni...   126103   \n",
              "2          2   : Researchers say we have three years to act ...   698562   \n",
              "3          1   WIRED : 2016 was a pivotal year in the war on...   573736   \n",
              "4          1   : It's 2016, and a racist, sexist, climate ch...   466954   \n",
              "\n",
              "           hashtags            mentions  \\\n",
              "0               NaN         [@mashable]   \n",
              "1               NaN                 NaN   \n",
              "2               NaN         [@rawstory]   \n",
              "3  [#todayinmaker#]                 NaN   \n",
              "4  [#electionnight]  [@soynoviodetodas]   \n",
              "\n",
              "                                               url  \\\n",
              "0                        [https://t.co/yelvcefxkc]   \n",
              "1                                              NaN   \n",
              "2  [https://t.co/wdt0kdur2f, https://t.co/z0anpt…]   \n",
              "3                        [https://t.co/44wotxtlcd]   \n",
              "4                                              NaN   \n",
              "\n",
              "                                      cleaned_tweets  \\\n",
              "0  [polyscimajor, epa, chief, doesn't, think, car...   \n",
              "1  [it's, not, like, we, lack, evidence, of, anth...   \n",
              "2  [researchers, say, we, have, three, years, to,...   \n",
              "3  [wired, 2016, was, pivotal, year, in, the, war...   \n",
              "4  [it's, 2016, and, racist, sexist, climate, cha...   \n",
              "\n",
              "                                        no_stopwords  \n",
              "0  [polyscimajor, epa, chief, think, carbon, diox...  \n",
              "1  [like, lack, evidence, anthropogenic, global, ...  \n",
              "2  [researchers, say, three, years, act, climate,...  \n",
              "3  [wired, 2016, pivotal, year, war, climate, cha...  \n",
              "4  [2016, racist, sexist, climate, change, denyin...  "
            ]
          },
          "execution_count": 179,
          "metadata": {},
          "output_type": "execute_result"
        }
      ]
    },
    {
      "cell_type": "markdown",
      "metadata": {
        "id": "be58f780"
      },
      "source": [
        "**Removing collection words**\n",
        "\n",
        "These are words used to query data from Twitter i.e\n",
        "\n",
        "\n",
        "1. climate\n",
        "\n",
        "2. climatechange\n",
        "\n",
        "3. change"
      ],
      "id": "be58f780"
    },
    {
      "cell_type": "code",
      "metadata": {
        "id": "48d1d3b4",
        "outputId": "a9041739-abe9-4052-875a-5f8cd339c987"
      },
      "source": [
        "collection_words = ['climatechange', 'climate', 'change']\n",
        "train['no_colwords'] = [[w for w in word if not w in collection_words]\n",
        "                 for word in train['no_stopwords']]\n",
        "\n",
        "train.head()"
      ],
      "id": "48d1d3b4",
      "execution_count": null,
      "outputs": [
        {
          "data": {
            "text/html": [
              "<div>\n",
              "<style scoped>\n",
              "    .dataframe tbody tr th:only-of-type {\n",
              "        vertical-align: middle;\n",
              "    }\n",
              "\n",
              "    .dataframe tbody tr th {\n",
              "        vertical-align: top;\n",
              "    }\n",
              "\n",
              "    .dataframe thead th {\n",
              "        text-align: right;\n",
              "    }\n",
              "</style>\n",
              "<table border=\"1\" class=\"dataframe\">\n",
              "  <thead>\n",
              "    <tr style=\"text-align: right;\">\n",
              "      <th></th>\n",
              "      <th>sentiment</th>\n",
              "      <th>message</th>\n",
              "      <th>tweetid</th>\n",
              "      <th>hashtags</th>\n",
              "      <th>mentions</th>\n",
              "      <th>url</th>\n",
              "      <th>cleaned_tweets</th>\n",
              "      <th>no_stopwords</th>\n",
              "      <th>no_colwords</th>\n",
              "    </tr>\n",
              "  </thead>\n",
              "  <tbody>\n",
              "    <tr>\n",
              "      <th>0</th>\n",
              "      <td>1</td>\n",
              "      <td>PolySciMajor EPA chief doesn't think carbon di...</td>\n",
              "      <td>625221</td>\n",
              "      <td>NaN</td>\n",
              "      <td>[@mashable]</td>\n",
              "      <td>[https://t.co/yelvcefxkc]</td>\n",
              "      <td>[polyscimajor, epa, chief, doesn't, think, car...</td>\n",
              "      <td>[polyscimajor, epa, chief, think, carbon, diox...</td>\n",
              "      <td>[polyscimajor, epa, chief, think, carbon, diox...</td>\n",
              "    </tr>\n",
              "    <tr>\n",
              "      <th>1</th>\n",
              "      <td>1</td>\n",
              "      <td>It's not like we lack evidence of anthropogeni...</td>\n",
              "      <td>126103</td>\n",
              "      <td>NaN</td>\n",
              "      <td>NaN</td>\n",
              "      <td>NaN</td>\n",
              "      <td>[it's, not, like, we, lack, evidence, of, anth...</td>\n",
              "      <td>[like, lack, evidence, anthropogenic, global, ...</td>\n",
              "      <td>[like, lack, evidence, anthropogenic, global, ...</td>\n",
              "    </tr>\n",
              "    <tr>\n",
              "      <th>2</th>\n",
              "      <td>2</td>\n",
              "      <td>: Researchers say we have three years to act ...</td>\n",
              "      <td>698562</td>\n",
              "      <td>NaN</td>\n",
              "      <td>[@rawstory]</td>\n",
              "      <td>[https://t.co/wdt0kdur2f, https://t.co/z0anpt…]</td>\n",
              "      <td>[researchers, say, we, have, three, years, to,...</td>\n",
              "      <td>[researchers, say, three, years, act, climate,...</td>\n",
              "      <td>[researchers, say, three, years, act, late]</td>\n",
              "    </tr>\n",
              "    <tr>\n",
              "      <th>3</th>\n",
              "      <td>1</td>\n",
              "      <td>WIRED : 2016 was a pivotal year in the war on...</td>\n",
              "      <td>573736</td>\n",
              "      <td>[#todayinmaker#]</td>\n",
              "      <td>NaN</td>\n",
              "      <td>[https://t.co/44wotxtlcd]</td>\n",
              "      <td>[wired, 2016, was, pivotal, year, in, the, war...</td>\n",
              "      <td>[wired, 2016, pivotal, year, war, climate, cha...</td>\n",
              "      <td>[wired, 2016, pivotal, year, war]</td>\n",
              "    </tr>\n",
              "    <tr>\n",
              "      <th>4</th>\n",
              "      <td>1</td>\n",
              "      <td>: It's 2016, and a racist, sexist, climate ch...</td>\n",
              "      <td>466954</td>\n",
              "      <td>[#electionnight]</td>\n",
              "      <td>[@soynoviodetodas]</td>\n",
              "      <td>NaN</td>\n",
              "      <td>[it's, 2016, and, racist, sexist, climate, cha...</td>\n",
              "      <td>[2016, racist, sexist, climate, change, denyin...</td>\n",
              "      <td>[2016, racist, sexist, denying, bigot, leading...</td>\n",
              "    </tr>\n",
              "  </tbody>\n",
              "</table>\n",
              "</div>"
            ],
            "text/plain": [
              "   sentiment                                            message  tweetid  \\\n",
              "0          1  PolySciMajor EPA chief doesn't think carbon di...   625221   \n",
              "1          1  It's not like we lack evidence of anthropogeni...   126103   \n",
              "2          2   : Researchers say we have three years to act ...   698562   \n",
              "3          1   WIRED : 2016 was a pivotal year in the war on...   573736   \n",
              "4          1   : It's 2016, and a racist, sexist, climate ch...   466954   \n",
              "\n",
              "           hashtags            mentions  \\\n",
              "0               NaN         [@mashable]   \n",
              "1               NaN                 NaN   \n",
              "2               NaN         [@rawstory]   \n",
              "3  [#todayinmaker#]                 NaN   \n",
              "4  [#electionnight]  [@soynoviodetodas]   \n",
              "\n",
              "                                               url  \\\n",
              "0                        [https://t.co/yelvcefxkc]   \n",
              "1                                              NaN   \n",
              "2  [https://t.co/wdt0kdur2f, https://t.co/z0anpt…]   \n",
              "3                        [https://t.co/44wotxtlcd]   \n",
              "4                                              NaN   \n",
              "\n",
              "                                      cleaned_tweets  \\\n",
              "0  [polyscimajor, epa, chief, doesn't, think, car...   \n",
              "1  [it's, not, like, we, lack, evidence, of, anth...   \n",
              "2  [researchers, say, we, have, three, years, to,...   \n",
              "3  [wired, 2016, was, pivotal, year, in, the, war...   \n",
              "4  [it's, 2016, and, racist, sexist, climate, cha...   \n",
              "\n",
              "                                        no_stopwords  \\\n",
              "0  [polyscimajor, epa, chief, think, carbon, diox...   \n",
              "1  [like, lack, evidence, anthropogenic, global, ...   \n",
              "2  [researchers, say, three, years, act, climate,...   \n",
              "3  [wired, 2016, pivotal, year, war, climate, cha...   \n",
              "4  [2016, racist, sexist, climate, change, denyin...   \n",
              "\n",
              "                                         no_colwords  \n",
              "0  [polyscimajor, epa, chief, think, carbon, diox...  \n",
              "1  [like, lack, evidence, anthropogenic, global, ...  \n",
              "2        [researchers, say, three, years, act, late]  \n",
              "3                  [wired, 2016, pivotal, year, war]  \n",
              "4  [2016, racist, sexist, denying, bigot, leading...  "
            ]
          },
          "execution_count": 180,
          "metadata": {},
          "output_type": "execute_result"
        }
      ]
    },
    {
      "cell_type": "markdown",
      "metadata": {
        "id": "ca45c8a9"
      },
      "source": [
        "**Most Frequent Words**"
      ],
      "id": "ca45c8a9"
    },
    {
      "cell_type": "code",
      "metadata": {
        "id": "76750a92"
      },
      "source": [
        "from collections import Counter\n",
        "cnt = Counter()\n",
        "for message in train['no_stopwords'].values:\n",
        "    for word in message:\n",
        "        cnt[word] += 1\n",
        "        \n",
        "# cnt.most_common()\n",
        "\n"
      ],
      "id": "76750a92",
      "execution_count": null,
      "outputs": []
    },
    {
      "cell_type": "code",
      "metadata": {
        "id": "a7b8bffa",
        "outputId": "ad58c83d-4751-4a11-c4fe-0e13f15caf5f"
      },
      "source": [
        "cnt.most_common()"
      ],
      "id": "a7b8bffa",
      "execution_count": null,
      "outputs": [
        {
          "data": {
            "text/plain": [
              "[('climate', 12643),\n",
              " ('change', 12577),\n",
              " ('global', 3782),\n",
              " ('warming', 3519),\n",
              " ('trump', 1960),\n",
              " ('believe', 1158),\n",
              " ('...', 809),\n",
              " ('real', 718),\n",
              " ('us', 713),\n",
              " ('going', 670),\n",
              " ('world', 655),\n",
              " ('people', 612),\n",
              " ('new', 542),\n",
              " ('via', 539),\n",
              " ('epa', 536),\n",
              " ('fight', 474),\n",
              " ('like', 470),\n",
              " ('says', 430),\n",
              " ('science', 424),\n",
              " ('die', 420),\n",
              " ('scientists', 414),\n",
              " ('hoax', 394),\n",
              " ('donald', 389),\n",
              " ('say', 370),\n",
              " ('think', 364),\n",
              " ('thinking', 354),\n",
              " ('president', 339),\n",
              " (\"trump's\", 322),\n",
              " ('husband', 317),\n",
              " ('could', 301),\n",
              " ('need', 299),\n",
              " ('one', 286),\n",
              " ('know', 285),\n",
              " ('china', 283),\n",
              " ('action', 281),\n",
              " ('make', 269),\n",
              " ('right', 267),\n",
              " ('would', 257),\n",
              " ('years', 253),\n",
              " ('thinks', 250),\n",
              " ('stop', 249),\n",
              " ('pruitt', 243),\n",
              " ('energy', 241),\n",
              " ('news', 240),\n",
              " ('still', 229),\n",
              " ('cause', 228),\n",
              " (\"i'm\", 227),\n",
              " ('weather', 227),\n",
              " ('must', 223),\n",
              " ('due', 220),\n",
              " ('time', 218),\n",
              " ('eah', 218),\n",
              " ('chinese', 216),\n",
              " ('planet', 214),\n",
              " ('want', 214),\n",
              " ('president-elect', 213),\n",
              " ('get', 212),\n",
              " ('scott', 212),\n",
              " ('denier', 208),\n",
              " ('good', 208),\n",
              " ('take', 207),\n",
              " ('carbon', 206),\n",
              " ('really', 206),\n",
              " ('deniers', 204),\n",
              " ('watch', 202),\n",
              " ('paris', 196),\n",
              " ('may', 194),\n",
              " ('obama', 189),\n",
              " ('see', 189),\n",
              " ('future', 186),\n",
              " ('help', 184),\n",
              " ('head', 181),\n",
              " ('first', 181),\n",
              " ('chief', 178),\n",
              " ('great', 175),\n",
              " ('back', 174),\n",
              " ('man', 174),\n",
              " ('combat', 173),\n",
              " ('today', 171),\n",
              " ('millions', 170),\n",
              " ('even', 167),\n",
              " ('co2', 166),\n",
              " ('issue', 166),\n",
              " ('ice', 165),\n",
              " ('mr', 162),\n",
              " (\"he's\", 162),\n",
              " ('america', 161),\n",
              " ('tã', 160),\n",
              " ('order', 159),\n",
              " ('tackle', 159),\n",
              " ('threat', 159),\n",
              " ('thing', 158),\n",
              " ('talk', 155),\n",
              " ('also', 152),\n",
              " ('care', 152),\n",
              " ('end', 151),\n",
              " ('data', 150),\n",
              " ('study', 149),\n",
              " ('effects', 148),\n",
              " ('government', 147),\n",
              " ('human', 147),\n",
              " ('denial', 146),\n",
              " ('year', 145),\n",
              " ('agreement', 145),\n",
              " ('way', 145),\n",
              " ('research', 144),\n",
              " ('denying', 142),\n",
              " ('house', 141),\n",
              " ('said', 141),\n",
              " (\"can't\", 141),\n",
              " ('plan', 141),\n",
              " ('white', 139),\n",
              " ('fighting', 139),\n",
              " ('made', 139),\n",
              " ('leaders', 137),\n",
              " ('go', 136),\n",
              " ('tell', 136),\n",
              " ('..', 135),\n",
              " ('scientist', 135),\n",
              " ('much', 135),\n",
              " ('every', 134),\n",
              " ('national', 133),\n",
              " ('deny', 133),\n",
              " ('big', 131),\n",
              " ('look', 131),\n",
              " ('al', 131),\n",
              " ('water', 130),\n",
              " (\"that's\", 130),\n",
              " ('country', 130),\n",
              " ('environment', 128),\n",
              " ('day', 127),\n",
              " ('impact', 126),\n",
              " ('rights', 124),\n",
              " ('exxon', 123),\n",
              " ('read', 120),\n",
              " ('repo', 120),\n",
              " ('evidence', 119),\n",
              " ('website', 118),\n",
              " ('health', 118),\n",
              " ('believes', 118),\n",
              " ('sea', 117),\n",
              " ('arctic', 117),\n",
              " ('deal', 117),\n",
              " ('policy', 116),\n",
              " ('gore', 116),\n",
              " ('wants', 114),\n",
              " ('un', 114),\n",
              " ('denies', 112),\n",
              " ('humans', 111),\n",
              " ('oil', 111),\n",
              " ('hillary', 109),\n",
              " (\"we're\", 109),\n",
              " ('fake', 109),\n",
              " (\"here's\", 109),\n",
              " ('created', 109),\n",
              " ('money', 107),\n",
              " ('keep', 107),\n",
              " ('give', 106),\n",
              " ('called', 105),\n",
              " ('state', 105),\n",
              " ('please', 104),\n",
              " ('httã', 104),\n",
              " ('billion', 103),\n",
              " ('address', 103),\n",
              " ('many', 103),\n",
              " ('clinton', 102),\n",
              " ('iã', 102),\n",
              " ('primary', 102),\n",
              " ('snow', 102),\n",
              " ('kids', 102),\n",
              " ('states', 101),\n",
              " ('cities', 101),\n",
              " ('caused', 101),\n",
              " ('hot', 100),\n",
              " ('ever', 100),\n",
              " ('major', 100),\n",
              " ('bad', 100),\n",
              " ('contributor', 100),\n",
              " ('vote', 99),\n",
              " ('degrees', 99),\n",
              " ('dioxide', 98),\n",
              " ('save', 98),\n",
              " ('things', 97),\n",
              " ('pa', 97),\n",
              " ('another', 97),\n",
              " ('act', 96),\n",
              " ('calls', 96),\n",
              " ('term', 96),\n",
              " ('tillerson', 96),\n",
              " ('making', 96),\n",
              " ('problem', 96),\n",
              " ('biggest', 96),\n",
              " ('pay', 96),\n",
              " ('hope', 95),\n",
              " ('nothing', 95),\n",
              " ('fact', 95),\n",
              " ('work', 95),\n",
              " ('suppo', 94),\n",
              " ('man-made', 94),\n",
              " ('california', 94),\n",
              " ('well', 94),\n",
              " ('leader', 94),\n",
              " ('maybe', 94),\n",
              " ('coal', 93),\n",
              " ('next', 93),\n",
              " ('call', 92),\n",
              " ('shows', 92),\n",
              " ('knows', 92),\n",
              " ('impacts', 91),\n",
              " ('last', 91),\n",
              " ('use', 90),\n",
              " ('penguin', 90),\n",
              " ('post', 90),\n",
              " ('war', 89),\n",
              " ('issues', 89),\n",
              " ('countries', 89),\n",
              " ('already', 89),\n",
              " ('join', 89),\n",
              " ('used', 89),\n",
              " ('everyone', 88),\n",
              " ('women', 88),\n",
              " ('top', 88),\n",
              " ('half', 87),\n",
              " ('administration', 87),\n",
              " ('scientific', 86),\n",
              " ('show', 86),\n",
              " ('lead', 86),\n",
              " ('actually', 86),\n",
              " ('causes', 85),\n",
              " ('blame', 85),\n",
              " ('saying', 85),\n",
              " ('causing', 85),\n",
              " ('debate', 85),\n",
              " ('green', 85),\n",
              " ('come', 84),\n",
              " ('sta', 84),\n",
              " ('secretary', 84),\n",
              " ('yes', 84),\n",
              " ('around', 84),\n",
              " ('nuclear', 84),\n",
              " ('americans', 84),\n",
              " ('role', 83),\n",
              " ('air', 83),\n",
              " ('effos', 83),\n",
              " ('taking', 83),\n",
              " ('leading', 82),\n",
              " ('food', 82),\n",
              " ('winter', 81),\n",
              " ('policies', 81),\n",
              " ('2016', 80),\n",
              " ('solar', 80),\n",
              " ('100', 78),\n",
              " ('agree', 78),\n",
              " ('best', 78),\n",
              " ('might', 78),\n",
              " ('travels', 77),\n",
              " ('clean', 77),\n",
              " ('never', 77),\n",
              " ('worse', 77),\n",
              " (\"let's\", 77),\n",
              " ('find', 77),\n",
              " ('political', 76),\n",
              " ('rex', 76),\n",
              " ('thanks', 76),\n",
              " ('something', 76),\n",
              " ('concept', 76),\n",
              " ('happening', 76),\n",
              " ('changeã', 75),\n",
              " ('bill', 75),\n",
              " ('yet', 75),\n",
              " ('someone', 75),\n",
              " ('media', 75),\n",
              " ('elected', 74),\n",
              " ('lol', 74),\n",
              " ('jobs', 74),\n",
              " ('without', 74),\n",
              " ('looks', 74),\n",
              " ('got', 74),\n",
              " ('republicans', 73),\n",
              " ('security', 73),\n",
              " ('ignore', 73),\n",
              " ('wrong', 73),\n",
              " ('face', 73),\n",
              " ('despite', 73),\n",
              " ('extreme', 72),\n",
              " ('environmental', 72),\n",
              " ('impoant', 72),\n",
              " ('polar', 72),\n",
              " ('november', 72),\n",
              " ('manufacturing', 72),\n",
              " ('since', 72),\n",
              " (\"there's\", 72),\n",
              " ('god', 71),\n",
              " ('public', 71),\n",
              " ('stake', 71),\n",
              " (\"world's\", 71),\n",
              " ('risk', 71),\n",
              " ('expes', 71),\n",
              " ('sign', 71),\n",
              " ('pollution', 71),\n",
              " ('natural', 71),\n",
              " ('times', 71),\n",
              " ('cold', 71),\n",
              " ('facts', 71),\n",
              " ('point', 70),\n",
              " ('record', 70),\n",
              " ('exist', 69),\n",
              " ('literally', 69),\n",
              " ('federal', 69),\n",
              " ('left', 69),\n",
              " ('dangerous', 68),\n",
              " ('levels', 68),\n",
              " ('emissions', 68),\n",
              " ('team', 67),\n",
              " ('protect', 67),\n",
              " ('better', 66),\n",
              " ('hey', 66),\n",
              " ('florida', 66),\n",
              " ('economy', 66),\n",
              " ('election', 66),\n",
              " ('continue', 66),\n",
              " ('mean', 66),\n",
              " ('united', 65),\n",
              " ('discuss', 65),\n",
              " ('risks', 65),\n",
              " ('makes', 65),\n",
              " ('fuck', 64),\n",
              " ('reality', 64),\n",
              " ('understand', 64),\n",
              " ('worried', 64),\n",
              " ('depament', 64),\n",
              " ('key', 64),\n",
              " ('less', 64),\n",
              " ('old', 63),\n",
              " ('rise', 63),\n",
              " ('video', 63),\n",
              " ('page', 62),\n",
              " ('serious', 62),\n",
              " ('guy', 62),\n",
              " ('away', 62),\n",
              " ('hrc', 62),\n",
              " ('instead', 62),\n",
              " ('nasa', 62),\n",
              " ('told', 62),\n",
              " ('children', 62),\n",
              " ('washington', 62),\n",
              " ('heat', 62),\n",
              " ('means', 62),\n",
              " ('panels', 61),\n",
              " ('resources', 61),\n",
              " ('agenda', 61),\n",
              " ('gonna', 61),\n",
              " ('whether', 60),\n",
              " ('tackling', 60),\n",
              " ('htt', 60),\n",
              " ('rising', 60),\n",
              " ('claims', 60),\n",
              " ('proposes', 60),\n",
              " ('thought', 60),\n",
              " ('outside', 60),\n",
              " ('listen', 59),\n",
              " ('kill', 59),\n",
              " ('doesnã', 59),\n",
              " ('put', 59),\n",
              " (\"they're\", 59),\n",
              " ('voted', 59),\n",
              " ('economic', 59),\n",
              " ('enough', 59),\n",
              " ('needs', 59),\n",
              " ('myth', 59),\n",
              " ('american', 59),\n",
              " ('move', 59),\n",
              " ('oh', 58),\n",
              " ('truth', 58),\n",
              " ('explain', 58),\n",
              " ('waste', 58),\n",
              " ('documentary', 58),\n",
              " ('hoaxã', 58),\n",
              " ('life', 58),\n",
              " ('worry', 58),\n",
              " ('ago', 58),\n",
              " ('story', 58),\n",
              " ('talking', 58),\n",
              " ('let', 57),\n",
              " ('tells', 57),\n",
              " ('concerned', 57),\n",
              " ('anything', 57),\n",
              " ('free', 57),\n",
              " ('installing', 56),\n",
              " ('meet', 56),\n",
              " ('ask', 56),\n",
              " ('species', 56),\n",
              " ('funding', 56),\n",
              " ('level', 56),\n",
              " ('power', 56),\n",
              " ('flood', 56),\n",
              " ('remember', 56),\n",
              " ('getting', 56),\n",
              " ('seriously', 56),\n",
              " ('main', 55),\n",
              " ('uk', 55),\n",
              " ('leonardo', 55),\n",
              " ('fucking', 55),\n",
              " ('budget', 55),\n",
              " ('trying', 55),\n",
              " ('business', 55),\n",
              " ('reform', 55),\n",
              " ('ocean', 55),\n",
              " ('scam', 55),\n",
              " ('wait', 54),\n",
              " ('live', 54),\n",
              " ('working', 54),\n",
              " ('love', 54),\n",
              " ('defense', 54),\n",
              " ('asked', 54),\n",
              " ('conference', 54),\n",
              " ('become', 54),\n",
              " ('solution', 54),\n",
              " ('comes', 54),\n",
              " ('gop', 54),\n",
              " ('age', 53),\n",
              " ('fossil', 53),\n",
              " ('anyone', 53),\n",
              " ('executive', 53),\n",
              " ('home', 53),\n",
              " ('equality', 53),\n",
              " ('agriculture', 53),\n",
              " ('whole', 52),\n",
              " ('solutions', 52),\n",
              " ('signs', 52),\n",
              " ('march', 52),\n",
              " ('hell', 52),\n",
              " ('companies', 52),\n",
              " ('done', 52),\n",
              " ('question', 51),\n",
              " ('warns', 51),\n",
              " ('john', 51),\n",
              " ('learn', 51),\n",
              " ('high', 51),\n",
              " ('always', 51),\n",
              " ('warm', 51),\n",
              " ('history', 50),\n",
              " ('emails', 50),\n",
              " ('aicle', 50),\n",
              " ('fear', 50),\n",
              " ('pick', 50),\n",
              " ('immigration', 50),\n",
              " ('bc', 50),\n",
              " ('ur', 50),\n",
              " ('humanity', 50),\n",
              " ('solve', 50),\n",
              " ('ëœâ', 50),\n",
              " ('sure', 49),\n",
              " ('tax', 49),\n",
              " ('trade', 49),\n",
              " ('club', 49),\n",
              " ('ways', 49),\n",
              " ('alias', 49),\n",
              " ('politicians', 49),\n",
              " ('curb', 49),\n",
              " ('everything', 49),\n",
              " ('york', 49),\n",
              " ('meeting', 49),\n",
              " ('film', 49),\n",
              " ('dicaprio', 48),\n",
              " ('india', 48),\n",
              " ('agency', 48),\n",
              " ('battle', 48),\n",
              " ('shit', 48),\n",
              " ('using', 48),\n",
              " ('side', 48),\n",
              " ('talks', 48),\n",
              " ('case', 48),\n",
              " ('little', 48),\n",
              " ('guardian', 48),\n",
              " ('worst', 48),\n",
              " ('progress', 48),\n",
              " ('disaster', 48),\n",
              " ('politics', 48),\n",
              " ('pact', 47),\n",
              " ('cost', 47),\n",
              " ('reason', 47),\n",
              " ('effect', 47),\n",
              " ('thank', 47),\n",
              " ('harvey', 47),\n",
              " ('strong', 47),\n",
              " ('poor', 47),\n",
              " ('coming', 47),\n",
              " ('nobody', 47),\n",
              " (\"y'all\", 47),\n",
              " ('entire', 46),\n",
              " ('questions', 46),\n",
              " ('guess', 46),\n",
              " ('office', 46),\n",
              " ('focus', 46),\n",
              " ('2017', 46),\n",
              " ('accept', 46),\n",
              " ('takes', 46),\n",
              " ('fund', 46),\n",
              " ('opinion', 46),\n",
              " ('two', 45),\n",
              " ('stand', 45),\n",
              " ('control', 45),\n",
              " ('course', 45),\n",
              " ('city', 45),\n",
              " ('lost', 45),\n",
              " ('australia', 45),\n",
              " ('destroy', 45),\n",
              " ('kerry', 45),\n",
              " ('russia', 45),\n",
              " ('matter', 45),\n",
              " ('ahead', 44),\n",
              " ('million', 44),\n",
              " ('cnn', 44),\n",
              " ('park', 44),\n",
              " ('far', 44),\n",
              " ('gets', 44),\n",
              " ('challenge', 44),\n",
              " ('reef', 44),\n",
              " ('skeptic', 44),\n",
              " (\"obama's\", 44),\n",
              " ('non-competitiã', 44),\n",
              " ('changes', 44),\n",
              " ('tweet', 44),\n",
              " ('hit', 44),\n",
              " ('gas', 43),\n",
              " ('leadership', 43),\n",
              " ('looking', 43),\n",
              " ('bears', 43),\n",
              " ('almost', 43),\n",
              " ('ppl', 43),\n",
              " ('link', 43),\n",
              " ('week', 43),\n",
              " ('affect', 43),\n",
              " ('gov', 43),\n",
              " ('email', 43),\n",
              " ('wow', 42),\n",
              " ('daily', 42),\n",
              " ('probably', 42),\n",
              " ('liberal', 42),\n",
              " ('exists', 42),\n",
              " ('conflict', 42),\n",
              " ('proof', 42),\n",
              " ('nations', 41),\n",
              " ('international', 41),\n",
              " ('thatã', 41),\n",
              " ('conservatives', 41),\n",
              " ('check', 41),\n",
              " ('stupid', 41),\n",
              " ('hear', 41),\n",
              " ('combating', 41),\n",
              " ('soon', 41),\n",
              " ('forests', 41),\n",
              " ('response', 41),\n",
              " ('together', 41),\n",
              " ('crisis', 41),\n",
              " ('consider', 41),\n",
              " ('record-breaking', 41),\n",
              " ('likely', 41),\n",
              " ('expect', 41),\n",
              " ('affected', 41),\n",
              " ('finds', 40),\n",
              " ('frightening', 40),\n",
              " ('admin', 40),\n",
              " ('try', 40),\n",
              " ('brown', 40),\n",
              " ('urgent', 40),\n",
              " ('charge', 40),\n",
              " ('melt', 40),\n",
              " ('cut', 40),\n",
              " ('nice', 40),\n",
              " ('build', 40),\n",
              " ('bigger', 40),\n",
              " ('tweets', 39),\n",
              " ('comprehensive', 39),\n",
              " ('spending', 39),\n",
              " ('trees', 39),\n",
              " ('open', 39),\n",
              " ('race', 39),\n",
              " ('social', 39),\n",
              " ('mention', 39),\n",
              " ('republican', 39),\n",
              " ('true', 39),\n",
              " ('africa', 39),\n",
              " ('urges', 39),\n",
              " ('liberals', 39),\n",
              " ('hard', 39),\n",
              " ('bleached', 39),\n",
              " ('farmers', 39),\n",
              " ('researchers', 38),\n",
              " ('either', 38),\n",
              " ('decades', 38),\n",
              " ('barrier', 38),\n",
              " ('ht', 38),\n",
              " ('sad', 38),\n",
              " ('cou', 38),\n",
              " ('ok', 38),\n",
              " ('bbc', 38),\n",
              " (\"what's\", 38),\n",
              " ('creating', 38),\n",
              " ('increase', 38),\n",
              " ('animal', 38),\n",
              " ('noh', 38),\n",
              " ('presidency', 38),\n",
              " ('reminder', 38),\n",
              " ('tonight', 38),\n",
              " ('bring', 38),\n",
              " ('anemones', 38),\n",
              " ('actions', 38),\n",
              " ('melting', 38),\n",
              " ('catastrophic', 38),\n",
              " ('invented', 37),\n",
              " ('stay', 37),\n",
              " (\"we'll\", 37),\n",
              " ('single', 37),\n",
              " ('message', 37),\n",
              " ('related', 37),\n",
              " ('summit', 37),\n",
              " ('turn', 37),\n",
              " ('days', 37),\n",
              " ('nature', 37),\n",
              " ('etc', 37),\n",
              " ('floods', 37),\n",
              " ('candidate', 37),\n",
              " ('common', 37),\n",
              " ('behind', 37),\n",
              " ('huge', 37),\n",
              " ('impoance', 37),\n",
              " ('lot', 37),\n",
              " ('cracks', 37),\n",
              " ('sanders', 37),\n",
              " ('transition', 37),\n",
              " ('approach', 36),\n",
              " ('majority', 36),\n",
              " ('win', 36),\n",
              " ('view', 36),\n",
              " ('mind', 36),\n",
              " ('danger', 36),\n",
              " ('shut', 36),\n",
              " ('govt', 36),\n",
              " ('oceans', 36),\n",
              " ('canada', 36),\n",
              " ('evolution', 36),\n",
              " ('industry', 36),\n",
              " ('name', 36),\n",
              " ('cooperation', 36),\n",
              " ('yeah', 36),\n",
              " ('full', 36),\n",
              " ('views', 36),\n",
              " ('indigenous', 36),\n",
              " ('names', 36),\n",
              " ('billions', 36),\n",
              " ('clear', 36),\n",
              " ('friends', 36),\n",
              " ('lgbt', 35),\n",
              " ('person', 35),\n",
              " ('long', 35),\n",
              " ('seen', 35),\n",
              " ('30', 35),\n",
              " ('answer', 35),\n",
              " ('wall', 35),\n",
              " ('least', 35),\n",
              " ('10', 35),\n",
              " ('raising', 35),\n",
              " ('drought', 35),\n",
              " ('consensus', 35),\n",
              " ('kind', 35),\n",
              " ('theory', 35),\n",
              " ('set', 35),\n",
              " ('spent', 35),\n",
              " ('pm', 35),\n",
              " ('rain', 35),\n",
              " ('perry', 34),\n",
              " ('noaa', 34),\n",
              " ('povey', 34),\n",
              " ('decision', 34),\n",
              " ('interesting', 34),\n",
              " ('deleted', 34),\n",
              " ('20', 34),\n",
              " ('suing', 34),\n",
              " ('pro-choice', 34),\n",
              " ('pope', 34),\n",
              " ('hurricane', 34),\n",
              " ('investors', 34),\n",
              " ('voting', 34),\n",
              " ('explains', 34),\n",
              " ('plans', 34),\n",
              " ('activity', 34),\n",
              " ('exit', 34),\n",
              " ('official', 34),\n",
              " ('reduce', 34),\n",
              " ('late', 33),\n",
              " ('racist', 33),\n",
              " ('healthcare', 33),\n",
              " ('underwater', 33),\n",
              " ('animals', 33),\n",
              " ('simple', 33),\n",
              " ('calling', 33),\n",
              " ('sorry', 33),\n",
              " ('loss', 33),\n",
              " ('th', 33),\n",
              " ('force', 33),\n",
              " ('feel', 33),\n",
              " ('stopping', 33),\n",
              " ('ignoring', 33),\n",
              " ('committee', 33),\n",
              " ('position', 33),\n",
              " ('cannot', 33),\n",
              " ('young', 33),\n",
              " ('repos', 33),\n",
              " ('education', 33),\n",
              " ('pushes', 33),\n",
              " ('powerful', 33),\n",
              " ('addressing', 33),\n",
              " ('among', 33),\n",
              " ('chance', 32),\n",
              " ('fuel', 32),\n",
              " ('wanna', 32),\n",
              " ('g20', 32),\n",
              " ('gay', 32),\n",
              " ('hate', 32),\n",
              " ('breaking', 32),\n",
              " ('step', 32),\n",
              " ('forward', 32),\n",
              " ('nyt', 32),\n",
              " ('antarctica', 32),\n",
              " ('events', 32),\n",
              " ('meat', 32),\n",
              " ('extinction', 32),\n",
              " ('according', 32),\n",
              " ('fix', 32),\n",
              " ('97', 32),\n",
              " ('linked', 32),\n",
              " ('human-caused', 32),\n",
              " ('communities', 32),\n",
              " ('sense', 32),\n",
              " ('unchaed', 32),\n",
              " ('territory', 32),\n",
              " ('rest', 32),\n",
              " ('prevent', 32),\n",
              " ('claim', 32),\n",
              " ('longer', 32),\n",
              " ('democrats', 32),\n",
              " ('south', 32),\n",
              " ('took', 32),\n",
              " ('michael', 32),\n",
              " ('jerry', 32),\n",
              " ('crime', 31),\n",
              " ('vulnerable', 31),\n",
              " ('job', 31),\n",
              " ('manipulated', 31),\n",
              " ('nye', 31),\n",
              " ('lives', 31),\n",
              " ('campaign', 31),\n",
              " ('slow', 31),\n",
              " ('russian', 31),\n",
              " ('across', 31),\n",
              " ('coral', 31),\n",
              " ('largest', 31),\n",
              " ('limited', 31),\n",
              " ('terrorism', 31),\n",
              " ('joined', 31),\n",
              " ('doubt', 31),\n",
              " ('50', 31),\n",
              " ('past', 31),\n",
              " ('minimum', 31),\n",
              " ('congress', 30),\n",
              " ('facing', 30),\n",
              " ('drop', 30),\n",
              " ('inaction', 30),\n",
              " ('trumpã', 30),\n",
              " ('challenges', 30),\n",
              " ('ban', 30),\n",
              " ('temperature', 30),\n",
              " ('hurricanes', 30),\n",
              " ('accord', 30),\n",
              " ('adaptation', 30),\n",
              " ('seems', 30),\n",
              " ('storms', 30),\n",
              " ('happened', 30),\n",
              " ('book', 30),\n",
              " ('speech', 30),\n",
              " ('discussing', 30),\n",
              " ('february', 30),\n",
              " (\"women's\", 30),\n",
              " ('elect', 30),\n",
              " ('beyond', 30),\n",
              " (\"i've\", 30),\n",
              " ('wage', 30),\n",
              " ('contributing', 30),\n",
              " ('renewable', 29),\n",
              " ('pretty', 29),\n",
              " ('latest', 29),\n",
              " ('rick', 29),\n",
              " ('imagine', 29),\n",
              " ('conspiracy', 29),\n",
              " ('ivanka', 29),\n",
              " ('ag', 29),\n",
              " ('putting', 29),\n",
              " ('warning', 29),\n",
              " ('awareness', 29),\n",
              " ('result', 29),\n",
              " ('cool', 29),\n",
              " ('turning', 29),\n",
              " ('staed', 29),\n",
              " ('community', 29),\n",
              " ('bye', 29),\n",
              " ('rare', 29),\n",
              " (\"i'll\", 29),\n",
              " ('wonder', 29),\n",
              " ('civil', 28),\n",
              " ('idea', 28),\n",
              " (\"we've\", 28),\n",
              " ('send', 28),\n",
              " ('create', 28),\n",
              " ('gone', 28),\n",
              " ('else', 28),\n",
              " ('number', 28),\n",
              " ('watching', 28),\n",
              " ('putin', 28),\n",
              " ('sun', 28),\n",
              " ('stance', 28),\n",
              " ('staff', 28),\n",
              " ('affects', 28),\n",
              " ('place', 28),\n",
              " ('damn', 28),\n",
              " ('military', 28),\n",
              " ('source', 28),\n",
              " ('bernie', 28),\n",
              " ('bloomberg', 28),\n",
              " ('doesnt', 28),\n",
              " ('leo', 28),\n",
              " ('law', 27),\n",
              " ('threatens', 27),\n",
              " ('warn', 27),\n",
              " ('cancel', 27),\n",
              " ('ceo', 27),\n",
              " (\"i'd\", 27),\n",
              " ('g7', 27),\n",
              " ('local', 27),\n",
              " ('needed', 27),\n",
              " ('chicago', 27),\n",
              " ('hello', 27),\n",
              " ('twitter', 27),\n",
              " ('fascist', 27),\n",
              " ('changing', 27),\n",
              " ('add', 27),\n",
              " ('doc', 27),\n",
              " ('fire', 27),\n",
              " ('failure', 27),\n",
              " ('dear', 27),\n",
              " ('believing', 26),\n",
              " ('contribute', 26),\n",
              " ('massive', 26),\n",
              " ('plants', 26),\n",
              " ('conservative', 26),\n",
              " ('dead', 26),\n",
              " ('eating', 26),\n",
              " ('reverse', 26),\n",
              " ('speaking', 26),\n",
              " ('demand', 26),\n",
              " (\"there'll\", 26),\n",
              " ('fraud', 26),\n",
              " ('words', 26),\n",
              " ('eu', 26),\n",
              " ('15', 26),\n",
              " ('1.5', 26),\n",
              " ('bet', 26),\n",
              " ('growth', 26),\n",
              " ('building', 26),\n",
              " ('corporate', 26),\n",
              " ('growing', 26),\n",
              " ('reasons', 26),\n",
              " ('leave', 26),\n",
              " ('share', 26),\n",
              " ('though', 25),\n",
              " ('google', 25),\n",
              " ('towards', 25),\n",
              " ('play', 25),\n",
              " ('wake', 25),\n",
              " ('anymore', 25),\n",
              " ('europe', 25),\n",
              " ('fox', 25),\n",
              " ('cdc', 25),\n",
              " ('plus', 25),\n",
              " ('speak', 25),\n",
              " ('night', 25),\n",
              " ('front', 25),\n",
              " ('laws', 25),\n",
              " ('ignored', 25),\n",
              " ('system', 25),\n",
              " ('htã', 25),\n",
              " ('mayor', 25),\n",
              " ('angry', 25),\n",
              " ('undo', 25),\n",
              " ('lectures', 25),\n",
              " ('list', 25),\n",
              " ('dr', 25),\n",
              " ('ya', 25),\n",
              " ('knowledge', 25),\n",
              " ('middle', 25),\n",
              " ('cuts', 25),\n",
              " ('paper', 25),\n",
              " ('racism', 25),\n",
              " ('class', 25),\n",
              " ('tracker', 25),\n",
              " ('found', 25),\n",
              " ('criticizes', 25),\n",
              " ('responsible', 25),\n",
              " ('happy', 25),\n",
              " ('online', 25),\n",
              " ('taxes', 25),\n",
              " ('goes', 24),\n",
              " ('game', 24),\n",
              " ('knew', 24),\n",
              " ('happens', 24),\n",
              " ('space', 24),\n",
              " ('inconvenient', 24),\n",
              " ('hottest', 24),\n",
              " ('funny', 24),\n",
              " ('line', 24),\n",
              " ('governments', 24),\n",
              " ('):', 24),\n",
              " ('predicted', 24),\n",
              " ('refuses', 24),\n",
              " ('river', 24),\n",
              " ('21', 24),\n",
              " ('victory', 24),\n",
              " ('fuels', 24),\n",
              " ('terrifying', 24),\n",
              " ('prove', 24),\n",
              " ('letter', 24),\n",
              " ('visit', 24),\n",
              " ('limit', 24),\n",
              " ('helping', 24),\n",
              " ('40', 24),\n",
              " ('general', 24),\n",
              " ('fossiã', 24),\n",
              " ('usa', 24),\n",
              " ('reuters', 24),\n",
              " ('cooling', 24),\n",
              " ('problems', 24),\n",
              " ('guys', 24),\n",
              " ('dept', 24),\n",
              " ('glad', 24),\n",
              " ('damage', 24),\n",
              " ('blog', 24),\n",
              " ('avoid', 24),\n",
              " ('wayne', 24),\n",
              " ('trigger', 24),\n",
              " ('breitba', 24),\n",
              " ('interview', 24),\n",
              " ('costs', 24),\n",
              " ('happen', 24),\n",
              " ('killing', 24),\n",
              " ('dollars', 24),\n",
              " ('lack', 23),\n",
              " ('removes', 23),\n",
              " ('abt', 23),\n",
              " ('choice', 23),\n",
              " ('protest', 23),\n",
              " ('ten', 23),\n",
              " ('enjoying', 23),\n",
              " ('silly', 23),\n",
              " ('books', 23),\n",
              " ('morning', 23),\n",
              " ('ideas', 23),\n",
              " ('lie', 23),\n",
              " ('phrase', 23),\n",
              " ('statement', 23),\n",
              " ('continues', 23),\n",
              " ('bear', 23),\n",
              " ('melania', 23),\n",
              " ('driving', 23),\n",
              " ('ny', 23),\n",
              " ('cabinet', 23),\n",
              " ('faces', 23),\n",
              " ('freezing', 23),\n",
              " ('programs', 23),\n",
              " ('raise', 23),\n",
              " ('run', 23),\n",
              " ('planning', 23),\n",
              " ('summer', 23),\n",
              " ('dying', 23),\n",
              " ('channel', 23),\n",
              " ('france', 23),\n",
              " ('oppounity', 23),\n",
              " ('hour', 23),\n",
              " ('rather', 23),\n",
              " ('minute', 23),\n",
              " ('threats', 23),\n",
              " ('push', 23),\n",
              " ('attack', 23),\n",
              " ('dup', 23),\n",
              " ('mitigation', 23),\n",
              " ('survive', 23),\n",
              " ('mentions', 23),\n",
              " ('viually', 23),\n",
              " ('three', 22),\n",
              " ('woh', 22),\n",
              " ...]"
            ]
          },
          "execution_count": 182,
          "metadata": {},
          "output_type": "execute_result"
        }
      ]
    },
    {
      "cell_type": "markdown",
      "metadata": {
        "id": "56d8b3b9"
      },
      "source": [
        "**Mapping the Sentiment class by name**"
      ],
      "id": "56d8b3b9"
    },
    {
      "cell_type": "code",
      "metadata": {
        "id": "ee9d5747",
        "outputId": "568bb22e-f3a3-4887-a988-ef232e845075"
      },
      "source": [
        "train['sent_labels']  = train['sentiment'].map({-1: 'Anti',0:'Neutral', 1:'Pro', 2:'News'})\n",
        "train_eda['sent_labels']  = train['sentiment'].map({-1: 'Anti',0:'Neutral', 1:'Pro', 2:'News'})\n",
        "\n",
        "# I need to understand more about mapping and why this was done\n",
        "train.head()"
      ],
      "id": "ee9d5747",
      "execution_count": null,
      "outputs": [
        {
          "data": {
            "text/html": [
              "<div>\n",
              "<style scoped>\n",
              "    .dataframe tbody tr th:only-of-type {\n",
              "        vertical-align: middle;\n",
              "    }\n",
              "\n",
              "    .dataframe tbody tr th {\n",
              "        vertical-align: top;\n",
              "    }\n",
              "\n",
              "    .dataframe thead th {\n",
              "        text-align: right;\n",
              "    }\n",
              "</style>\n",
              "<table border=\"1\" class=\"dataframe\">\n",
              "  <thead>\n",
              "    <tr style=\"text-align: right;\">\n",
              "      <th></th>\n",
              "      <th>sentiment</th>\n",
              "      <th>message</th>\n",
              "      <th>tweetid</th>\n",
              "      <th>hashtags</th>\n",
              "      <th>mentions</th>\n",
              "      <th>url</th>\n",
              "      <th>cleaned_tweets</th>\n",
              "      <th>no_stopwords</th>\n",
              "      <th>no_colwords</th>\n",
              "      <th>sent_labels</th>\n",
              "    </tr>\n",
              "  </thead>\n",
              "  <tbody>\n",
              "    <tr>\n",
              "      <th>0</th>\n",
              "      <td>1</td>\n",
              "      <td>PolySciMajor EPA chief doesn't think carbon di...</td>\n",
              "      <td>625221</td>\n",
              "      <td>NaN</td>\n",
              "      <td>[@mashable]</td>\n",
              "      <td>[https://t.co/yelvcefxkc]</td>\n",
              "      <td>[polyscimajor, epa, chief, doesn't, think, car...</td>\n",
              "      <td>[polyscimajor, epa, chief, think, carbon, diox...</td>\n",
              "      <td>[polyscimajor, epa, chief, think, carbon, diox...</td>\n",
              "      <td>Pro</td>\n",
              "    </tr>\n",
              "    <tr>\n",
              "      <th>1</th>\n",
              "      <td>1</td>\n",
              "      <td>It's not like we lack evidence of anthropogeni...</td>\n",
              "      <td>126103</td>\n",
              "      <td>NaN</td>\n",
              "      <td>NaN</td>\n",
              "      <td>NaN</td>\n",
              "      <td>[it's, not, like, we, lack, evidence, of, anth...</td>\n",
              "      <td>[like, lack, evidence, anthropogenic, global, ...</td>\n",
              "      <td>[like, lack, evidence, anthropogenic, global, ...</td>\n",
              "      <td>Pro</td>\n",
              "    </tr>\n",
              "    <tr>\n",
              "      <th>2</th>\n",
              "      <td>2</td>\n",
              "      <td>: Researchers say we have three years to act ...</td>\n",
              "      <td>698562</td>\n",
              "      <td>NaN</td>\n",
              "      <td>[@rawstory]</td>\n",
              "      <td>[https://t.co/wdt0kdur2f, https://t.co/z0anpt…]</td>\n",
              "      <td>[researchers, say, we, have, three, years, to,...</td>\n",
              "      <td>[researchers, say, three, years, act, climate,...</td>\n",
              "      <td>[researchers, say, three, years, act, late]</td>\n",
              "      <td>News</td>\n",
              "    </tr>\n",
              "    <tr>\n",
              "      <th>3</th>\n",
              "      <td>1</td>\n",
              "      <td>WIRED : 2016 was a pivotal year in the war on...</td>\n",
              "      <td>573736</td>\n",
              "      <td>[#todayinmaker#]</td>\n",
              "      <td>NaN</td>\n",
              "      <td>[https://t.co/44wotxtlcd]</td>\n",
              "      <td>[wired, 2016, was, pivotal, year, in, the, war...</td>\n",
              "      <td>[wired, 2016, pivotal, year, war, climate, cha...</td>\n",
              "      <td>[wired, 2016, pivotal, year, war]</td>\n",
              "      <td>Pro</td>\n",
              "    </tr>\n",
              "    <tr>\n",
              "      <th>4</th>\n",
              "      <td>1</td>\n",
              "      <td>: It's 2016, and a racist, sexist, climate ch...</td>\n",
              "      <td>466954</td>\n",
              "      <td>[#electionnight]</td>\n",
              "      <td>[@soynoviodetodas]</td>\n",
              "      <td>NaN</td>\n",
              "      <td>[it's, 2016, and, racist, sexist, climate, cha...</td>\n",
              "      <td>[2016, racist, sexist, climate, change, denyin...</td>\n",
              "      <td>[2016, racist, sexist, denying, bigot, leading...</td>\n",
              "      <td>Pro</td>\n",
              "    </tr>\n",
              "  </tbody>\n",
              "</table>\n",
              "</div>"
            ],
            "text/plain": [
              "   sentiment                                            message  tweetid  \\\n",
              "0          1  PolySciMajor EPA chief doesn't think carbon di...   625221   \n",
              "1          1  It's not like we lack evidence of anthropogeni...   126103   \n",
              "2          2   : Researchers say we have three years to act ...   698562   \n",
              "3          1   WIRED : 2016 was a pivotal year in the war on...   573736   \n",
              "4          1   : It's 2016, and a racist, sexist, climate ch...   466954   \n",
              "\n",
              "           hashtags            mentions  \\\n",
              "0               NaN         [@mashable]   \n",
              "1               NaN                 NaN   \n",
              "2               NaN         [@rawstory]   \n",
              "3  [#todayinmaker#]                 NaN   \n",
              "4  [#electionnight]  [@soynoviodetodas]   \n",
              "\n",
              "                                               url  \\\n",
              "0                        [https://t.co/yelvcefxkc]   \n",
              "1                                              NaN   \n",
              "2  [https://t.co/wdt0kdur2f, https://t.co/z0anpt…]   \n",
              "3                        [https://t.co/44wotxtlcd]   \n",
              "4                                              NaN   \n",
              "\n",
              "                                      cleaned_tweets  \\\n",
              "0  [polyscimajor, epa, chief, doesn't, think, car...   \n",
              "1  [it's, not, like, we, lack, evidence, of, anth...   \n",
              "2  [researchers, say, we, have, three, years, to,...   \n",
              "3  [wired, 2016, was, pivotal, year, in, the, war...   \n",
              "4  [it's, 2016, and, racist, sexist, climate, cha...   \n",
              "\n",
              "                                        no_stopwords  \\\n",
              "0  [polyscimajor, epa, chief, think, carbon, diox...   \n",
              "1  [like, lack, evidence, anthropogenic, global, ...   \n",
              "2  [researchers, say, three, years, act, climate,...   \n",
              "3  [wired, 2016, pivotal, year, war, climate, cha...   \n",
              "4  [2016, racist, sexist, climate, change, denyin...   \n",
              "\n",
              "                                         no_colwords sent_labels  \n",
              "0  [polyscimajor, epa, chief, think, carbon, diox...         Pro  \n",
              "1  [like, lack, evidence, anthropogenic, global, ...         Pro  \n",
              "2        [researchers, say, three, years, act, late]        News  \n",
              "3                  [wired, 2016, pivotal, year, war]         Pro  \n",
              "4  [2016, racist, sexist, denying, bigot, leading...         Pro  "
            ]
          },
          "execution_count": 183,
          "metadata": {},
          "output_type": "execute_result"
        }
      ]
    },
    {
      "cell_type": "markdown",
      "metadata": {
        "id": "b6aa3e10"
      },
      "source": [
        "**Get the length of each raw tweet**"
      ],
      "id": "b6aa3e10"
    },
    {
      "cell_type": "code",
      "metadata": {
        "id": "e7c390e7"
      },
      "source": [
        "train['text_length'] = train_eda['message'].apply(lambda x: len(x))"
      ],
      "id": "e7c390e7",
      "execution_count": null,
      "outputs": []
    },
    {
      "cell_type": "markdown",
      "metadata": {
        "id": "863ac5ed"
      },
      "source": [
        "**Separate Dataframes of tweets for each sentiment**"
      ],
      "id": "863ac5ed"
    },
    {
      "cell_type": "code",
      "metadata": {
        "id": "2f8a13be",
        "outputId": "b4e77134-b1c3-4d71-bc10-7ea064a8b702"
      },
      "source": [
        "# Dataframe for neutral tweets\n",
        "neutral_df = train[train['sentiment'] == 0]\n",
        "neutral_df.head()"
      ],
      "id": "2f8a13be",
      "execution_count": null,
      "outputs": [
        {
          "data": {
            "text/html": [
              "<div>\n",
              "<style scoped>\n",
              "    .dataframe tbody tr th:only-of-type {\n",
              "        vertical-align: middle;\n",
              "    }\n",
              "\n",
              "    .dataframe tbody tr th {\n",
              "        vertical-align: top;\n",
              "    }\n",
              "\n",
              "    .dataframe thead th {\n",
              "        text-align: right;\n",
              "    }\n",
              "</style>\n",
              "<table border=\"1\" class=\"dataframe\">\n",
              "  <thead>\n",
              "    <tr style=\"text-align: right;\">\n",
              "      <th></th>\n",
              "      <th>sentiment</th>\n",
              "      <th>message</th>\n",
              "      <th>tweetid</th>\n",
              "      <th>hashtags</th>\n",
              "      <th>mentions</th>\n",
              "      <th>url</th>\n",
              "      <th>cleaned_tweets</th>\n",
              "      <th>no_stopwords</th>\n",
              "      <th>no_colwords</th>\n",
              "      <th>sent_labels</th>\n",
              "      <th>text_length</th>\n",
              "    </tr>\n",
              "  </thead>\n",
              "  <tbody>\n",
              "    <tr>\n",
              "      <th>19</th>\n",
              "      <td>0</td>\n",
              "      <td>Calum: *tweets abt reunitingish w the cast*\\n-...</td>\n",
              "      <td>547924</td>\n",
              "      <td>NaN</td>\n",
              "      <td>NaN</td>\n",
              "      <td>NaN</td>\n",
              "      <td>[calum, tweets, abt, reunitingish, the, cast, ...</td>\n",
              "      <td>[calum, tweets, abt, reunitingish, cast, sees,...</td>\n",
              "      <td>[calum, tweets, abt, reunitingish, cast, sees,...</td>\n",
              "      <td>Neutral</td>\n",
              "      <td>140</td>\n",
              "    </tr>\n",
              "    <tr>\n",
              "      <th>22</th>\n",
              "      <td>0</td>\n",
              "      <td>we also met this guy, he let us in on some tru...</td>\n",
              "      <td>67545</td>\n",
              "      <td>NaN</td>\n",
              "      <td>NaN</td>\n",
              "      <td>[https://t.co/q7yomcmzaj]</td>\n",
              "      <td>[we, also, met, this, guy, he, let, us, in, on...</td>\n",
              "      <td>[also, met, guy, let, us, truth, climate, chan...</td>\n",
              "      <td>[also, met, guy, let, us, truth, gay, people, ...</td>\n",
              "      <td>Neutral</td>\n",
              "      <td>121</td>\n",
              "    </tr>\n",
              "    <tr>\n",
              "      <th>30</th>\n",
              "      <td>0</td>\n",
              "      <td>are these the same scientists that denounce c...</td>\n",
              "      <td>365051</td>\n",
              "      <td>NaN</td>\n",
              "      <td>[@jnp_ftw]</td>\n",
              "      <td>NaN</td>\n",
              "      <td>[are, these, the, same, scientists, that, deno...</td>\n",
              "      <td>[scientists, denounce, climate, change, choice]</td>\n",
              "      <td>[scientists, denounce, choice]</td>\n",
              "      <td>Neutral</td>\n",
              "      <td>86</td>\n",
              "    </tr>\n",
              "    <tr>\n",
              "      <th>39</th>\n",
              "      <td>0</td>\n",
              "      <td>We’ ve dealt with simple issues like climate c...</td>\n",
              "      <td>403368</td>\n",
              "      <td>[#qanda]</td>\n",
              "      <td>NaN</td>\n",
              "      <td>NaN</td>\n",
              "      <td>[we, ve, dealt, with, simple, issues, like, cl...</td>\n",
              "      <td>[dealt, simple, issues, like, climate, change,...</td>\n",
              "      <td>[dealt, simple, issues, like, energy, policy, ...</td>\n",
              "      <td>Neutral</td>\n",
              "      <td>115</td>\n",
              "    </tr>\n",
              "    <tr>\n",
              "      <th>43</th>\n",
              "      <td>0</td>\n",
              "      <td>: Win probability is bullshit man. I saw the ...</td>\n",
              "      <td>326916</td>\n",
              "      <td>NaN</td>\n",
              "      <td>[@andrewsharp]</td>\n",
              "      <td>NaN</td>\n",
              "      <td>[win, probability, is, bullshit, man, saw, the...</td>\n",
              "      <td>[win, probability, bullshit, man, saw, nba, fi...</td>\n",
              "      <td>[win, probability, bullshit, man, saw, nba, fi...</td>\n",
              "      <td>Neutral</td>\n",
              "      <td>120</td>\n",
              "    </tr>\n",
              "  </tbody>\n",
              "</table>\n",
              "</div>"
            ],
            "text/plain": [
              "    sentiment                                            message  tweetid  \\\n",
              "19          0  Calum: *tweets abt reunitingish w the cast*\\n-...   547924   \n",
              "22          0  we also met this guy, he let us in on some tru...    67545   \n",
              "30          0   are these the same scientists that denounce c...   365051   \n",
              "39          0  We’ ve dealt with simple issues like climate c...   403368   \n",
              "43          0   : Win probability is bullshit man. I saw the ...   326916   \n",
              "\n",
              "    hashtags        mentions                        url  \\\n",
              "19       NaN             NaN                        NaN   \n",
              "22       NaN             NaN  [https://t.co/q7yomcmzaj]   \n",
              "30       NaN      [@jnp_ftw]                        NaN   \n",
              "39  [#qanda]             NaN                        NaN   \n",
              "43       NaN  [@andrewsharp]                        NaN   \n",
              "\n",
              "                                       cleaned_tweets  \\\n",
              "19  [calum, tweets, abt, reunitingish, the, cast, ...   \n",
              "22  [we, also, met, this, guy, he, let, us, in, on...   \n",
              "30  [are, these, the, same, scientists, that, deno...   \n",
              "39  [we, ve, dealt, with, simple, issues, like, cl...   \n",
              "43  [win, probability, is, bullshit, man, saw, the...   \n",
              "\n",
              "                                         no_stopwords  \\\n",
              "19  [calum, tweets, abt, reunitingish, cast, sees,...   \n",
              "22  [also, met, guy, let, us, truth, climate, chan...   \n",
              "30    [scientists, denounce, climate, change, choice]   \n",
              "39  [dealt, simple, issues, like, climate, change,...   \n",
              "43  [win, probability, bullshit, man, saw, nba, fi...   \n",
              "\n",
              "                                          no_colwords sent_labels  text_length  \n",
              "19  [calum, tweets, abt, reunitingish, cast, sees,...     Neutral          140  \n",
              "22  [also, met, guy, let, us, truth, gay, people, ...     Neutral          121  \n",
              "30                     [scientists, denounce, choice]     Neutral           86  \n",
              "39  [dealt, simple, issues, like, energy, policy, ...     Neutral          115  \n",
              "43  [win, probability, bullshit, man, saw, nba, fi...     Neutral          120  "
            ]
          },
          "execution_count": 185,
          "metadata": {},
          "output_type": "execute_result"
        }
      ]
    },
    {
      "cell_type": "code",
      "metadata": {
        "id": "e89601ac",
        "outputId": "76712729-519b-40d7-ec93-cecdfed8c51c"
      },
      "source": [
        "# Dataframe for pro tweets\n",
        "pro_df = train[train['sentiment'] == 1]\n",
        "pro_df.head()"
      ],
      "id": "e89601ac",
      "execution_count": null,
      "outputs": [
        {
          "data": {
            "text/html": [
              "<div>\n",
              "<style scoped>\n",
              "    .dataframe tbody tr th:only-of-type {\n",
              "        vertical-align: middle;\n",
              "    }\n",
              "\n",
              "    .dataframe tbody tr th {\n",
              "        vertical-align: top;\n",
              "    }\n",
              "\n",
              "    .dataframe thead th {\n",
              "        text-align: right;\n",
              "    }\n",
              "</style>\n",
              "<table border=\"1\" class=\"dataframe\">\n",
              "  <thead>\n",
              "    <tr style=\"text-align: right;\">\n",
              "      <th></th>\n",
              "      <th>sentiment</th>\n",
              "      <th>message</th>\n",
              "      <th>tweetid</th>\n",
              "      <th>hashtags</th>\n",
              "      <th>mentions</th>\n",
              "      <th>url</th>\n",
              "      <th>cleaned_tweets</th>\n",
              "      <th>no_stopwords</th>\n",
              "      <th>no_colwords</th>\n",
              "      <th>sent_labels</th>\n",
              "      <th>text_length</th>\n",
              "    </tr>\n",
              "  </thead>\n",
              "  <tbody>\n",
              "    <tr>\n",
              "      <th>0</th>\n",
              "      <td>1</td>\n",
              "      <td>PolySciMajor EPA chief doesn't think carbon di...</td>\n",
              "      <td>625221</td>\n",
              "      <td>NaN</td>\n",
              "      <td>[@mashable]</td>\n",
              "      <td>[https://t.co/yelvcefxkc]</td>\n",
              "      <td>[polyscimajor, epa, chief, doesn't, think, car...</td>\n",
              "      <td>[polyscimajor, epa, chief, think, carbon, diox...</td>\n",
              "      <td>[polyscimajor, epa, chief, think, carbon, diox...</td>\n",
              "      <td>Pro</td>\n",
              "      <td>140</td>\n",
              "    </tr>\n",
              "    <tr>\n",
              "      <th>1</th>\n",
              "      <td>1</td>\n",
              "      <td>It's not like we lack evidence of anthropogeni...</td>\n",
              "      <td>126103</td>\n",
              "      <td>NaN</td>\n",
              "      <td>NaN</td>\n",
              "      <td>NaN</td>\n",
              "      <td>[it's, not, like, we, lack, evidence, of, anth...</td>\n",
              "      <td>[like, lack, evidence, anthropogenic, global, ...</td>\n",
              "      <td>[like, lack, evidence, anthropogenic, global, ...</td>\n",
              "      <td>Pro</td>\n",
              "      <td>62</td>\n",
              "    </tr>\n",
              "    <tr>\n",
              "      <th>3</th>\n",
              "      <td>1</td>\n",
              "      <td>WIRED : 2016 was a pivotal year in the war on...</td>\n",
              "      <td>573736</td>\n",
              "      <td>[#todayinmaker#]</td>\n",
              "      <td>NaN</td>\n",
              "      <td>[https://t.co/44wotxtlcd]</td>\n",
              "      <td>[wired, 2016, was, pivotal, year, in, the, war...</td>\n",
              "      <td>[wired, 2016, pivotal, year, war, climate, cha...</td>\n",
              "      <td>[wired, 2016, pivotal, year, war]</td>\n",
              "      <td>Pro</td>\n",
              "      <td>99</td>\n",
              "    </tr>\n",
              "    <tr>\n",
              "      <th>4</th>\n",
              "      <td>1</td>\n",
              "      <td>: It's 2016, and a racist, sexist, climate ch...</td>\n",
              "      <td>466954</td>\n",
              "      <td>[#electionnight]</td>\n",
              "      <td>[@soynoviodetodas]</td>\n",
              "      <td>NaN</td>\n",
              "      <td>[it's, 2016, and, racist, sexist, climate, cha...</td>\n",
              "      <td>[2016, racist, sexist, climate, change, denyin...</td>\n",
              "      <td>[2016, racist, sexist, denying, bigot, leading...</td>\n",
              "      <td>Pro</td>\n",
              "      <td>122</td>\n",
              "    </tr>\n",
              "    <tr>\n",
              "      <th>5</th>\n",
              "      <td>1</td>\n",
              "      <td>Woh a read whether you do or don't believe in ...</td>\n",
              "      <td>425577</td>\n",
              "      <td>NaN</td>\n",
              "      <td>NaN</td>\n",
              "      <td>[https://t.co/gglzvnyjun, https://t.co/7afe2ma...</td>\n",
              "      <td>[woh, read, whether, you, do, or, don't, belie...</td>\n",
              "      <td>[woh, read, whether, believe, climate, change]</td>\n",
              "      <td>[woh, read, whether, believe]</td>\n",
              "      <td>Pro</td>\n",
              "      <td>110</td>\n",
              "    </tr>\n",
              "  </tbody>\n",
              "</table>\n",
              "</div>"
            ],
            "text/plain": [
              "   sentiment                                            message  tweetid  \\\n",
              "0          1  PolySciMajor EPA chief doesn't think carbon di...   625221   \n",
              "1          1  It's not like we lack evidence of anthropogeni...   126103   \n",
              "3          1   WIRED : 2016 was a pivotal year in the war on...   573736   \n",
              "4          1   : It's 2016, and a racist, sexist, climate ch...   466954   \n",
              "5          1  Woh a read whether you do or don't believe in ...   425577   \n",
              "\n",
              "           hashtags            mentions  \\\n",
              "0               NaN         [@mashable]   \n",
              "1               NaN                 NaN   \n",
              "3  [#todayinmaker#]                 NaN   \n",
              "4  [#electionnight]  [@soynoviodetodas]   \n",
              "5               NaN                 NaN   \n",
              "\n",
              "                                                 url  \\\n",
              "0                          [https://t.co/yelvcefxkc]   \n",
              "1                                                NaN   \n",
              "3                          [https://t.co/44wotxtlcd]   \n",
              "4                                                NaN   \n",
              "5  [https://t.co/gglzvnyjun, https://t.co/7afe2ma...   \n",
              "\n",
              "                                      cleaned_tweets  \\\n",
              "0  [polyscimajor, epa, chief, doesn't, think, car...   \n",
              "1  [it's, not, like, we, lack, evidence, of, anth...   \n",
              "3  [wired, 2016, was, pivotal, year, in, the, war...   \n",
              "4  [it's, 2016, and, racist, sexist, climate, cha...   \n",
              "5  [woh, read, whether, you, do, or, don't, belie...   \n",
              "\n",
              "                                        no_stopwords  \\\n",
              "0  [polyscimajor, epa, chief, think, carbon, diox...   \n",
              "1  [like, lack, evidence, anthropogenic, global, ...   \n",
              "3  [wired, 2016, pivotal, year, war, climate, cha...   \n",
              "4  [2016, racist, sexist, climate, change, denyin...   \n",
              "5     [woh, read, whether, believe, climate, change]   \n",
              "\n",
              "                                         no_colwords sent_labels  text_length  \n",
              "0  [polyscimajor, epa, chief, think, carbon, diox...         Pro          140  \n",
              "1  [like, lack, evidence, anthropogenic, global, ...         Pro           62  \n",
              "3                  [wired, 2016, pivotal, year, war]         Pro           99  \n",
              "4  [2016, racist, sexist, denying, bigot, leading...         Pro          122  \n",
              "5                      [woh, read, whether, believe]         Pro          110  "
            ]
          },
          "execution_count": 186,
          "metadata": {},
          "output_type": "execute_result"
        }
      ]
    },
    {
      "cell_type": "code",
      "metadata": {
        "id": "70e5170b",
        "outputId": "1ad6c16a-4789-43b3-8bd2-0289cbf44c15"
      },
      "source": [
        "# DtataFrame for anti tweets\n",
        "anti_df = train[train['sentiment'] == -1]\n",
        "anti_df.head()"
      ],
      "id": "70e5170b",
      "execution_count": null,
      "outputs": [
        {
          "data": {
            "text/html": [
              "<div>\n",
              "<style scoped>\n",
              "    .dataframe tbody tr th:only-of-type {\n",
              "        vertical-align: middle;\n",
              "    }\n",
              "\n",
              "    .dataframe tbody tr th {\n",
              "        vertical-align: top;\n",
              "    }\n",
              "\n",
              "    .dataframe thead th {\n",
              "        text-align: right;\n",
              "    }\n",
              "</style>\n",
              "<table border=\"1\" class=\"dataframe\">\n",
              "  <thead>\n",
              "    <tr style=\"text-align: right;\">\n",
              "      <th></th>\n",
              "      <th>sentiment</th>\n",
              "      <th>message</th>\n",
              "      <th>tweetid</th>\n",
              "      <th>hashtags</th>\n",
              "      <th>mentions</th>\n",
              "      <th>url</th>\n",
              "      <th>cleaned_tweets</th>\n",
              "      <th>no_stopwords</th>\n",
              "      <th>no_colwords</th>\n",
              "      <th>sent_labels</th>\n",
              "      <th>text_length</th>\n",
              "    </tr>\n",
              "  </thead>\n",
              "  <tbody>\n",
              "    <tr>\n",
              "      <th>28</th>\n",
              "      <td>-1</td>\n",
              "      <td>Sally Kohn’s latest evidence of climate change...</td>\n",
              "      <td>355491</td>\n",
              "      <td>NaN</td>\n",
              "      <td>[@twitchyteam]</td>\n",
              "      <td>[https://t.co/mhkzogl9vt]</td>\n",
              "      <td>[sally, kohn, latest, evidence, of, climate, c...</td>\n",
              "      <td>[sally, kohn, latest, evidence, climate, chang...</td>\n",
              "      <td>[sally, kohn, latest, evidence, proves, sma, p...</td>\n",
              "      <td>Anti</td>\n",
              "      <td>139</td>\n",
              "    </tr>\n",
              "    <tr>\n",
              "      <th>46</th>\n",
              "      <td>-1</td>\n",
              "      <td>Carbon Tax is a Globalist idea to enslave the...</td>\n",
              "      <td>61141</td>\n",
              "      <td>NaN</td>\n",
              "      <td>[@realdonaldtrump]</td>\n",
              "      <td>NaN</td>\n",
              "      <td>[carbon, tax, is, globalist, idea, to, enslave...</td>\n",
              "      <td>[carbon, tax, globalist, idea, enslave, world'...</td>\n",
              "      <td>[carbon, tax, globalist, idea, enslave, world'...</td>\n",
              "      <td>Anti</td>\n",
              "      <td>137</td>\n",
              "    </tr>\n",
              "    <tr>\n",
              "      <th>48</th>\n",
              "      <td>-1</td>\n",
              "      <td>: We had winds close to 100 MPH in the area t...</td>\n",
              "      <td>719523</td>\n",
              "      <td>NaN</td>\n",
              "      <td>[@stevesgoddard]</td>\n",
              "      <td>NaN</td>\n",
              "      <td>[we, had, winds, close, to, 100, mph, in, the,...</td>\n",
              "      <td>[winds, close, 100, mph, area, afternoon, woul...</td>\n",
              "      <td>[winds, close, 100, mph, area, afternoon, woul...</td>\n",
              "      <td>Anti</td>\n",
              "      <td>136</td>\n",
              "    </tr>\n",
              "    <tr>\n",
              "      <th>56</th>\n",
              "      <td>-1</td>\n",
              "      <td>lmao 😂 snowflakes ❄️ complaining about snowfl...</td>\n",
              "      <td>911385</td>\n",
              "      <td>NaN</td>\n",
              "      <td>[@misslizzynj]</td>\n",
              "      <td>NaN</td>\n",
              "      <td>[lmao, snowflakes, complaining, about, snowfla...</td>\n",
              "      <td>[lmao, snowflakes, complaining, snowflakes, wi...</td>\n",
              "      <td>[lmao, snowflakes, complaining, snowflakes, wi...</td>\n",
              "      <td>Anti</td>\n",
              "      <td>96</td>\n",
              "    </tr>\n",
              "    <tr>\n",
              "      <th>57</th>\n",
              "      <td>-1</td>\n",
              "      <td>: This is ONE of Arnold Schwarzenegger's vehi...</td>\n",
              "      <td>768263</td>\n",
              "      <td>NaN</td>\n",
              "      <td>[@dawn2334dawn]</td>\n",
              "      <td>[http…]</td>\n",
              "      <td>[this, is, one, of, arnold, schwarzenegger's, ...</td>\n",
              "      <td>[one, arnold, schwarzenegger's, vehicles, whin...</td>\n",
              "      <td>[one, arnold, schwarzenegger's, vehicles, whin...</td>\n",
              "      <td>Anti</td>\n",
              "      <td>140</td>\n",
              "    </tr>\n",
              "  </tbody>\n",
              "</table>\n",
              "</div>"
            ],
            "text/plain": [
              "    sentiment                                            message  tweetid  \\\n",
              "28         -1  Sally Kohn’s latest evidence of climate change...   355491   \n",
              "46         -1   Carbon Tax is a Globalist idea to enslave the...    61141   \n",
              "48         -1   : We had winds close to 100 MPH in the area t...   719523   \n",
              "56         -1   lmao 😂 snowflakes ❄️ complaining about snowfl...   911385   \n",
              "57         -1   : This is ONE of Arnold Schwarzenegger's vehi...   768263   \n",
              "\n",
              "   hashtags            mentions                        url  \\\n",
              "28      NaN      [@twitchyteam]  [https://t.co/mhkzogl9vt]   \n",
              "46      NaN  [@realdonaldtrump]                        NaN   \n",
              "48      NaN    [@stevesgoddard]                        NaN   \n",
              "56      NaN      [@misslizzynj]                        NaN   \n",
              "57      NaN     [@dawn2334dawn]                    [http…]   \n",
              "\n",
              "                                       cleaned_tweets  \\\n",
              "28  [sally, kohn, latest, evidence, of, climate, c...   \n",
              "46  [carbon, tax, is, globalist, idea, to, enslave...   \n",
              "48  [we, had, winds, close, to, 100, mph, in, the,...   \n",
              "56  [lmao, snowflakes, complaining, about, snowfla...   \n",
              "57  [this, is, one, of, arnold, schwarzenegger's, ...   \n",
              "\n",
              "                                         no_stopwords  \\\n",
              "28  [sally, kohn, latest, evidence, climate, chang...   \n",
              "46  [carbon, tax, globalist, idea, enslave, world'...   \n",
              "48  [winds, close, 100, mph, area, afternoon, woul...   \n",
              "56  [lmao, snowflakes, complaining, snowflakes, wi...   \n",
              "57  [one, arnold, schwarzenegger's, vehicles, whin...   \n",
              "\n",
              "                                          no_colwords sent_labels  text_length  \n",
              "28  [sally, kohn, latest, evidence, proves, sma, p...        Anti          139  \n",
              "46  [carbon, tax, globalist, idea, enslave, world'...        Anti          137  \n",
              "48  [winds, close, 100, mph, area, afternoon, woul...        Anti          136  \n",
              "56  [lmao, snowflakes, complaining, snowflakes, wi...        Anti           96  \n",
              "57  [one, arnold, schwarzenegger's, vehicles, whin...        Anti          140  "
            ]
          },
          "execution_count": 187,
          "metadata": {},
          "output_type": "execute_result"
        }
      ]
    },
    {
      "cell_type": "code",
      "metadata": {
        "id": "74849bea",
        "outputId": "129cb768-a1bd-41b2-f74a-5f143653f60c"
      },
      "source": [
        "# Dataframe for news tweets\n",
        "\n",
        "news_df = train[train['sentiment'] == 2]\n",
        "news_df.head()"
      ],
      "id": "74849bea",
      "execution_count": null,
      "outputs": [
        {
          "data": {
            "text/html": [
              "<div>\n",
              "<style scoped>\n",
              "    .dataframe tbody tr th:only-of-type {\n",
              "        vertical-align: middle;\n",
              "    }\n",
              "\n",
              "    .dataframe tbody tr th {\n",
              "        vertical-align: top;\n",
              "    }\n",
              "\n",
              "    .dataframe thead th {\n",
              "        text-align: right;\n",
              "    }\n",
              "</style>\n",
              "<table border=\"1\" class=\"dataframe\">\n",
              "  <thead>\n",
              "    <tr style=\"text-align: right;\">\n",
              "      <th></th>\n",
              "      <th>sentiment</th>\n",
              "      <th>message</th>\n",
              "      <th>tweetid</th>\n",
              "      <th>hashtags</th>\n",
              "      <th>mentions</th>\n",
              "      <th>url</th>\n",
              "      <th>cleaned_tweets</th>\n",
              "      <th>no_stopwords</th>\n",
              "      <th>no_colwords</th>\n",
              "      <th>sent_labels</th>\n",
              "      <th>text_length</th>\n",
              "    </tr>\n",
              "  </thead>\n",
              "  <tbody>\n",
              "    <tr>\n",
              "      <th>2</th>\n",
              "      <td>2</td>\n",
              "      <td>: Researchers say we have three years to act ...</td>\n",
              "      <td>698562</td>\n",
              "      <td>NaN</td>\n",
              "      <td>[@rawstory]</td>\n",
              "      <td>[https://t.co/wdt0kdur2f, https://t.co/z0anpt…]</td>\n",
              "      <td>[researchers, say, we, have, three, years, to,...</td>\n",
              "      <td>[researchers, say, three, years, act, climate,...</td>\n",
              "      <td>[researchers, say, three, years, act, late]</td>\n",
              "      <td>News</td>\n",
              "      <td>140</td>\n",
              "    </tr>\n",
              "    <tr>\n",
              "      <th>12</th>\n",
              "      <td>2</td>\n",
              "      <td>: We only have a 5 percent chance of avoiding...</td>\n",
              "      <td>454673</td>\n",
              "      <td>NaN</td>\n",
              "      <td>[@tveitdal]</td>\n",
              "      <td>[https://t.co/xubtqnxhkk, https://t.co/of…]</td>\n",
              "      <td>[we, only, have, percent, chance, of, avoiding...</td>\n",
              "      <td>[percent, chance, avoiding, dangerous, global,...</td>\n",
              "      <td>[percent, chance, avoiding, dangerous, global,...</td>\n",
              "      <td>News</td>\n",
              "      <td>140</td>\n",
              "    </tr>\n",
              "    <tr>\n",
              "      <th>14</th>\n",
              "      <td>2</td>\n",
              "      <td>Fossil fuel giant ExxonMobil ‘misled’ the publ...</td>\n",
              "      <td>658092</td>\n",
              "      <td>NaN</td>\n",
              "      <td>NaN</td>\n",
              "      <td>[https://t.co/ofc2wsu4ex]</td>\n",
              "      <td>[fossil, fuel, giant, exxonmobil, misled, the,...</td>\n",
              "      <td>[fossil, fuel, giant, exxonmobil, misled, publ...</td>\n",
              "      <td>[fossil, fuel, giant, exxonmobil, misled, publ...</td>\n",
              "      <td>News</td>\n",
              "      <td>121</td>\n",
              "    </tr>\n",
              "    <tr>\n",
              "      <th>26</th>\n",
              "      <td>2</td>\n",
              "      <td>Bangladesh confronting climate change head on</td>\n",
              "      <td>365291</td>\n",
              "      <td>NaN</td>\n",
              "      <td>NaN</td>\n",
              "      <td>[https://t.co/mtqenbqdut, https://t.co/itgkuxg...</td>\n",
              "      <td>[bangladesh, confronting, climate, change, hea...</td>\n",
              "      <td>[bangladesh, confronting, climate, change, head]</td>\n",
              "      <td>[bangladesh, confronting, head]</td>\n",
              "      <td>News</td>\n",
              "      <td>93</td>\n",
              "    </tr>\n",
              "    <tr>\n",
              "      <th>32</th>\n",
              "      <td>2</td>\n",
              "      <td>: Atmospheric rivers fueled by climate change...</td>\n",
              "      <td>143471</td>\n",
              "      <td>NaN</td>\n",
              "      <td>[@latimes]</td>\n",
              "      <td>[https://t.co/p0lzbhlu5k, https://t…]</td>\n",
              "      <td>[atmospheric, rivers, fueled, by, climate, cha...</td>\n",
              "      <td>[atmospheric, rivers, fueled, climate, change,...</td>\n",
              "      <td>[atmospheric, rivers, fueled, could, decimate,...</td>\n",
              "      <td>News</td>\n",
              "      <td>140</td>\n",
              "    </tr>\n",
              "  </tbody>\n",
              "</table>\n",
              "</div>"
            ],
            "text/plain": [
              "    sentiment                                            message  tweetid  \\\n",
              "2           2   : Researchers say we have three years to act ...   698562   \n",
              "12          2   : We only have a 5 percent chance of avoiding...   454673   \n",
              "14          2  Fossil fuel giant ExxonMobil ‘misled’ the publ...   658092   \n",
              "26          2    Bangladesh confronting climate change head on     365291   \n",
              "32          2   : Atmospheric rivers fueled by climate change...   143471   \n",
              "\n",
              "   hashtags     mentions                                                url  \\\n",
              "2       NaN  [@rawstory]    [https://t.co/wdt0kdur2f, https://t.co/z0anpt…]   \n",
              "12      NaN  [@tveitdal]        [https://t.co/xubtqnxhkk, https://t.co/of…]   \n",
              "14      NaN          NaN                          [https://t.co/ofc2wsu4ex]   \n",
              "26      NaN          NaN  [https://t.co/mtqenbqdut, https://t.co/itgkuxg...   \n",
              "32      NaN   [@latimes]              [https://t.co/p0lzbhlu5k, https://t…]   \n",
              "\n",
              "                                       cleaned_tweets  \\\n",
              "2   [researchers, say, we, have, three, years, to,...   \n",
              "12  [we, only, have, percent, chance, of, avoiding...   \n",
              "14  [fossil, fuel, giant, exxonmobil, misled, the,...   \n",
              "26  [bangladesh, confronting, climate, change, hea...   \n",
              "32  [atmospheric, rivers, fueled, by, climate, cha...   \n",
              "\n",
              "                                         no_stopwords  \\\n",
              "2   [researchers, say, three, years, act, climate,...   \n",
              "12  [percent, chance, avoiding, dangerous, global,...   \n",
              "14  [fossil, fuel, giant, exxonmobil, misled, publ...   \n",
              "26   [bangladesh, confronting, climate, change, head]   \n",
              "32  [atmospheric, rivers, fueled, climate, change,...   \n",
              "\n",
              "                                          no_colwords sent_labels  text_length  \n",
              "2         [researchers, say, three, years, act, late]        News          140  \n",
              "12  [percent, chance, avoiding, dangerous, global,...        News          140  \n",
              "14  [fossil, fuel, giant, exxonmobil, misled, publ...        News          121  \n",
              "26                    [bangladesh, confronting, head]        News           93  \n",
              "32  [atmospheric, rivers, fueled, could, decimate,...        News          140  "
            ]
          },
          "execution_count": 188,
          "metadata": {},
          "output_type": "execute_result"
        }
      ]
    },
    {
      "cell_type": "code",
      "metadata": {
        "id": "a80002f9",
        "outputId": "1b2c547b-c1f3-4edd-af54-b34a5e39e623"
      },
      "source": [
        "train.head()"
      ],
      "id": "a80002f9",
      "execution_count": null,
      "outputs": [
        {
          "data": {
            "text/html": [
              "<div>\n",
              "<style scoped>\n",
              "    .dataframe tbody tr th:only-of-type {\n",
              "        vertical-align: middle;\n",
              "    }\n",
              "\n",
              "    .dataframe tbody tr th {\n",
              "        vertical-align: top;\n",
              "    }\n",
              "\n",
              "    .dataframe thead th {\n",
              "        text-align: right;\n",
              "    }\n",
              "</style>\n",
              "<table border=\"1\" class=\"dataframe\">\n",
              "  <thead>\n",
              "    <tr style=\"text-align: right;\">\n",
              "      <th></th>\n",
              "      <th>sentiment</th>\n",
              "      <th>message</th>\n",
              "      <th>tweetid</th>\n",
              "      <th>hashtags</th>\n",
              "      <th>mentions</th>\n",
              "      <th>url</th>\n",
              "      <th>cleaned_tweets</th>\n",
              "      <th>no_stopwords</th>\n",
              "      <th>no_colwords</th>\n",
              "      <th>sent_labels</th>\n",
              "      <th>text_length</th>\n",
              "    </tr>\n",
              "  </thead>\n",
              "  <tbody>\n",
              "    <tr>\n",
              "      <th>0</th>\n",
              "      <td>1</td>\n",
              "      <td>PolySciMajor EPA chief doesn't think carbon di...</td>\n",
              "      <td>625221</td>\n",
              "      <td>NaN</td>\n",
              "      <td>[@mashable]</td>\n",
              "      <td>[https://t.co/yelvcefxkc]</td>\n",
              "      <td>[polyscimajor, epa, chief, doesn't, think, car...</td>\n",
              "      <td>[polyscimajor, epa, chief, think, carbon, diox...</td>\n",
              "      <td>[polyscimajor, epa, chief, think, carbon, diox...</td>\n",
              "      <td>Pro</td>\n",
              "      <td>140</td>\n",
              "    </tr>\n",
              "    <tr>\n",
              "      <th>1</th>\n",
              "      <td>1</td>\n",
              "      <td>It's not like we lack evidence of anthropogeni...</td>\n",
              "      <td>126103</td>\n",
              "      <td>NaN</td>\n",
              "      <td>NaN</td>\n",
              "      <td>NaN</td>\n",
              "      <td>[it's, not, like, we, lack, evidence, of, anth...</td>\n",
              "      <td>[like, lack, evidence, anthropogenic, global, ...</td>\n",
              "      <td>[like, lack, evidence, anthropogenic, global, ...</td>\n",
              "      <td>Pro</td>\n",
              "      <td>62</td>\n",
              "    </tr>\n",
              "    <tr>\n",
              "      <th>2</th>\n",
              "      <td>2</td>\n",
              "      <td>: Researchers say we have three years to act ...</td>\n",
              "      <td>698562</td>\n",
              "      <td>NaN</td>\n",
              "      <td>[@rawstory]</td>\n",
              "      <td>[https://t.co/wdt0kdur2f, https://t.co/z0anpt…]</td>\n",
              "      <td>[researchers, say, we, have, three, years, to,...</td>\n",
              "      <td>[researchers, say, three, years, act, climate,...</td>\n",
              "      <td>[researchers, say, three, years, act, late]</td>\n",
              "      <td>News</td>\n",
              "      <td>140</td>\n",
              "    </tr>\n",
              "    <tr>\n",
              "      <th>3</th>\n",
              "      <td>1</td>\n",
              "      <td>WIRED : 2016 was a pivotal year in the war on...</td>\n",
              "      <td>573736</td>\n",
              "      <td>[#todayinmaker#]</td>\n",
              "      <td>NaN</td>\n",
              "      <td>[https://t.co/44wotxtlcd]</td>\n",
              "      <td>[wired, 2016, was, pivotal, year, in, the, war...</td>\n",
              "      <td>[wired, 2016, pivotal, year, war, climate, cha...</td>\n",
              "      <td>[wired, 2016, pivotal, year, war]</td>\n",
              "      <td>Pro</td>\n",
              "      <td>99</td>\n",
              "    </tr>\n",
              "    <tr>\n",
              "      <th>4</th>\n",
              "      <td>1</td>\n",
              "      <td>: It's 2016, and a racist, sexist, climate ch...</td>\n",
              "      <td>466954</td>\n",
              "      <td>[#electionnight]</td>\n",
              "      <td>[@soynoviodetodas]</td>\n",
              "      <td>NaN</td>\n",
              "      <td>[it's, 2016, and, racist, sexist, climate, cha...</td>\n",
              "      <td>[2016, racist, sexist, climate, change, denyin...</td>\n",
              "      <td>[2016, racist, sexist, denying, bigot, leading...</td>\n",
              "      <td>Pro</td>\n",
              "      <td>122</td>\n",
              "    </tr>\n",
              "  </tbody>\n",
              "</table>\n",
              "</div>"
            ],
            "text/plain": [
              "   sentiment                                            message  tweetid  \\\n",
              "0          1  PolySciMajor EPA chief doesn't think carbon di...   625221   \n",
              "1          1  It's not like we lack evidence of anthropogeni...   126103   \n",
              "2          2   : Researchers say we have three years to act ...   698562   \n",
              "3          1   WIRED : 2016 was a pivotal year in the war on...   573736   \n",
              "4          1   : It's 2016, and a racist, sexist, climate ch...   466954   \n",
              "\n",
              "           hashtags            mentions  \\\n",
              "0               NaN         [@mashable]   \n",
              "1               NaN                 NaN   \n",
              "2               NaN         [@rawstory]   \n",
              "3  [#todayinmaker#]                 NaN   \n",
              "4  [#electionnight]  [@soynoviodetodas]   \n",
              "\n",
              "                                               url  \\\n",
              "0                        [https://t.co/yelvcefxkc]   \n",
              "1                                              NaN   \n",
              "2  [https://t.co/wdt0kdur2f, https://t.co/z0anpt…]   \n",
              "3                        [https://t.co/44wotxtlcd]   \n",
              "4                                              NaN   \n",
              "\n",
              "                                      cleaned_tweets  \\\n",
              "0  [polyscimajor, epa, chief, doesn't, think, car...   \n",
              "1  [it's, not, like, we, lack, evidence, of, anth...   \n",
              "2  [researchers, say, we, have, three, years, to,...   \n",
              "3  [wired, 2016, was, pivotal, year, in, the, war...   \n",
              "4  [it's, 2016, and, racist, sexist, climate, cha...   \n",
              "\n",
              "                                        no_stopwords  \\\n",
              "0  [polyscimajor, epa, chief, think, carbon, diox...   \n",
              "1  [like, lack, evidence, anthropogenic, global, ...   \n",
              "2  [researchers, say, three, years, act, climate,...   \n",
              "3  [wired, 2016, pivotal, year, war, climate, cha...   \n",
              "4  [2016, racist, sexist, climate, change, denyin...   \n",
              "\n",
              "                                         no_colwords sent_labels  text_length  \n",
              "0  [polyscimajor, epa, chief, think, carbon, diox...         Pro          140  \n",
              "1  [like, lack, evidence, anthropogenic, global, ...         Pro           62  \n",
              "2        [researchers, say, three, years, act, late]        News          140  \n",
              "3                  [wired, 2016, pivotal, year, war]         Pro           99  \n",
              "4  [2016, racist, sexist, denying, bigot, leading...         Pro          122  "
            ]
          },
          "execution_count": 189,
          "metadata": {},
          "output_type": "execute_result"
        }
      ]
    },
    {
      "cell_type": "markdown",
      "metadata": {
        "id": "fafd33a1"
      },
      "source": [
        "# Exploratory Data Analysis"
      ],
      "id": "fafd33a1"
    },
    {
      "cell_type": "code",
      "metadata": {
        "id": "a280f914"
      },
      "source": [
        ""
      ],
      "id": "a280f914",
      "execution_count": 26,
      "outputs": []
    },
    {
      "cell_type": "markdown",
      "metadata": {
        "id": "b17e5049"
      },
      "source": [
        "# Feature Engineering"
      ],
      "id": "b17e5049"
    },
    {
      "cell_type": "code",
      "metadata": {
        "id": "c912e838",
        "outputId": "6f0daa00-56c3-4eb9-91ec-66d9a789263b"
      },
      "source": [
        "# Data preprocessing for model building\n",
        "\n",
        "train = train_data.copy()\n",
        "test = test_data.copy()\n",
        "normalizer = WordNetLemmatizer()\n",
        "nltk.download('wordnet')\n",
        "\n",
        "def replace_sentiments(df):\n",
        "    \"\"\"\n",
        "    replace keywords in the tweets  with associated sentiments\n",
        "    \n",
        "    'global' ----> 'negative'\n",
        "    'climate' ----> 'positive'\n",
        "    'MAGA'----> 'negative'\n",
        "  \n",
        "    \"\"\"\n",
        "    df['message'] = df['message'].apply(lambda x: x.replace('global', 'negative'))\n",
        "    df['message'] = df['message'].apply(lambda x: x.replace('climate', 'positive'))\n",
        "    df['message'] = df['message'].apply(lambda x: x.replace('MAGA', 'negative')) \n",
        "\n",
        "    return df['message']\n",
        "\n",
        "train['message'] = replace_sentiments(train)\n",
        "test['message'] = replace_sentiments(test)\n",
        "\n",
        "# cleaning tweets\n",
        "train['clean_tweets'] = clean_tweets(train)\n",
        "test['clean_tweets'] = clean_tweets(test)\n",
        "\n",
        "\n",
        "# lemmatize\n",
        "train['clean_tweets'] = train['clean_tweets'].apply(lambda x: [normalizer.lemmatize(token, POS(token)) for token in x])\n",
        "test['clean_tweets'] = test['clean_tweets'].apply(lambda x: [normalizer.lemmatize(token, POS(token)) for token in x])"
      ],
      "id": "c912e838",
      "execution_count": null,
      "outputs": [
        {
          "name": "stderr",
          "output_type": "stream",
          "text": [
            "[nltk_data] Downloading package wordnet to\n",
            "[nltk_data]     C:\\Users\\Kgotso\\AppData\\Roaming\\nltk_data...\n",
            "[nltk_data]   Package wordnet is already up-to-date!\n"
          ]
        }
      ]
    },
    {
      "cell_type": "markdown",
      "metadata": {
        "id": "841220e4"
      },
      "source": [
        "# Creating our X and y Metrics"
      ],
      "id": "841220e4"
    },
    {
      "cell_type": "code",
      "metadata": {
        "id": "aba365f8"
      },
      "source": [
        "X = train['clean_tweets']\n",
        "y = train['sentiment']\n",
        "X_test = test['clean_tweets']"
      ],
      "id": "aba365f8",
      "execution_count": null,
      "outputs": []
    },
    {
      "cell_type": "markdown",
      "metadata": {
        "id": "cdead3c9"
      },
      "source": [
        "# Spliting our data"
      ],
      "id": "cdead3c9"
    },
    {
      "cell_type": "code",
      "metadata": {
        "id": "53d72236"
      },
      "source": [
        "# Splitting the data into 90% train and 10% validation set\n",
        "X_train, X_val, y_train, y_val = train_test_split(X, y, test_size=0.1, random_state = 42)"
      ],
      "id": "53d72236",
      "execution_count": null,
      "outputs": []
    },
    {
      "cell_type": "code",
      "metadata": {
        "id": "2961db1e"
      },
      "source": [
        "X_train = list(X_train.apply(' '.join))\n",
        "X_val = list(X_val.apply(' '.join))\n",
        "X_test = list(X_test.apply(' '.join))"
      ],
      "id": "2961db1e",
      "execution_count": null,
      "outputs": []
    },
    {
      "cell_type": "markdown",
      "metadata": {
        "id": "cc0073d9"
      },
      "source": [
        "# Pipelines"
      ],
      "id": "cc0073d9"
    },
    {
      "cell_type": "code",
      "metadata": {
        "id": "0334a60f"
      },
      "source": [
        "# DecisionTreeClassifier Pipeline\n",
        "tree_tfidf = Pipeline([('tfidf', TfidfVectorizer()),('tree', DecisionTreeClassifier()),])\n",
        "tree_count = Pipeline([('CountVec',  CountVectorizer(analyzer = 'word', \n",
        "                             tokenizer = None, \n",
        "                             preprocessor = None, \n",
        "                             stop_words = None, \n",
        "                             max_features = 180000,\n",
        "                             min_df = 1,\n",
        "                             ngram_range = (1,2)\n",
        "                            )),('tree', DecisionTreeClassifier()),])\n",
        "\n",
        "\n",
        "# RandomForestClassifier Pipeline\n",
        "rfc_tfidf = Pipeline([('tfidf', TfidfVectorizer()), ('rfc', RandomForestClassifier())])\n",
        "rfc_count = Pipeline([('CountVec',  CountVectorizer(analyzer = 'word', \n",
        "                             tokenizer = None, \n",
        "                             preprocessor = None, \n",
        "                             stop_words = None, \n",
        "                             max_features = 180000,\n",
        "                             min_df = 1,\n",
        "                             ngram_range = (1,2)\n",
        "                            )),('rfc', RandomForestClassifier()),])\n",
        "\n",
        "\n",
        "# LinearSVC Pipeline\n",
        "Lsvc_tfidf = Pipeline([('tfidf', TfidfVectorizer()),\n",
        "                     ('scv', LinearSVC()),])\n",
        "Lsvc_count = Pipeline([('CountVec',  CountVectorizer(analyzer = 'word', \n",
        "                             tokenizer = None, \n",
        "                             preprocessor = None, \n",
        "                             stop_words = None, \n",
        "                             max_features = 180000,\n",
        "                             min_df = 1,\n",
        "                             ngram_range = (1,2)\n",
        "                            )),('svc', LinearSVC()),])\n",
        "\n",
        "\n",
        "\n",
        "# Logistic Regression pipeline\n",
        "logreg_tfidf = Pipeline([('tfidf', TfidfVectorizer()),('logistic', LogisticRegression()),])\n",
        "logreg_count = Pipeline([('CountVec',  CountVectorizer(analyzer = 'word', \n",
        "                             tokenizer = None, \n",
        "                             preprocessor = None, \n",
        "                             stop_words = None, \n",
        "                             max_features = 180000,\n",
        "                             min_df = 1,\n",
        "                             ngram_range = (1,2)\n",
        "                            )),('logistic', LogisticRegression()),])\n",
        "\n",
        "\n",
        "\n",
        "# SGD Classifier pipeline\n",
        "SGD_tfidf = Pipeline([('tfidf', TfidfVectorizer()), ('SGD', SGDClassifier())])\n",
        "SGD_count = Pipeline([('CountVec',  CountVectorizer(analyzer = 'word', \n",
        "                             tokenizer = None, \n",
        "                             preprocessor = None, \n",
        "                             stop_words = None, \n",
        "                             max_features = 180000,\n",
        "                             min_df = 1,\n",
        "                             ngram_range = (1,2)\n",
        "                            )),('SGD', SGDClassifier()),])\n",
        "\n",
        "\n",
        "\n",
        "\n",
        "# Support Vector Classifier Pipeline\n",
        "svc_tfidf = Pipeline([('tfidf', TfidfVectorizer()), ('SVC', SVC())])\n",
        "svc_count = Pipeline([('CountVec',  CountVectorizer(analyzer = 'word', \n",
        "                             tokenizer = None, \n",
        "                             preprocessor = None, \n",
        "                             stop_words = None, \n",
        "                             max_features = 180000,\n",
        "                             min_df = 1,\n",
        "                             ngram_range = (1,2)\n",
        "                            )),('SVC', SVC()),])\n",
        "\n",
        "# Ridge Classifier\n",
        "ridge_tfidf = Pipeline([('tfidf', TfidfVectorizer()), ('Ridge', RidgeClassifier())])\n",
        "ridge_count = Pipeline([('CountVec',  CountVectorizer(analyzer = 'word', \n",
        "                             tokenizer = None, \n",
        "                             preprocessor = None, \n",
        "                             stop_words = None, \n",
        "                             max_features = 180000,\n",
        "                             min_df = 1,\n",
        "                             ngram_range = (1,2)\n",
        "                            )),('Ridge', RidgeClassifier()),])"
      ],
      "id": "0334a60f",
      "execution_count": null,
      "outputs": []
    },
    {
      "cell_type": "markdown",
      "metadata": {
        "id": "8bca1da9"
      },
      "source": [
        "# Model training"
      ],
      "id": "8bca1da9"
    },
    {
      "cell_type": "code",
      "metadata": {
        "id": "493ab801",
        "outputId": "21504be7-5b03-4851-c09b-a4e03caa1490"
      },
      "source": [
        "# training the decision tree pipeline\n",
        "tree_tfidf.fit(X_train, y_train)\n",
        "tree_count.fit(X_train, y_train)\n",
        "\n",
        "# training the RandomForest pipleline\n",
        "rfc_tfidf.fit(X_train, y_train)\n",
        "rfc_count.fit(X_train, y_train)\n",
        "\n",
        "# training the LinearSVC pipeline\n",
        "Lsvc_tfidf.fit(X_train, y_train)\n",
        "Lsvc_count.fit(X_train, y_train)\n",
        "\n",
        "# training the logistic regression pipeline\n",
        "logreg_tfidf.fit(X_train, y_train)\n",
        "logreg_count.fit(X_train, y_train)\n",
        "\n",
        "# training the SGD Classifier\n",
        "SGD_tfidf.fit(X_train, y_train)\n",
        "SGD_count.fit(X_train, y_train)\n",
        "\n",
        "# training the support vector classifier\n",
        "svc_tfidf.fit(X_train, y_train)\n",
        "svc_count.fit(X_train, y_train)\n",
        "\n",
        "# training the Ridge classifier\n",
        "ridge_tfidf.fit(X_train, y_train)\n",
        "ridge_count.fit(X_train, y_train)"
      ],
      "id": "493ab801",
      "execution_count": null,
      "outputs": [
        {
          "name": "stderr",
          "output_type": "stream",
          "text": [
            "C:\\Users\\Kgotso\\Anaconda3\\lib\\site-packages\\sklearn\\linear_model\\_logistic.py:763: ConvergenceWarning: lbfgs failed to converge (status=1):\n",
            "STOP: TOTAL NO. of ITERATIONS REACHED LIMIT.\n",
            "\n",
            "Increase the number of iterations (max_iter) or scale the data as shown in:\n",
            "    https://scikit-learn.org/stable/modules/preprocessing.html\n",
            "Please also refer to the documentation for alternative solver options:\n",
            "    https://scikit-learn.org/stable/modules/linear_model.html#logistic-regression\n",
            "  n_iter_i = _check_optimize_result(\n",
            "C:\\Users\\Kgotso\\Anaconda3\\lib\\site-packages\\sklearn\\linear_model\\_logistic.py:763: ConvergenceWarning: lbfgs failed to converge (status=1):\n",
            "STOP: TOTAL NO. of ITERATIONS REACHED LIMIT.\n",
            "\n",
            "Increase the number of iterations (max_iter) or scale the data as shown in:\n",
            "    https://scikit-learn.org/stable/modules/preprocessing.html\n",
            "Please also refer to the documentation for alternative solver options:\n",
            "    https://scikit-learn.org/stable/modules/linear_model.html#logistic-regression\n",
            "  n_iter_i = _check_optimize_result(\n"
          ]
        },
        {
          "data": {
            "text/plain": [
              "Pipeline(steps=[('CountVec',\n",
              "                 CountVectorizer(max_features=180000, ngram_range=(1, 2))),\n",
              "                ('Ridge', RidgeClassifier())])"
            ]
          },
          "execution_count": 195,
          "metadata": {},
          "output_type": "execute_result"
        }
      ]
    },
    {
      "cell_type": "code",
      "metadata": {
        "id": "fd96d4cd"
      },
      "source": [
        ""
      ],
      "id": "fd96d4cd",
      "execution_count": null,
      "outputs": []
    },
    {
      "cell_type": "code",
      "metadata": {
        "id": "879a6b9b"
      },
      "source": [
        "# calculating average scores for the TFIDF\n",
        "tree_acc =  accuracy_score(y_val,tree_tfidf.predict(X_val))\n",
        "rfc_acc = accuracy_score(y_val,rfc_tfidf.predict(X_val))\n",
        "lsvc_acc = accuracy_score(y_val,Lsvc_tfidf.predict(X_val))\n",
        "log_acc = accuracy_score(y_val, logreg_tfidf.predict(X_val))\n",
        "sgd_acc = accuracy_score(y_val, SGD_tfidf.predict(X_val))\n",
        "svc_acc = accuracy_score(y_val, svc_tfidf.predict(X_val))\n",
        "ridge_acc = accuracy_score(y_val, ridge_tfidf.predict(X_val))\n",
        " \n",
        "tfidf_avg_accuracy = round(np.mean([tree_acc,rfc_acc,lsvc_acc,log_acc,sgd_acc,svc_acc,ridge_acc]),4)"
      ],
      "id": "879a6b9b",
      "execution_count": null,
      "outputs": []
    },
    {
      "cell_type": "code",
      "metadata": {
        "id": "db79ad9f"
      },
      "source": [
        "tree_acc =  accuracy_score(y_val,tree_count.predict(X_val))\n",
        "rfc_acc = accuracy_score(y_val,rfc_count.predict(X_val))\n",
        "lsvc_acc = accuracy_score(y_val,Lsvc_count.predict(X_val))\n",
        "log_acc = accuracy_score(y_val, logreg_count.predict(X_val))\n",
        "sgd_acc = accuracy_score(y_val, SGD_count.predict(X_val))\n",
        "svc_acc = accuracy_score(y_val, svc_count.predict(X_val))\n",
        "ridge_acc = accuracy_score(y_val, ridge_count.predict(X_val))\n",
        "\n",
        "CountVec = round(np.mean([tree_acc,rfc_acc,lsvc_acc,log_acc,sgd_acc,svc_acc, ridge_acc]),4)"
      ],
      "id": "db79ad9f",
      "execution_count": null,
      "outputs": []
    },
    {
      "cell_type": "code",
      "metadata": {
        "id": "c6ce772f",
        "outputId": "35932cec-a453-4f90-9b81-e9a6e146de02"
      },
      "source": [
        "accuracy_dict = {'TFIDF':[tfidf_avg_accuracy], 'CountVec':[CountVec]}\n",
        "accuracy_df = pd.DataFrame(accuracy_dict)\n",
        "accuracy_df.T.plot(kind='barh', figsize = (8,8),legend = False)\n",
        "plt.xlabel('Avg Accuracy Score')\n",
        "plt.ylabel('Feature Engineering Method')\n",
        "plt.yticks(rotation = 40)\n",
        "plt.title('Avg accuracy score per method')\n",
        "plt.show()"
      ],
      "id": "c6ce772f",
      "execution_count": null,
      "outputs": [
        {
          "data": {
            "image/png": "[encoded data removed]",
            "text/plain": [
              "<Figure size 576x576 with 1 Axes>"
            ]
          },
          "metadata": {
            "needs_background": "light"
          },
          "output_type": "display_data"
        }
      ]
    },
    {
      "cell_type": "code",
      "metadata": {
        "id": "a771383d"
      },
      "source": [
        ""
      ],
      "id": "a771383d",
      "execution_count": null,
      "outputs": []
    },
    {
      "cell_type": "code",
      "metadata": {
        "id": "871d6110"
      },
      "source": [
        "# Making validations set predicions\n",
        "\n",
        "tree_prediction = tree_count.predict(X_val) # DecisionTreeClassifier predictions\n",
        "rfc_prediction = rfc_count.predict(X_val) # RandomForestClassifier predictions\n",
        "Lsvc_prediction = Lsvc_count.predict(X_val) # LinearSVClassifier Predictions\n",
        "logreg_prediction = logreg_count.predict(X_val) # Logistic regression predictions\n",
        "SGD_prediction = SGD_count.predict(X_val) # SGD Classifier predictions\n",
        "SVC_prediction = svc_count.predict(X_val) # Support vector machine predictions\n",
        "ridge_prediction = ridge_count.predict(X_val) # Ridge predictions"
      ],
      "id": "871d6110",
      "execution_count": null,
      "outputs": []
    },
    {
      "cell_type": "code",
      "metadata": {
        "id": "9560a58a"
      },
      "source": [
        ""
      ],
      "id": "9560a58a",
      "execution_count": null,
      "outputs": []
    },
    {
      "cell_type": "code",
      "metadata": {
        "id": "0e5c8396",
        "outputId": "0519e055-ef09-4dd7-b2d9-9ebf0a109148"
      },
      "source": [
        "# Confusion matrix for the Ridge Classifier\n",
        "print('\\nRidge Classifier\\n', confusion_matrix(y_val, ridge_prediction))"
      ],
      "id": "0e5c8396",
      "execution_count": null,
      "outputs": [
        {
          "name": "stdout",
          "output_type": "stream",
          "text": [
            "\n",
            "Ridge Classifier\n",
            " [[ 58  24  37   7]\n",
            " [  9 113  89  13]\n",
            " [  7  31 792  65]\n",
            " [  2   7  54 274]]\n"
          ]
        }
      ]
    },
    {
      "cell_type": "code",
      "metadata": {
        "id": "641f68b5",
        "outputId": "3aed0302-8b28-4f7a-a988-dad69312b914"
      },
      "source": [
        "# The classification report \n",
        "print('\\nRidge Classifier  Classification report :\\n', classification_report(y_val, ridge_prediction))\n",
        "plot_confusion_matrix(y_val, ridge_prediction, normalize=True,figsize=(8,8),cmap='Reds')\n",
        "plt.title('Ridge Classification')\n",
        "plt.show()"
      ],
      "id": "641f68b5",
      "execution_count": null,
      "outputs": [
        {
          "name": "stdout",
          "output_type": "stream",
          "text": [
            "\n",
            "Ridge Classifier  Classification report :\n",
            "               precision    recall  f1-score   support\n",
            "\n",
            "          -1       0.76      0.46      0.57       126\n",
            "           0       0.65      0.50      0.57       224\n",
            "           1       0.81      0.88      0.85       895\n",
            "           2       0.76      0.81      0.79       337\n",
            "\n",
            "    accuracy                           0.78      1582\n",
            "   macro avg       0.75      0.67      0.69      1582\n",
            "weighted avg       0.78      0.78      0.77      1582\n",
            "\n"
          ]
        },
        {
          "data": {
            "image/png": "[encoded data removed]",
            "text/plain": [
              "<Figure size 576x576 with 2 Axes>"
            ]
          },
          "metadata": {
            "needs_background": "light"
          },
          "output_type": "display_data"
        }
      ]
    },
    {
      "cell_type": "code",
      "metadata": {
        "id": "19d3a577",
        "outputId": "234a3d1a-0bae-448e-c78f-1e4aaee08520"
      },
      "source": [
        "linearSVC_acc = round(accuracy_score(y_val, Lsvc_prediction),4)\n",
        "print(f'\\nOverall accuracy score for LinearSVC Model : {linearSVC_acc}')\n",
        "linearSVC_f1 = round(f1_score(y_val, Lsvc_prediction, average=\"weighted\"),4)\n",
        "print(f'\\nWeighted avg f1 score for LinearSVC Model : {linearSVC_f1}')"
      ],
      "id": "19d3a577",
      "execution_count": null,
      "outputs": [
        {
          "name": "stdout",
          "output_type": "stream",
          "text": [
            "\n",
            "Overall accuracy score for LinearSVC Model : 0.7889\n",
            "\n",
            "Weighted avg f1 score for LinearSVC Model : 0.7831\n"
          ]
        }
      ]
    },
    {
      "cell_type": "code",
      "metadata": {
        "id": "259214ed",
        "outputId": "0a1ba756-8a35-4dd0-8a91-612d4bccae73"
      },
      "source": [
        "# Checking the accuracy score\n",
        "ridge_acc = round(accuracy_score(y_val, ridge_prediction),4)\n",
        "print(f'\\nRidge Classifier accuracy Score : {ridge_acc}')\n",
        "ridge_f1 = round(f1_score(y_val, ridge_prediction, average=\"weighted\"),4)\n",
        "print(f'\\nRidge Classifier weighted avg f1 score : {ridge_f1}')"
      ],
      "id": "259214ed",
      "execution_count": null,
      "outputs": [
        {
          "name": "stdout",
          "output_type": "stream",
          "text": [
            "\n",
            "Ridge Classifier accuracy Score : 0.7819\n",
            "\n",
            "Ridge Classifier weighted avg f1 score : 0.7736\n"
          ]
        }
      ]
    },
    {
      "cell_type": "code",
      "metadata": {
        "id": "fa66b97f",
        "outputId": "44264b00-bf1b-4314-f8ab-1f7bbd033462"
      },
      "source": [
        "# Checking the accuracy score\n",
        "svc_acc = round(accuracy_score(y_val, SVC_prediction),4)\n",
        "print(f'\\nSupport Vector Classifier accuracy Score : {svc_acc}')\n",
        "svc_f1 = round(f1_score(y_val, SVC_prediction, average=\"weighted\"),4)\n",
        "print(f'\\nSupport Vector Classifier weighted avg f1 score : {svc_f1}')"
      ],
      "id": "fa66b97f",
      "execution_count": null,
      "outputs": [
        {
          "name": "stdout",
          "output_type": "stream",
          "text": [
            "\n",
            "Support Vector Classifier accuracy Score : 0.744\n",
            "\n",
            "Support Vector Classifier weighted avg f1 score : 0.7268\n"
          ]
        }
      ]
    },
    {
      "cell_type": "code",
      "metadata": {
        "id": "5d9fc77d",
        "outputId": "d44f83d8-e725-49b2-9241-9ba7705368b9"
      },
      "source": [
        "# Checking the accuracy score\n",
        "sgd_acc = round(accuracy_score(y_val, SGD_prediction),4)\n",
        "print('\\nSGD Classifier accuracy Score :\\n', sgd_acc)\n",
        "\n",
        "# Checking the f1_score report for the decison tree model\n",
        "sgd_f1 = round(f1_score(y_val, SGD_prediction, average=\"weighted\"),4)\n",
        "print('\\nSGD weighted avg f1_score :\\n', sgd_f1)"
      ],
      "id": "5d9fc77d",
      "execution_count": null,
      "outputs": [
        {
          "name": "stdout",
          "output_type": "stream",
          "text": [
            "\n",
            "SGD Classifier accuracy Score :\n",
            " 0.7819\n",
            "\n",
            "SGD weighted avg f1_score :\n",
            " 0.7755\n"
          ]
        }
      ]
    },
    {
      "cell_type": "code",
      "metadata": {
        "id": "10ccbe63",
        "outputId": "33963328-93aa-4f09-e566-5a341bb6f753"
      },
      "source": [
        "# Print the overall accuracy\n",
        "logistic_reg_acc = round(accuracy_score(y_val, logreg_prediction),4)\n",
        "print('\\nLogistic Regression accuracy Score\\n', logistic_reg_acc)\n",
        "logistic_reg_f1 = round(f1_score(y_val, logreg_prediction, average=\"weighted\"),4)\n",
        "print('\\nLogistic Regression weighted f1 score\\n', logistic_reg_f1)\n"
      ],
      "id": "10ccbe63",
      "execution_count": null,
      "outputs": [
        {
          "name": "stdout",
          "output_type": "stream",
          "text": [
            "\n",
            "Logistic Regression accuracy Score\n",
            " 0.7857\n",
            "\n",
            "Logistic Regression weighted f1 score\n",
            " 0.7783\n"
          ]
        }
      ]
    },
    {
      "cell_type": "code",
      "metadata": {
        "id": "3aaac0d4",
        "outputId": "d7110fa3-a0d7-49d5-d9f4-379b612d21bf"
      },
      "source": [
        "# Print the overall accuracy\n",
        "decison_tree_acc = round(accuracy_score(y_val, tree_prediction),4)\n",
        "print(f'\\nOverall accuracy score for Decision Tree : {decison_tree_acc}')\n",
        "decision_tree_f1 = round(f1_score(y_val, tree_prediction, average=\"weighted\"),4)\n",
        "print(f'\\nWeighted avg f1 score Decision Tree {decision_tree_f1}' )\n"
      ],
      "id": "3aaac0d4",
      "execution_count": null,
      "outputs": [
        {
          "name": "stdout",
          "output_type": "stream",
          "text": [
            "\n",
            "Overall accuracy score for Decision Tree : 0.665\n",
            "\n",
            "Weighted avg f1 score Decision Tree 0.659\n"
          ]
        }
      ]
    },
    {
      "cell_type": "code",
      "metadata": {
        "id": "a01bec86",
        "outputId": "712c125f-2a40-40ab-87f3-a6e62b0ecd57"
      },
      "source": [
        "random_forest_acc = round(accuracy_score(y_val, rfc_prediction),4)\n",
        "print(f'\\nOveral accuracy score for RandomForestClassifier :{random_forest_acc}')\n",
        "random_forest_f1 = round(f1_score(y_val, rfc_prediction, average=\"weighted\"),4)\n",
        "print(f'\\nWeighted f1 score for RandomForestClassifier : {random_forest_f1}')"
      ],
      "id": "a01bec86",
      "execution_count": null,
      "outputs": [
        {
          "name": "stdout",
          "output_type": "stream",
          "text": [
            "\n",
            "Overal accuracy score for RandomForestClassifier :0.7332\n",
            "\n",
            "Weighted f1 score for RandomForestClassifier : 0.7016\n"
          ]
        }
      ]
    },
    {
      "cell_type": "code",
      "metadata": {
        "id": "43a97148",
        "outputId": "5da872fc-8408-4042-9bab-9ab410eacd80"
      },
      "source": [
        "# Creating a dataframe with our models and their performances metrics\n",
        "classifier_scores = {'Classifiers':['Decision Tree', 'Random Forest','LinearSVC',\n",
        "                                    'Logistic Regression','Stochastic Gradient Descent',\n",
        "                                    'Support Vector Classifier','Ridge Classifier'],\n",
        "                    'Accuracy':[decison_tree_acc,random_forest_acc,\n",
        "                                linearSVC_acc,logistic_reg_acc, sgd_acc, svc_f1, ridge_acc],\n",
        "                     'Weighted avg f1 Score':[decision_tree_f1,random_forest_f1,\n",
        "                                       linearSVC_f1,logistic_reg_f1, sgd_f1, svc_f1, ridge_f1]}\n",
        "df= pd.DataFrame(classifier_scores)\n",
        "df.sort_values(by=['Accuracy'],ascending=True, inplace = True)\n",
        "df"
      ],
      "id": "43a97148",
      "execution_count": null,
      "outputs": [
        {
          "data": {
            "text/html": [
              "<div>\n",
              "<style scoped>\n",
              "    .dataframe tbody tr th:only-of-type {\n",
              "        vertical-align: middle;\n",
              "    }\n",
              "\n",
              "    .dataframe tbody tr th {\n",
              "        vertical-align: top;\n",
              "    }\n",
              "\n",
              "    .dataframe thead th {\n",
              "        text-align: right;\n",
              "    }\n",
              "</style>\n",
              "<table border=\"1\" class=\"dataframe\">\n",
              "  <thead>\n",
              "    <tr style=\"text-align: right;\">\n",
              "      <th></th>\n",
              "      <th>Classifiers</th>\n",
              "      <th>Accuracy</th>\n",
              "      <th>Weighted avg f1 Score</th>\n",
              "    </tr>\n",
              "  </thead>\n",
              "  <tbody>\n",
              "    <tr>\n",
              "      <th>0</th>\n",
              "      <td>Decision Tree</td>\n",
              "      <td>0.6650</td>\n",
              "      <td>0.6590</td>\n",
              "    </tr>\n",
              "    <tr>\n",
              "      <th>5</th>\n",
              "      <td>Support Vector Classifier</td>\n",
              "      <td>0.7268</td>\n",
              "      <td>0.7268</td>\n",
              "    </tr>\n",
              "    <tr>\n",
              "      <th>1</th>\n",
              "      <td>Random Forest</td>\n",
              "      <td>0.7332</td>\n",
              "      <td>0.7016</td>\n",
              "    </tr>\n",
              "    <tr>\n",
              "      <th>4</th>\n",
              "      <td>Stochastic Gradient Descent</td>\n",
              "      <td>0.7819</td>\n",
              "      <td>0.7755</td>\n",
              "    </tr>\n",
              "    <tr>\n",
              "      <th>6</th>\n",
              "      <td>Ridge Classifier</td>\n",
              "      <td>0.7819</td>\n",
              "      <td>0.7736</td>\n",
              "    </tr>\n",
              "    <tr>\n",
              "      <th>3</th>\n",
              "      <td>Logistic Regression</td>\n",
              "      <td>0.7857</td>\n",
              "      <td>0.7783</td>\n",
              "    </tr>\n",
              "    <tr>\n",
              "      <th>2</th>\n",
              "      <td>LinearSVC</td>\n",
              "      <td>0.7889</td>\n",
              "      <td>0.7831</td>\n",
              "    </tr>\n",
              "  </tbody>\n",
              "</table>\n",
              "</div>"
            ],
            "text/plain": [
              "                   Classifiers  Accuracy  Weighted avg f1 Score\n",
              "0                Decision Tree    0.6650                 0.6590\n",
              "5    Support Vector Classifier    0.7268                 0.7268\n",
              "1                Random Forest    0.7332                 0.7016\n",
              "4  Stochastic Gradient Descent    0.7819                 0.7755\n",
              "6             Ridge Classifier    0.7819                 0.7736\n",
              "3          Logistic Regression    0.7857                 0.7783\n",
              "2                    LinearSVC    0.7889                 0.7831"
            ]
          },
          "execution_count": 212,
          "metadata": {},
          "output_type": "execute_result"
        }
      ]
    },
    {
      "cell_type": "code",
      "metadata": {
        "id": "fd924021"
      },
      "source": [
        "# Define the models which we'll include in our ensemble. \n",
        "# We pass a list of tuples, which each have a string identifier for the\n",
        "# model (arbitrary choice), along the actual instantiated sklearn model.  \n",
        "models = [(\"LinearSVC\",Lsvc_count),(\"Logistic Regression\",logreg_count),(\"Ridge Classified\",ridge_count)]\n",
        "\n",
        "# Specify weights for weighted model averaging\n",
        "model_weightings = np.array([0.1,0.3,0.6])\n",
        "\n",
        "# building the voting classifier\n",
        "Voting_classifier = VotingClassifier(estimators=models,weights=model_weightings)\n"
      ],
      "id": "fd924021",
      "execution_count": null,
      "outputs": []
    },
    {
      "cell_type": "code",
      "metadata": {
        "id": "8d3ed65b",
        "outputId": "96710be5-5a57-4010-b3d3-e04f83c95a98"
      },
      "source": [
        "# training the voting classifier\n",
        "Voting_classifier.fit(X_train, y_train)"
      ],
      "id": "8d3ed65b",
      "execution_count": null,
      "outputs": [
        {
          "name": "stderr",
          "output_type": "stream",
          "text": [
            "C:\\Users\\Kgotso\\Anaconda3\\lib\\site-packages\\sklearn\\linear_model\\_logistic.py:763: ConvergenceWarning: lbfgs failed to converge (status=1):\n",
            "STOP: TOTAL NO. of ITERATIONS REACHED LIMIT.\n",
            "\n",
            "Increase the number of iterations (max_iter) or scale the data as shown in:\n",
            "    https://scikit-learn.org/stable/modules/preprocessing.html\n",
            "Please also refer to the documentation for alternative solver options:\n",
            "    https://scikit-learn.org/stable/modules/linear_model.html#logistic-regression\n",
            "  n_iter_i = _check_optimize_result(\n"
          ]
        },
        {
          "data": {
            "text/plain": [
              "VotingClassifier(estimators=[('LinearSVC',\n",
              "                              Pipeline(steps=[('CountVec',\n",
              "                                               CountVectorizer(max_features=180000,\n",
              "                                                               ngram_range=(1,\n",
              "                                                                            2))),\n",
              "                                              ('svc', LinearSVC())])),\n",
              "                             ('Logistic Regression',\n",
              "                              Pipeline(steps=[('CountVec',\n",
              "                                               CountVectorizer(max_features=180000,\n",
              "                                                               ngram_range=(1,\n",
              "                                                                            2))),\n",
              "                                              ('logistic',\n",
              "                                               LogisticRegression())])),\n",
              "                             ('Ridge Classified',\n",
              "                              Pipeline(steps=[('CountVec',\n",
              "                                               CountVectorizer(max_features=180000,\n",
              "                                                               ngram_range=(1,\n",
              "                                                                            2))),\n",
              "                                              ('Ridge', RidgeClassifier())]))],\n",
              "                 weights=array([0.1, 0.3, 0.6]))"
            ]
          },
          "execution_count": 217,
          "metadata": {},
          "output_type": "execute_result"
        }
      ]
    },
    {
      "cell_type": "code",
      "metadata": {
        "id": "60823f09"
      },
      "source": [
        "voting_prediction = Voting_classifier.predict(X_val) # Voting Classifier predictions"
      ],
      "id": "60823f09",
      "execution_count": null,
      "outputs": []
    },
    {
      "cell_type": "code",
      "metadata": {
        "id": "e3da3bd6",
        "outputId": "c2953784-1457-49c1-8bd1-8af60c52ae0e"
      },
      "source": [
        "print('\\nVoting Classifier  Classification report :\\n', classification_report(y_val, voting_prediction))"
      ],
      "id": "e3da3bd6",
      "execution_count": null,
      "outputs": [
        {
          "name": "stdout",
          "output_type": "stream",
          "text": [
            "\n",
            "Voting Classifier  Classification report :\n",
            "               precision    recall  f1-score   support\n",
            "\n",
            "          -1       0.76      0.46      0.57       126\n",
            "           0       0.65      0.50      0.57       224\n",
            "           1       0.81      0.88      0.85       895\n",
            "           2       0.76      0.81      0.79       337\n",
            "\n",
            "    accuracy                           0.78      1582\n",
            "   macro avg       0.75      0.67      0.69      1582\n",
            "weighted avg       0.78      0.78      0.77      1582\n",
            "\n"
          ]
        }
      ]
    },
    {
      "cell_type": "code",
      "metadata": {
        "id": "93f7fcc8",
        "outputId": "6aee8ac6-9b83-4352-ae02-2c0cbfca47d4"
      },
      "source": [
        "# Checking the accuracy score\n",
        "voting_acc = round(accuracy_score(y_val, voting_prediction),4)\n",
        "print(f'\\nOverall accuracy for the Voting Classifier : {voting_acc}')\n",
        "voting_f1 = round(f1_score(y_val, voting_prediction, average=\"weighted\"),4)\n",
        "print(f'\\nWeighted avg f1 score for the Voting Classifier : {voting_f1}')"
      ],
      "id": "93f7fcc8",
      "execution_count": null,
      "outputs": [
        {
          "name": "stdout",
          "output_type": "stream",
          "text": [
            "\n",
            "Overall accuracy for the Voting Classifier : 0.7819\n",
            "\n",
            "Weighted avg f1 score for the Voting Classifier : 0.7736\n"
          ]
        }
      ]
    },
    {
      "cell_type": "markdown",
      "metadata": {
        "id": "7a0a4ff7"
      },
      "source": [
        "**Hyperparameter turning**"
      ],
      "id": "7a0a4ff7"
    },
    {
      "cell_type": "code",
      "metadata": {
        "id": "53301488"
      },
      "source": [
        "# We have to to prepare our data again since we wont be using the pipelines\n",
        "\n",
        "train = train_data.copy()\n",
        "test = test_data.copy()\n",
        "\n",
        "train['message'] = replace_sentiments(train)\n",
        "test['message'] = replace_sentiments(test)\n",
        "train['clean_tweets'] = clean_tweets(train)\n",
        "test['clean_tweets'] = clean_tweets(test)\n",
        "\n",
        "normalizer = WordNetLemmatizer()\n",
        "train['clean_tweets'] = train['clean_tweets'].apply(lambda x: [normalizer.lemmatize(token, POS(token)) for token in x])\n",
        "test['clean_tweets'] = test['clean_tweets'].apply(lambda x: [normalizer.lemmatize(token, POS(token)) for token in x])\n",
        "\n",
        "\n",
        "\n",
        "X = train['clean_tweets']\n",
        "y = train['sentiment']\n",
        "X_test = test['clean_tweets']\n",
        "\n",
        "\n",
        "X_train, X_val, y_train, y_val = train_test_split(X, y, test_size=0.1, random_state = 42)\n",
        "\n",
        "X_train = list(X_train.apply(' '.join))\n",
        "X_val = list(X_val.apply(' '.join))\n",
        "X_test = list(X_test.apply(' '.join))"
      ],
      "id": "53301488",
      "execution_count": null,
      "outputs": []
    },
    {
      "cell_type": "code",
      "metadata": {
        "id": "00b77fde"
      },
      "source": [
        "vectorizer = CountVectorizer(analyzer = 'word', \n",
        "                             tokenizer = None, \n",
        "                             preprocessor = None, \n",
        "                             stop_words = None, \n",
        "                             max_features = 180000,\n",
        "                             min_df = 1,\n",
        "                             ngram_range = (1,2)\n",
        "                            )\n",
        "vectorizer.fit(X_train)\n",
        "X_train = vectorizer.transform(X_train)\n",
        "X_val = vectorizer.transform(X_val)\n",
        "X_test = vectorizer.transform(X_test)"
      ],
      "id": "00b77fde",
      "execution_count": null,
      "outputs": []
    },
    {
      "cell_type": "code",
      "metadata": {
        "id": "277b5361",
        "outputId": "fa401e6a-26c6-445a-e8b3-4ce2440cdec7"
      },
      "source": [
        "# Tunning Ridge Classifier using GridSearchCV\n",
        "\n",
        "# The hyperprarameter gridsearch for the logistic regression model is purposefully commented out because \n",
        "# it perfoms 5 folds for each of the 50 candidates totalling in 250 fits, this GridSearch  code took 57 minutes to complete\n",
        "#  we have saved the resulting model as a pickle file\n",
        "\n",
        "'''\n",
        "param_grid = {'alpha':np.logspace(-4, 4, 50)}\n",
        "grid = GridSearchCV(RidgeClassifier(),param_grid,refit=True,verbose=2)\n",
        "grid.fit(X_train,y_train)\n",
        "print(accuracy_score(y_val, grid.predict(X_val)))\n",
        "'''\n",
        "best_params = {'alpha': 11.513953993264458}\n",
        "# retrain the model with best params\n",
        "ridge_grid = RidgeClassifier(alpha=11.513953993264458)\n",
        "ridge_grid.fit(X_train, y_train)"
      ],
      "id": "277b5361",
      "execution_count": null,
      "outputs": [
        {
          "data": {
            "text/plain": [
              "RidgeClassifier(alpha=11.513953993264458)"
            ]
          },
          "execution_count": 223,
          "metadata": {},
          "output_type": "execute_result"
        }
      ]
    },
    {
      "cell_type": "code",
      "metadata": {
        "id": "46cdc318",
        "outputId": "247ada04-d25e-423b-e6c6-c33eccbd95a9"
      },
      "source": [
        "# accuracy of the ridge gridsearch model\n",
        "print(f1_score(y_val, ridge_grid.predict(X_val), average = 'weighted'))"
      ],
      "id": "46cdc318",
      "execution_count": null,
      "outputs": [
        {
          "name": "stdout",
          "output_type": "stream",
          "text": [
            "0.7660302297613866\n"
          ]
        }
      ]
    },
    {
      "cell_type": "code",
      "metadata": {
        "id": "94018bd5",
        "outputId": "33899541-9e8d-49a6-a950-e8e85815080c"
      },
      "source": [
        "# retraining the best Ridge Classifer model we have\n",
        "ridge_tuned = RidgeClassifier(alpha=5.428675439323859, class_weight=None, copy_X=True,\n",
        "                fit_intercept=True, max_iter=None, normalize=False,\n",
        "                random_state=None, solver='auto', tol=0.001) \n",
        "ridge_tuned.fit(X_train, y_train)"
      ],
      "id": "94018bd5",
      "execution_count": null,
      "outputs": [
        {
          "data": {
            "text/plain": [
              "RidgeClassifier(alpha=5.428675439323859)"
            ]
          },
          "execution_count": 225,
          "metadata": {},
          "output_type": "execute_result"
        }
      ]
    },
    {
      "cell_type": "code",
      "metadata": {
        "id": "042f5430",
        "outputId": "379e5dfa-4103-4848-bdb1-766755e342b4"
      },
      "source": [
        "# Checking the accuracy score\n",
        "ridge_prediction_tuned =ridge_tuned.predict(X_val)\n",
        "\n",
        "ridge_acc_2 = round(accuracy_score(y_val, ridge_prediction_tuned),4)\n",
        "print(f'\\nOverall accuracy score for Ridge Classifier accuracy Score : {ridge_acc}')\n",
        "ridge_f1_2 = round(f1_score(y_val, ridge_prediction_tuned, average=\"weighted\"),4)\n",
        "print(f'\\nWeighted avg f1 score for Ridge Classifier : {ridge_f1}')"
      ],
      "id": "042f5430",
      "execution_count": null,
      "outputs": [
        {
          "name": "stdout",
          "output_type": "stream",
          "text": [
            "\n",
            "Overall accuracy score for Ridge Classifier accuracy Score : 0.7819\n",
            "\n",
            "Weighted avg f1 score for Ridge Classifier : 0.7736\n"
          ]
        }
      ]
    },
    {
      "cell_type": "code",
      "metadata": {
        "id": "1ab60600"
      },
      "source": [
        "# Saving the model\n",
        "import pickle\n",
        "model_save_path = 'Ridgeclfr.pkl'\n",
        "with open(model_save_path, 'wb') as file:\n",
        "  pickle.dump(ridge_tuned, file)"
      ],
      "id": "1ab60600",
      "execution_count": null,
      "outputs": []
    },
    {
      "cell_type": "code",
      "metadata": {
        "id": "1033b5b6",
        "outputId": "83fc537d-02fa-4db2-8bd3-2fd71a7632ae"
      },
      "source": [
        "print('classfication report for our best model\\n',classification_report(y_val, ridge_tuned.predict(X_val)))"
      ],
      "id": "1033b5b6",
      "execution_count": null,
      "outputs": [
        {
          "name": "stdout",
          "output_type": "stream",
          "text": [
            "classfication report for our best model\n",
            "               precision    recall  f1-score   support\n",
            "\n",
            "          -1       0.80      0.48      0.60       126\n",
            "           0       0.68      0.48      0.56       224\n",
            "           1       0.81      0.89      0.84       895\n",
            "           2       0.77      0.82      0.79       337\n",
            "\n",
            "    accuracy                           0.78      1582\n",
            "   macro avg       0.76      0.67      0.70      1582\n",
            "weighted avg       0.78      0.78      0.77      1582\n",
            "\n"
          ]
        }
      ]
    },
    {
      "cell_type": "code",
      "metadata": {
        "id": "7c04800f",
        "outputId": "d62a030e-8c74-4dbc-dbfe-0cc01b3b5c1f"
      },
      "source": [
        "# # Visual represetation of of the f1 score for each class\n",
        "report_ridge = classification_report(y_val, ridge_prediction_tuned, output_dict=True)\n",
        "df_ridge = pd.DataFrame(report_ridge).transpose()\n",
        "df_ridge.drop(['accuracy'], inplace = True)\n",
        "df_ridge.sort_values(by=['f1-score'],ascending=True, inplace = True)\n",
        "df_ridge.drop(['weighted avg','macro avg'])['f1-score'].plot(kind='barh', figsize = (8,8))\n",
        "plt.xlabel('f1-score')\n",
        "plt.ylabel('Classes')\n",
        "plt.yticks(rotation = 40)\n",
        "plt.title('f1-score per sentiment class for tunned SVC')\n",
        "plt.show()"
      ],
      "id": "7c04800f",
      "execution_count": null,
      "outputs": [
        {
          "data": {
            "image/png": "[encoded data removed]",
            "text/plain": [
              "<Figure size 576x576 with 1 Axes>"
            ]
          },
          "metadata": {
            "needs_background": "light"
          },
          "output_type": "display_data"
        }
      ]
    },
    {
      "cell_type": "code",
      "metadata": {
        "id": "390dddb5"
      },
      "source": [
        "y_pred = ridge_tuned.predict(X_test)"
      ],
      "id": "390dddb5",
      "execution_count": null,
      "outputs": []
    },
    {
      "cell_type": "code",
      "metadata": {
        "id": "8dbcc304",
        "outputId": "bdd29d61-a573-419f-be4d-44d6ac8d66f6"
      },
      "source": [
        "y_pred"
      ],
      "id": "8dbcc304",
      "execution_count": null,
      "outputs": [
        {
          "data": {
            "text/plain": [
              "array([2, 1, 1, ..., 0, 0, 1], dtype=int64)"
            ]
          },
          "execution_count": 232,
          "metadata": {},
          "output_type": "execute_result"
        }
      ]
    },
    {
      "cell_type": "code",
      "metadata": {
        "id": "8d66fc89"
      },
      "source": [
        "test_data['sentiment'] = y_pred"
      ],
      "id": "8d66fc89",
      "execution_count": null,
      "outputs": []
    },
    {
      "cell_type": "code",
      "metadata": {
        "id": "d3293fad"
      },
      "source": [
        "test_data[['tweetid','sentiment']].to_csv('Ridge Submission.csv', index=False)"
      ],
      "id": "d3293fad",
      "execution_count": null,
      "outputs": []
    },
    {
      "cell_type": "code",
      "metadata": {
        "id": "f962ffe1",
        "outputId": "81baf950-243d-44d5-e4f5-ed62c1500f5a"
      },
      "source": [
        "test_data[['tweetid','sentiment']]"
      ],
      "id": "f962ffe1",
      "execution_count": null,
      "outputs": [
        {
          "data": {
            "text/html": [
              "<div>\n",
              "<style scoped>\n",
              "    .dataframe tbody tr th:only-of-type {\n",
              "        vertical-align: middle;\n",
              "    }\n",
              "\n",
              "    .dataframe tbody tr th {\n",
              "        vertical-align: top;\n",
              "    }\n",
              "\n",
              "    .dataframe thead th {\n",
              "        text-align: right;\n",
              "    }\n",
              "</style>\n",
              "<table border=\"1\" class=\"dataframe\">\n",
              "  <thead>\n",
              "    <tr style=\"text-align: right;\">\n",
              "      <th></th>\n",
              "      <th>tweetid</th>\n",
              "      <th>sentiment</th>\n",
              "    </tr>\n",
              "  </thead>\n",
              "  <tbody>\n",
              "    <tr>\n",
              "      <th>0</th>\n",
              "      <td>169760</td>\n",
              "      <td>2</td>\n",
              "    </tr>\n",
              "    <tr>\n",
              "      <th>1</th>\n",
              "      <td>35326</td>\n",
              "      <td>1</td>\n",
              "    </tr>\n",
              "    <tr>\n",
              "      <th>2</th>\n",
              "      <td>224985</td>\n",
              "      <td>1</td>\n",
              "    </tr>\n",
              "    <tr>\n",
              "      <th>3</th>\n",
              "      <td>476263</td>\n",
              "      <td>1</td>\n",
              "    </tr>\n",
              "    <tr>\n",
              "      <th>4</th>\n",
              "      <td>872928</td>\n",
              "      <td>0</td>\n",
              "    </tr>\n",
              "    <tr>\n",
              "      <th>...</th>\n",
              "      <td>...</td>\n",
              "      <td>...</td>\n",
              "    </tr>\n",
              "    <tr>\n",
              "      <th>10541</th>\n",
              "      <td>895714</td>\n",
              "      <td>1</td>\n",
              "    </tr>\n",
              "    <tr>\n",
              "      <th>10542</th>\n",
              "      <td>875167</td>\n",
              "      <td>1</td>\n",
              "    </tr>\n",
              "    <tr>\n",
              "      <th>10543</th>\n",
              "      <td>78329</td>\n",
              "      <td>0</td>\n",
              "    </tr>\n",
              "    <tr>\n",
              "      <th>10544</th>\n",
              "      <td>867455</td>\n",
              "      <td>0</td>\n",
              "    </tr>\n",
              "    <tr>\n",
              "      <th>10545</th>\n",
              "      <td>470892</td>\n",
              "      <td>1</td>\n",
              "    </tr>\n",
              "  </tbody>\n",
              "</table>\n",
              "<p>10546 rows × 2 columns</p>\n",
              "</div>"
            ],
            "text/plain": [
              "       tweetid  sentiment\n",
              "0       169760          2\n",
              "1        35326          1\n",
              "2       224985          1\n",
              "3       476263          1\n",
              "4       872928          0\n",
              "...        ...        ...\n",
              "10541   895714          1\n",
              "10542   875167          1\n",
              "10543    78329          0\n",
              "10544   867455          0\n",
              "10545   470892          1\n",
              "\n",
              "[10546 rows x 2 columns]"
            ]
          },
          "execution_count": 235,
          "metadata": {},
          "output_type": "execute_result"
        }
      ]
    },
    {
      "cell_type": "code",
      "metadata": {
        "id": "311bd5ee"
      },
      "source": [
        ""
      ],
      "id": "311bd5ee",
      "execution_count": null,
      "outputs": []
    },
    {
      "cell_type": "code",
      "metadata": {
        "id": "e8133580"
      },
      "source": [
        ""
      ],
      "id": "e8133580",
      "execution_count": null,
      "outputs": []
    },
    {
      "cell_type": "code",
      "metadata": {
        "id": "b5a1638d"
      },
      "source": [
        ""
      ],
      "id": "b5a1638d",
      "execution_count": null,
      "outputs": []
    },
    {
      "cell_type": "code",
      "metadata": {
        "id": "89db5f22"
      },
      "source": [
        ""
      ],
      "id": "89db5f22",
      "execution_count": null,
      "outputs": []
    }
  ]
}