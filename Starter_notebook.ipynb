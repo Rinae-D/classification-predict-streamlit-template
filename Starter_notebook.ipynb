{
  "nbformat": 4,
  "nbformat_minor": 5,
  "metadata": {
    "kernelspec": {
      "display_name": "Python 3",
      "language": "python",
      "name": "python3"
    },
    "language_info": {
      "codemirror_mode": {
        "name": "ipython",
        "version": 3
      },
      "file_extension": ".py",
      "mimetype": "text/x-python",
      "name": "python",
      "nbconvert_exporter": "python",
      "pygments_lexer": "ipython3",
      "version": "3.8.8"
    },
    "colab": {
      "name": "Starter_notebook.ipynb",
      "provenance": []
    }
  },
  "cells": [
    {
      "cell_type": "markdown",
      "metadata": {
        "id": "yzpz_sLxVC1T"
      },
      "source": [
        "# Classification Predict : Climate Change Belief Analysis\n",
        "\n",
        "<h2><center> Team_7:</center></h2>\n",
        " \n",
        "<center>- Kwenadi Letsalo\n",
        "<center>- Rinae Tshivhidzo\n",
        "<center>- Kgotso Phela\n",
        "<center>Matome Peta\n",
        "<center>Rookaya Madari"
      ],
      "id": "yzpz_sLxVC1T"
    },
    {
      "cell_type": "markdown",
      "metadata": {
        "id": "84dfef78"
      },
      "source": [
        "\n",
        "<img src=\"https://github.com/Rinae-D/classification-predict-streamlit-template/blob/master/Climate_Action_Poster.png?raw=1\" width=\"700\">"
      ],
      "id": "84dfef78"
    },
    {
      "cell_type": "markdown",
      "metadata": {
        "id": "4sXYQ0UiYUYJ"
      },
      "source": [
        "##  Introduction\n",
        "\n",
        "Climate change is the long-term shift in global or regional temperature and typical weather patterns. These shifts may be natural but the cause of current climate change is largely human activity, like burning fossil fuels, such as natural gas, oil, and coal. Burning these materials releases what are called greenhouse gases into Earth’s atmosphere. There, these gases trap heat from the sun’s rays inside the atmosphere causing Earth’s average temperature to rise. However,recently, many companies are built around lessening one’s environmental impact or carbon footprint. They offer products and services that are environmentally friendly and sustainable, in line with their values and ideals. \n",
        "\n",
        "### Problem statement \n",
        "\n",
        "With that being said, they would like to determine how people perceive climate change and whether or not they believe it is a real threat. This would add to their market research efforts in gauging how their product/service may be received.\n",
        "\n",
        "### Main Objective\n",
        "\n",
        "To creat a Machine Learning model that is able to classify whether or not a person believes in climate change, based on their  tweet data.\n",
        "\n",
        "### Data Information <br>\n",
        "The collection of this data was funded by a Canada Foundation for Innovation JELF Grant to Chris Bauch, University of Waterloo. The dataset aggregates tweets pertaining to climate change collected between Apr 27, 2015 and Feb 21, 2018. In total, 43943 tweets were collected. Each tweet is labelled as one of the following classes:\n",
        "\n",
        "sentiments: <br>\n",
        " 1:   The tweet supports the belief of man-made climate change <br>\n",
        "-1:   The tweet does not believe in man-made climate change <br>\n",
        " 0:   The tweet neither supports nor refutes the belief of man-made climate change <br>\n",
        " 2:   The tweet links to factual news about climate change\n",
        "\n",
        " sentiment: Sentiment of tweet message <br>\n",
        " Tweet body tweetid: Twitter unique id\n",
        "\n"
      ],
      "id": "4sXYQ0UiYUYJ"
    },
    {
      "cell_type": "markdown",
      "metadata": {
        "id": "0e4JOaaeYcCm"
      },
      "source": [
        "## Overview\n",
        "\n",
        "1. Loading data\n",
        "3. Text cleaning\n",
        "3. EDA\n",
        "4. EDA after cleaning of the Text\n",
        "5. Training different models\n",
        "6. Gridsearch on 3 best models\n",
        "7. Stacking\n",
        "8. Conclusion"
      ],
      "id": "0e4JOaaeYcCm"
    },
    {
      "cell_type": "markdown",
      "metadata": {
        "id": "gPlEGSR0frtw"
      },
      "source": [
        "# Importing neccessary libraries"
      ],
      "id": "gPlEGSR0frtw"
    },
    {
      "cell_type": "code",
      "metadata": {
        "id": "a6eacf84"
      },
      "source": [
        "# downloads\n",
        "#!pip install parfit\n",
        "#!pip install scikit-plot\n",
        "#!pip install contractions\n",
        "\n",
        "\n",
        "# imports for Natural Language  Processing\n",
        "import pandas as pd\n",
        "import numpy as np\n",
        "import nltk\n",
        "import string\n",
        "import re\n",
        "from sklearn.pipeline import Pipeline\n",
        "import pickle\n",
        "\n",
        "\n",
        "# feature extractioin\n",
        "from sklearn.feature_extraction.text import CountVectorizer\n",
        "from sklearn.feature_extraction.text import TfidfVectorizer\n",
        "\n",
        "# Preprocessing\n",
        "#import contractions\n",
        "from collections import Counter\n",
        "from nltk.corpus import wordnet\n",
        "from nltk.corpus import stopwords\n",
        "from nltk.stem import WordNetLemmatizer\n",
        "from nltk.tokenize import word_tokenize\n",
        "from nltk.tokenize import TweetTokenizer\n",
        "from sklearn.preprocessing import label_binarize\n",
        "from sklearn.model_selection import train_test_split\n",
        "\n",
        "# classification models\n",
        "from sklearn.svm import SVC\n",
        "from sklearn.svm import LinearSVC\n",
        "from sklearn.ensemble import VotingClassifier\n",
        "from sklearn.linear_model import SGDClassifier\n",
        "from sklearn.tree import DecisionTreeClassifier\n",
        "from sklearn.linear_model import RidgeClassifier\n",
        "from sklearn.multiclass import OneVsRestClassifier\n",
        "from sklearn.linear_model import LogisticRegression\n",
        "from sklearn.ensemble import RandomForestClassifier\n",
        "\n",
        "\n",
        "# Hyperparameter tunning methods\n",
        "#import parfit.parfit as pf\n",
        "from sklearn.model_selection import GridSearchCV\n",
        "from sklearn.model_selection import ParameterGrid\n",
        "\n",
        "# metrics\n",
        "\n",
        "from sklearn.metrics import f1_score\n",
        "from sklearn.metrics import roc_auc_score\n",
        "from sklearn.metrics import accuracy_score\n",
        "from sklearn.metrics import confusion_matrix\n",
        "from sklearn.metrics import classification_report\n",
        "\n",
        "# imports for data visualisation\n",
        "import seaborn as sns\n",
        "from PIL import Image\n",
        "from scipy import stats\n",
        "import matplotlib.pyplot as plt\n",
        "from nltk.probability import FreqDist\n",
        "from sklearn.metrics import plot_roc_curve\n",
        "\n",
        "from scikitplot.metrics import plot_roc, plot_confusion_matrix\n",
        "%matplotlib inline\n",
        "\n",
        "\n",
        "import warnings\n",
        "warnings.filterwarnings(\"ignore\")"
      ],
      "id": "a6eacf84",
      "execution_count": 27,
      "outputs": []
    },
    {
      "cell_type": "markdown",
      "metadata": {
        "id": "ASV3eXdxYsBE"
      },
      "source": [
        "### 1.Loading data"
      ],
      "id": "ASV3eXdxYsBE"
    },
    {
      "cell_type": "code",
      "metadata": {
        "id": "8597beb7"
      },
      "source": [
        "train = pd.read_csv('https://raw.githubusercontent.com/Rinae-D/classification-predict-streamlit-template/master/train.csv')\n",
        "test = pd.read_csv('https://raw.githubusercontent.com/Rinae-D/classification-predict-streamlit-template/master/test_with_no_labels.csv')\n",
        "\n",
        "\n",
        "train_df = train.copy()\n",
        "test_df = test.copy()\n"
      ],
      "id": "8597beb7",
      "execution_count": 2,
      "outputs": []
    },
    {
      "cell_type": "code",
      "metadata": {
        "colab": {
          "base_uri": "https://localhost:8080/",
          "height": 206
        },
        "id": "82fbb28a",
        "outputId": "9ab7baeb-e201-42de-a299-2b7b8cb972fe"
      },
      "source": [
        "#viewing the train data\n",
        "train_df.head()"
      ],
      "id": "82fbb28a",
      "execution_count": 3,
      "outputs": [
        {
          "output_type": "execute_result",
          "data": {
            "text/html": [
              "<div>\n",
              "<style scoped>\n",
              "    .dataframe tbody tr th:only-of-type {\n",
              "        vertical-align: middle;\n",
              "    }\n",
              "\n",
              "    .dataframe tbody tr th {\n",
              "        vertical-align: top;\n",
              "    }\n",
              "\n",
              "    .dataframe thead th {\n",
              "        text-align: right;\n",
              "    }\n",
              "</style>\n",
              "<table border=\"1\" class=\"dataframe\">\n",
              "  <thead>\n",
              "    <tr style=\"text-align: right;\">\n",
              "      <th></th>\n",
              "      <th>sentiment</th>\n",
              "      <th>message</th>\n",
              "      <th>tweetid</th>\n",
              "    </tr>\n",
              "  </thead>\n",
              "  <tbody>\n",
              "    <tr>\n",
              "      <th>0</th>\n",
              "      <td>1</td>\n",
              "      <td>PolySciMajor EPA chief doesn't think carbon di...</td>\n",
              "      <td>625221</td>\n",
              "    </tr>\n",
              "    <tr>\n",
              "      <th>1</th>\n",
              "      <td>1</td>\n",
              "      <td>It's not like we lack evidence of anthropogeni...</td>\n",
              "      <td>126103</td>\n",
              "    </tr>\n",
              "    <tr>\n",
              "      <th>2</th>\n",
              "      <td>2</td>\n",
              "      <td>RT @RawStory: Researchers say we have three ye...</td>\n",
              "      <td>698562</td>\n",
              "    </tr>\n",
              "    <tr>\n",
              "      <th>3</th>\n",
              "      <td>1</td>\n",
              "      <td>#TodayinMaker# WIRED : 2016 was a pivotal year...</td>\n",
              "      <td>573736</td>\n",
              "    </tr>\n",
              "    <tr>\n",
              "      <th>4</th>\n",
              "      <td>1</td>\n",
              "      <td>RT @SoyNovioDeTodas: It's 2016, and a racist, ...</td>\n",
              "      <td>466954</td>\n",
              "    </tr>\n",
              "  </tbody>\n",
              "</table>\n",
              "</div>"
            ],
            "text/plain": [
              "   sentiment                                            message  tweetid\n",
              "0          1  PolySciMajor EPA chief doesn't think carbon di...   625221\n",
              "1          1  It's not like we lack evidence of anthropogeni...   126103\n",
              "2          2  RT @RawStory: Researchers say we have three ye...   698562\n",
              "3          1  #TodayinMaker# WIRED : 2016 was a pivotal year...   573736\n",
              "4          1  RT @SoyNovioDeTodas: It's 2016, and a racist, ...   466954"
            ]
          },
          "metadata": {},
          "execution_count": 3
        }
      ]
    },
    {
      "cell_type": "code",
      "metadata": {
        "colab": {
          "base_uri": "https://localhost:8080/",
          "height": 206
        },
        "id": "e9ca5880",
        "outputId": "5d59a10e-4e4a-4b7c-893f-52e9a41589d6"
      },
      "source": [
        "#viewing the test data\n",
        "test_df.head()"
      ],
      "id": "e9ca5880",
      "execution_count": 4,
      "outputs": [
        {
          "output_type": "execute_result",
          "data": {
            "text/html": [
              "<div>\n",
              "<style scoped>\n",
              "    .dataframe tbody tr th:only-of-type {\n",
              "        vertical-align: middle;\n",
              "    }\n",
              "\n",
              "    .dataframe tbody tr th {\n",
              "        vertical-align: top;\n",
              "    }\n",
              "\n",
              "    .dataframe thead th {\n",
              "        text-align: right;\n",
              "    }\n",
              "</style>\n",
              "<table border=\"1\" class=\"dataframe\">\n",
              "  <thead>\n",
              "    <tr style=\"text-align: right;\">\n",
              "      <th></th>\n",
              "      <th>message</th>\n",
              "      <th>tweetid</th>\n",
              "    </tr>\n",
              "  </thead>\n",
              "  <tbody>\n",
              "    <tr>\n",
              "      <th>0</th>\n",
              "      <td>Europe will now be looking to China to make su...</td>\n",
              "      <td>169760</td>\n",
              "    </tr>\n",
              "    <tr>\n",
              "      <th>1</th>\n",
              "      <td>Combine this with the polling of staffers re c...</td>\n",
              "      <td>35326</td>\n",
              "    </tr>\n",
              "    <tr>\n",
              "      <th>2</th>\n",
              "      <td>The scary, unimpeachable evidence that climate...</td>\n",
              "      <td>224985</td>\n",
              "    </tr>\n",
              "    <tr>\n",
              "      <th>3</th>\n",
              "      <td>@Karoli @morgfair @OsborneInk @dailykos \\nPuti...</td>\n",
              "      <td>476263</td>\n",
              "    </tr>\n",
              "    <tr>\n",
              "      <th>4</th>\n",
              "      <td>RT @FakeWillMoore: 'Female orgasms cause globa...</td>\n",
              "      <td>872928</td>\n",
              "    </tr>\n",
              "  </tbody>\n",
              "</table>\n",
              "</div>"
            ],
            "text/plain": [
              "                                             message  tweetid\n",
              "0  Europe will now be looking to China to make su...   169760\n",
              "1  Combine this with the polling of staffers re c...    35326\n",
              "2  The scary, unimpeachable evidence that climate...   224985\n",
              "3  @Karoli @morgfair @OsborneInk @dailykos \\nPuti...   476263\n",
              "4  RT @FakeWillMoore: 'Female orgasms cause globa...   872928"
            ]
          },
          "metadata": {},
          "execution_count": 4
        }
      ]
    },
    {
      "cell_type": "markdown",
      "metadata": {
        "id": "1df8c69d"
      },
      "source": [
        "# 2. Data Preprocessing\n",
        "\n",
        " We are now cheking if we have some missing or null values and also look at the data types"
      ],
      "id": "1df8c69d"
    },
    {
      "cell_type": "code",
      "metadata": {
        "colab": {
          "base_uri": "https://localhost:8080/"
        },
        "id": "92621045",
        "outputId": "9f04fc41-7b10-4c32-e8f0-cc257a1f8b3a"
      },
      "source": [
        "#checking the information of the train data\n",
        "train_df.info()"
      ],
      "id": "92621045",
      "execution_count": 5,
      "outputs": [
        {
          "output_type": "stream",
          "name": "stdout",
          "text": [
            "<class 'pandas.core.frame.DataFrame'>\n",
            "RangeIndex: 15819 entries, 0 to 15818\n",
            "Data columns (total 3 columns):\n",
            " #   Column     Non-Null Count  Dtype \n",
            "---  ------     --------------  ----- \n",
            " 0   sentiment  15819 non-null  int64 \n",
            " 1   message    15819 non-null  object\n",
            " 2   tweetid    15819 non-null  int64 \n",
            "dtypes: int64(2), object(1)\n",
            "memory usage: 370.9+ KB\n"
          ]
        }
      ]
    },
    {
      "cell_type": "markdown",
      "metadata": {
        "id": "vBseXhc2ywBz"
      },
      "source": [
        "We see we have 15819 tweets to train on, each labeled with a sentiment to see if they believe, deny or are neutral about climate change. And if the tweet is from news or media."
      ],
      "id": "vBseXhc2ywBz"
    },
    {
      "cell_type": "code",
      "metadata": {
        "colab": {
          "base_uri": "https://localhost:8080/"
        },
        "id": "f5f9369a",
        "outputId": "f9051b3b-cf70-46d4-90de-2a06995d0116"
      },
      "source": [
        "#checking the information of the test data\n",
        "test_df.info()"
      ],
      "id": "f5f9369a",
      "execution_count": 6,
      "outputs": [
        {
          "output_type": "stream",
          "name": "stdout",
          "text": [
            "<class 'pandas.core.frame.DataFrame'>\n",
            "RangeIndex: 10546 entries, 0 to 10545\n",
            "Data columns (total 2 columns):\n",
            " #   Column   Non-Null Count  Dtype \n",
            "---  ------   --------------  ----- \n",
            " 0   message  10546 non-null  object\n",
            " 1   tweetid  10546 non-null  int64 \n",
            "dtypes: int64(1), object(1)\n",
            "memory usage: 164.9+ KB\n"
          ]
        }
      ]
    },
    {
      "cell_type": "markdown",
      "metadata": {
        "id": "AjiTbLfYzSxN"
      },
      "source": [
        "The test data have 10546  tweets tto test on."
      ],
      "id": "AjiTbLfYzSxN"
    },
    {
      "cell_type": "markdown",
      "metadata": {
        "id": "r-dqWRCAgBAb"
      },
      "source": [
        "Both the train and test data have no missing values "
      ],
      "id": "r-dqWRCAgBAb"
    },
    {
      "cell_type": "code",
      "metadata": {
        "id": "kkXFaVUnDsr3"
      },
      "source": [
        ""
      ],
      "id": "kkXFaVUnDsr3",
      "execution_count": 6,
      "outputs": []
    },
    {
      "cell_type": "markdown",
      "metadata": {
        "id": "xvpT-S1tDtkB"
      },
      "source": [
        "# 3.Exploratory Data Analysis (EDA)"
      ],
      "id": "xvpT-S1tDtkB"
    },
    {
      "cell_type": "markdown",
      "metadata": {
        "id": "8fDRbO7C11f6"
      },
      "source": [
        "Let us look at how samples we have for each sentiment. "
      ],
      "id": "8fDRbO7C11f6"
    },
    {
      "cell_type": "code",
      "metadata": {
        "colab": {
          "base_uri": "https://localhost:8080/",
          "height": 353
        },
        "id": "TEfeTFj90Xij",
        "outputId": "9a2bc060-7f88-4a9e-8159-7127dd1d5c3f"
      },
      "source": [
        "#Countplot for each sentiment\n",
        "sns.set(font_scale=1.5)\n",
        "fig, ax1 = plt.subplots(figsize=(10,5))\n",
        "graph = sns.countplot(ax=ax1,x='sentiment', data=train_df)\n",
        "graph.set_xticklabels(graph.get_xticklabels())\n",
        "for p in graph.patches:\n",
        "    height = p.get_height()\n",
        "    graph.text(p.get_x()+p.get_width()/2., height + 0.1,height ,ha=\"center\")"
      ],
      "id": "TEfeTFj90Xij",
      "execution_count": 7,
      "outputs": [
        {
          "output_type": "display_data",
          "data": {
            "image/png": "[encoded data removed]",
            "text/plain": [
              "<Figure size 720x360 with 1 Axes>"
            ]
          },
          "metadata": {}
        }
      ]
    },
    {
      "cell_type": "markdown",
      "metadata": {
        "id": "RlplSqLB25NQ"
      },
      "source": [
        "we can see that there is a class imbalance. This turns to be a problem when training a model since the model will be able to train on more data for the majority class and less data for manority class.We will handle this problem as we continue with EDA.  Most of the tweets are from climate change believers followed by news tweets."
      ],
      "id": "RlplSqLB25NQ"
    },
    {
      "cell_type": "code",
      "metadata": {
        "id": "69a6ab7b"
      },
      "source": [
        "# Part of Speech for modeling\n",
        "#def POS(word):\n",
        "#    \"\"\"\n",
        "#    This function gets the part of speech\n",
        "#    \"\"\"\n",
        "#    pos_counts = Counter()\n",
        "#    probable_part_of_speech = wordnet.synsets(word)\n",
        "#    pos_counts[\"n\"] = len([i for i in probable_part_of_speech if i.pos()==\"n\"])\n",
        "#    pos_counts[\"v\"] = len([i for i in probable_part_of_speech if i.pos()==\"v\"])\n",
        "#    pos_counts[\"a\"] = len([i for i in probable_part_of_speech if i.pos()==\"a\"])\n",
        "#    pos_counts[\"r\"] = len([i for i in probable_part_of_speech if i.pos()==\"r\"])\n",
        "#    part_of_speech = pos_counts.most_common(1)[0][0]\n",
        "#    return part_of_speech"
      ],
      "id": "69a6ab7b",
      "execution_count": 9,
      "outputs": []
    },
    {
      "cell_type": "markdown",
      "metadata": {
        "id": "BDzgPHw6mLP3"
      },
      "source": [
        " ### Extract urls and mentions\n",
        " \n",
        "Returns a DataFrame with three additional columns, \"hashtags\", \"users\", \"url\" and \"RT\"\n"
      ],
      "id": "BDzgPHw6mLP3"
    },
    {
      "cell_type": "code",
      "metadata": {
        "id": "cb94d327"
      },
      "source": [
        "\n",
        "\n",
        "def extractor(df):\n",
        "  \n",
        "    # Extract hashtags\n",
        "    tweets = df['message']\n",
        "    df['hashtags'] = df.message. str.lower().str.findall(r'#.*?(?=\\s|$)')\n",
        "    htags = df['hashtags']\n",
        "    df['hashtags'] = htags.apply(lambda x: np.nan if len(x) == 0 else x)\n",
        "    \n",
        "    # Extract users\n",
        "    df['users'] = df.message. str.lower().str.findall(r'@\\w*')\n",
        "    mtags = df['users']\n",
        "    df['users'] = mtags.apply(lambda x: np.nan if len(x) == 0 else x)\n",
        "    \n",
        "    # Extract url\n",
        "    df['url'] = df.message. str.lower().str.findall(r'http\\S+|www.\\S+')\n",
        "    urltags = df['url']\n",
        "    df['url'] = urltags.apply(lambda x: np.nan if len(x) == 0 else x)\n",
        "    \n",
        "    return df"
      ],
      "id": "cb94d327",
      "execution_count": 10,
      "outputs": []
    },
    {
      "cell_type": "code",
      "metadata": {
        "scrolled": true,
        "colab": {
          "base_uri": "https://localhost:8080/",
          "height": 424
        },
        "id": "0aa8a9e2",
        "outputId": "44dc4449-7f82-41f3-f689-c2f1bd7a9e76"
      },
      "source": [
        "extractor(train_df)  "
      ],
      "id": "0aa8a9e2",
      "execution_count": 11,
      "outputs": [
        {
          "output_type": "execute_result",
          "data": {
            "text/html": [
              "<div>\n",
              "<style scoped>\n",
              "    .dataframe tbody tr th:only-of-type {\n",
              "        vertical-align: middle;\n",
              "    }\n",
              "\n",
              "    .dataframe tbody tr th {\n",
              "        vertical-align: top;\n",
              "    }\n",
              "\n",
              "    .dataframe thead th {\n",
              "        text-align: right;\n",
              "    }\n",
              "</style>\n",
              "<table border=\"1\" class=\"dataframe\">\n",
              "  <thead>\n",
              "    <tr style=\"text-align: right;\">\n",
              "      <th></th>\n",
              "      <th>sentiment</th>\n",
              "      <th>message</th>\n",
              "      <th>tweetid</th>\n",
              "      <th>hashtags</th>\n",
              "      <th>users</th>\n",
              "      <th>url</th>\n",
              "    </tr>\n",
              "  </thead>\n",
              "  <tbody>\n",
              "    <tr>\n",
              "      <th>0</th>\n",
              "      <td>1</td>\n",
              "      <td>PolySciMajor EPA chief doesn't think carbon di...</td>\n",
              "      <td>625221</td>\n",
              "      <td>NaN</td>\n",
              "      <td>[@mashable]</td>\n",
              "      <td>[https://t.co/yelvcefxkc]</td>\n",
              "    </tr>\n",
              "    <tr>\n",
              "      <th>1</th>\n",
              "      <td>1</td>\n",
              "      <td>It's not like we lack evidence of anthropogeni...</td>\n",
              "      <td>126103</td>\n",
              "      <td>NaN</td>\n",
              "      <td>NaN</td>\n",
              "      <td>NaN</td>\n",
              "    </tr>\n",
              "    <tr>\n",
              "      <th>2</th>\n",
              "      <td>2</td>\n",
              "      <td>RT @RawStory: Researchers say we have three ye...</td>\n",
              "      <td>698562</td>\n",
              "      <td>NaN</td>\n",
              "      <td>[@rawstory]</td>\n",
              "      <td>[https://t.co/wdt0kdur2f, https://t.co/z0anpt…]</td>\n",
              "    </tr>\n",
              "    <tr>\n",
              "      <th>3</th>\n",
              "      <td>1</td>\n",
              "      <td>#TodayinMaker# WIRED : 2016 was a pivotal year...</td>\n",
              "      <td>573736</td>\n",
              "      <td>[#todayinmaker#]</td>\n",
              "      <td>NaN</td>\n",
              "      <td>[https://t.co/44wotxtlcd]</td>\n",
              "    </tr>\n",
              "    <tr>\n",
              "      <th>4</th>\n",
              "      <td>1</td>\n",
              "      <td>RT @SoyNovioDeTodas: It's 2016, and a racist, ...</td>\n",
              "      <td>466954</td>\n",
              "      <td>[#electionnight]</td>\n",
              "      <td>[@soynoviodetodas]</td>\n",
              "      <td>NaN</td>\n",
              "    </tr>\n",
              "    <tr>\n",
              "      <th>...</th>\n",
              "      <td>...</td>\n",
              "      <td>...</td>\n",
              "      <td>...</td>\n",
              "      <td>...</td>\n",
              "      <td>...</td>\n",
              "      <td>...</td>\n",
              "    </tr>\n",
              "    <tr>\n",
              "      <th>15814</th>\n",
              "      <td>1</td>\n",
              "      <td>RT @ezlusztig: They took down the material on ...</td>\n",
              "      <td>22001</td>\n",
              "      <td>NaN</td>\n",
              "      <td>[@ezlusztig]</td>\n",
              "      <td>[https://…]</td>\n",
              "    </tr>\n",
              "    <tr>\n",
              "      <th>15815</th>\n",
              "      <td>2</td>\n",
              "      <td>RT @washingtonpost: How climate change could b...</td>\n",
              "      <td>17856</td>\n",
              "      <td>NaN</td>\n",
              "      <td>[@washingtonpost]</td>\n",
              "      <td>[https://t.co/rpfgvb2plq]</td>\n",
              "    </tr>\n",
              "    <tr>\n",
              "      <th>15816</th>\n",
              "      <td>0</td>\n",
              "      <td>notiven: RT: nytimesworld :What does Trump act...</td>\n",
              "      <td>384248</td>\n",
              "      <td>NaN</td>\n",
              "      <td>NaN</td>\n",
              "      <td>[https://t.co/0mp2]</td>\n",
              "    </tr>\n",
              "    <tr>\n",
              "      <th>15817</th>\n",
              "      <td>-1</td>\n",
              "      <td>RT @sara8smiles: Hey liberals the climate chan...</td>\n",
              "      <td>819732</td>\n",
              "      <td>[#agenda2030.]</td>\n",
              "      <td>[@sara8smiles]</td>\n",
              "      <td>NaN</td>\n",
              "    </tr>\n",
              "    <tr>\n",
              "      <th>15818</th>\n",
              "      <td>0</td>\n",
              "      <td>RT @Chet_Cannon: .@kurteichenwald's 'climate c...</td>\n",
              "      <td>806319</td>\n",
              "      <td>NaN</td>\n",
              "      <td>[@chet_cannon, @kurteichenwald]</td>\n",
              "      <td>[https://t.co/lp7uufcxdq]</td>\n",
              "    </tr>\n",
              "  </tbody>\n",
              "</table>\n",
              "<p>15819 rows × 6 columns</p>\n",
              "</div>"
            ],
            "text/plain": [
              "       sentiment  ...                                              url\n",
              "0              1  ...                        [https://t.co/yelvcefxkc]\n",
              "1              1  ...                                              NaN\n",
              "2              2  ...  [https://t.co/wdt0kdur2f, https://t.co/z0anpt…]\n",
              "3              1  ...                        [https://t.co/44wotxtlcd]\n",
              "4              1  ...                                              NaN\n",
              "...          ...  ...                                              ...\n",
              "15814          1  ...                                      [https://…]\n",
              "15815          2  ...                        [https://t.co/rpfgvb2plq]\n",
              "15816          0  ...                              [https://t.co/0mp2]\n",
              "15817         -1  ...                                              NaN\n",
              "15818          0  ...                        [https://t.co/lp7uufcxdq]\n",
              "\n",
              "[15819 rows x 6 columns]"
            ]
          },
          "metadata": {},
          "execution_count": 11
        }
      ]
    },
    {
      "cell_type": "code",
      "metadata": {
        "id": "Y7JM3v2xTVMt"
      },
      "source": [
        "# looking at Counts of users\n",
        "counts=train_df.users.value_counts()"
      ],
      "id": "Y7JM3v2xTVMt",
      "execution_count": 12,
      "outputs": []
    },
    {
      "cell_type": "code",
      "metadata": {
        "id": "lowq7xmeLay8"
      },
      "source": [
        "df_counts=pd.DataFrame(counts,columns=['users'])\n"
      ],
      "id": "lowq7xmeLay8",
      "execution_count": 13,
      "outputs": []
    },
    {
      "cell_type": "code",
      "metadata": {
        "id": "ptgrLfIuT8m1"
      },
      "source": [
        "df_counts = df_counts.reset_index()\n",
        "df_counts.columns = ['users', 'counts']\n"
      ],
      "id": "ptgrLfIuT8m1",
      "execution_count": 14,
      "outputs": []
    },
    {
      "cell_type": "code",
      "metadata": {
        "id": "Jxe7iKfLUKX5",
        "outputId": "844c62f3-e531-49d5-e3bc-4e2ec7b6411b",
        "colab": {
          "base_uri": "https://localhost:8080/",
          "height": 206
        }
      },
      "source": [
        "df_counts.head()"
      ],
      "id": "Jxe7iKfLUKX5",
      "execution_count": 15,
      "outputs": [
        {
          "output_type": "execute_result",
          "data": {
            "text/html": [
              "<div>\n",
              "<style scoped>\n",
              "    .dataframe tbody tr th:only-of-type {\n",
              "        vertical-align: middle;\n",
              "    }\n",
              "\n",
              "    .dataframe tbody tr th {\n",
              "        vertical-align: top;\n",
              "    }\n",
              "\n",
              "    .dataframe thead th {\n",
              "        text-align: right;\n",
              "    }\n",
              "</style>\n",
              "<table border=\"1\" class=\"dataframe\">\n",
              "  <thead>\n",
              "    <tr style=\"text-align: right;\">\n",
              "      <th></th>\n",
              "      <th>users</th>\n",
              "      <th>counts</th>\n",
              "    </tr>\n",
              "  </thead>\n",
              "  <tbody>\n",
              "    <tr>\n",
              "      <th>0</th>\n",
              "      <td>[@stephenschlegel]</td>\n",
              "      <td>307</td>\n",
              "    </tr>\n",
              "    <tr>\n",
              "      <th>1</th>\n",
              "      <td>[@sensanders]</td>\n",
              "      <td>243</td>\n",
              "    </tr>\n",
              "    <tr>\n",
              "      <th>2</th>\n",
              "      <td>[@realdonaldtrump]</td>\n",
              "      <td>143</td>\n",
              "    </tr>\n",
              "    <tr>\n",
              "      <th>3</th>\n",
              "      <td>[@berniesanders]</td>\n",
              "      <td>121</td>\n",
              "    </tr>\n",
              "    <tr>\n",
              "      <th>4</th>\n",
              "      <td>[@cnn]</td>\n",
              "      <td>106</td>\n",
              "    </tr>\n",
              "  </tbody>\n",
              "</table>\n",
              "</div>"
            ],
            "text/plain": [
              "                users  counts\n",
              "0  [@stephenschlegel]     307\n",
              "1       [@sensanders]     243\n",
              "2  [@realdonaldtrump]     143\n",
              "3    [@berniesanders]     121\n",
              "4              [@cnn]     106"
            ]
          },
          "metadata": {},
          "execution_count": 15
        }
      ]
    },
    {
      "cell_type": "markdown",
      "metadata": {
        "id": "mY7E79H1UsMj"
      },
      "source": [
        "We can see that @stephenschlegel is the most popular user with 307 messages followed by @sensanders with 243 messages."
      ],
      "id": "mY7E79H1UsMj"
    },
    {
      "cell_type": "code",
      "metadata": {
        "id": "Mf63szCLYE88",
        "outputId": "0d1d4324-4df7-4edc-e076-5cb934136c13",
        "colab": {
          "base_uri": "https://localhost:8080/",
          "height": 554
        }
      },
      "source": [
        "#visualising the density\n",
        "fig,(ax1,ax2,ax3,ax4) = plt.subplots(1,4,figsize=(16,8))\n",
        "\n",
        "#For Positive \n",
        "sns.distplot(train_df[train_df['sentiment']==1]['message'].str.len(), hist=True, kde=True,\n",
        "             bins=int(200/25), color = 'blue', \n",
        "             ax = ax1,\n",
        "             hist_kws={'edgecolor':'black'},\n",
        "             kde_kws={'linewidth': 4})\n",
        "ax1.set_title('Positive')\n",
        "ax1.set_xlabel('message_Length')\n",
        "ax1.set_ylabel('Density')\n",
        "\n",
        "#For Negative \n",
        "sns.distplot(train_df[train_df['sentiment']==-1]['message'].str.len(), hist=True, kde=True,\n",
        "             bins=int(200/25), color = 'lightblue', \n",
        "             ax = ax2,\n",
        "             hist_kws={'edgecolor':'black'},\n",
        "             kde_kws={'linewidth': 4})\n",
        "ax2.set_title('Negative ')\n",
        "ax2.set_xlabel('message_Length')\n",
        "ax2.set_ylabel('Density')\n",
        "\n",
        "#For Neutral \n",
        "sns.distplot(train_df[train_df['sentiment']==0]['message'].str.len(), hist=True, kde=True,\n",
        "             bins=int(200/25), color = 'purple',  \n",
        "             ax = ax3,\n",
        "             hist_kws={'edgecolor':'black'},\n",
        "             kde_kws={'linewidth': 4})\n",
        "ax3.set_title('Neutral ')\n",
        "ax3.set_xlabel('message_Length')\n",
        "ax3.set_ylabel('Density')\n",
        "\n",
        "#For Neews\n",
        "sns.distplot(train_df[train_df['sentiment']==2]['message'].str.len(), hist=True, kde=True,\n",
        "             bins=int(200/25), color = 'green', \n",
        "             ax = ax4,\n",
        "             hist_kws={'edgecolor':'black'},\n",
        "             kde_kws={'linewidth': 4})\n",
        "ax4.set_title('News')\n",
        "ax4.set_xlabel('message_Length')\n",
        "ax4.set_ylabel('Density')"
      ],
      "id": "Mf63szCLYE88",
      "execution_count": 28,
      "outputs": [
        {
          "output_type": "execute_result",
          "data": {
            "text/plain": [
              "Text(0, 0.5, 'Density')"
            ]
          },
          "metadata": {},
          "execution_count": 28
        },
        {
          "output_type": "display_data",
          "data": {
            "image/png": "[encoded data removed]",
            "text/plain": [
              "<Figure size 1152x576 with 4 Axes>"
            ]
          },
          "metadata": {
            "needs_background": "light"
          }
        }
      ]
    },
    {
      "cell_type": "code",
      "metadata": {
        "id": "z8ErkGAqYFME"
      },
      "source": [
        ""
      ],
      "id": "z8ErkGAqYFME",
      "execution_count": null,
      "outputs": []
    },
    {
      "cell_type": "code",
      "metadata": {
        "id": "byi76GcEYFaz"
      },
      "source": [
        ""
      ],
      "id": "byi76GcEYFaz",
      "execution_count": null,
      "outputs": []
    },
    {
      "cell_type": "markdown",
      "metadata": {
        "id": "xhgEccR_rdcv"
      },
      "source": [
        "### Remove noise \n",
        "\n",
        "we remove unneccesary information  such as urls,mentions, hashtags and RT."
      ],
      "id": "xhgEccR_rdcv"
    },
    {
      "cell_type": "code",
      "metadata": {
        "id": "1bbfc092"
      },
      "source": [
        "def remove_noice(df):\n",
        "    # Remove URLs\n",
        "    df['message'] = df['message'].str.replace('http\\S+|www.\\S+', '', case=False)\n",
        "\n",
        "    # Remove mentions\n",
        "    df['message'] = df['message'].str.replace('@\\w*', '', case=False)\n",
        "\n",
        "    # Removal hashtags\n",
        "    df['message'] = df['message'].str.replace('#.*?(?=\\s|$)', '', case=False)\n",
        "\n",
        "    # Remove 'RT'\n",
        "    df['message'] = df['message'].str.replace('RT', '', case=False)\n",
        "\n",
        "    return df.head()\n",
        "    "
      ],
      "id": "1bbfc092",
      "execution_count": null,
      "outputs": []
    },
    {
      "cell_type": "code",
      "metadata": {
        "id": "ac4c8620"
      },
      "source": [
        "remove_noice(train_df)"
      ],
      "id": "ac4c8620",
      "execution_count": null,
      "outputs": []
    },
    {
      "cell_type": "markdown",
      "metadata": {
        "id": "iXF-017LtIbU"
      },
      "source": [
        "  ### Remove punctuation and tokenise the text\n",
        "  We create a function that cleans the tweets by tokenizing, removing punctuation, removing digits and removing 1 character tokens."
      ],
      "id": "iXF-017LtIbU"
    },
    {
      "cell_type": "code",
      "metadata": {
        "id": "edb5a169"
      },
      "source": [
        "# Clean tweets\n",
        "def clean_tweets(df):\n",
        "  \n",
        "\n",
        "    # tokenizing the tweets\n",
        "    clean_tweets = df['message'].apply(TweetTokenizer().tokenize) ## first we tokenize\n",
        "\n",
        "    # remove punctuation\n",
        "    clean_tweets = clean_tweets.apply(lambda x : [token for token in x if token not in string.punctuation])\n",
        "\n",
        "    # removing digits from the tweets\n",
        "    clean_tweets = clean_tweets.apply(lambda x: [token for token in x if token not in list(string.digits)])\n",
        "\n",
        "    # lastly we remove all one character tokens\n",
        "    clean_tweets = clean_tweets.apply(lambda x: [token for token in x if len(token) > 1])\n",
        "    \n",
        "    df['cleaned_tweets'] = clean_tweets\n",
        "    \n",
        "    return df['cleaned_tweets']"
      ],
      "id": "edb5a169",
      "execution_count": null,
      "outputs": []
    },
    {
      "cell_type": "code",
      "metadata": {
        "id": "ddbd7b7a"
      },
      "source": [
        "clean_tweets(train_df)"
      ],
      "id": "ddbd7b7a",
      "execution_count": null,
      "outputs": []
    },
    {
      "cell_type": "markdown",
      "metadata": {
        "id": "8e9af2bc"
      },
      "source": [
        "**Removing Stopwords**"
      ],
      "id": "8e9af2bc"
    },
    {
      "cell_type": "code",
      "metadata": {
        "id": "2302bf98"
      },
      "source": [
        "from nltk.corpus import stopwords\n",
        "nltk.download('stopwords')\n",
        "\n",
        "stop = stopwords.words('english')\n",
        "\n",
        "# Convert to lower case\n",
        "train['cleaned_tweets'] = train['cleaned_tweets'].apply(lambda x: [word.lower() for word in x])\n",
        "\n",
        "# Remove stopwords\n",
        "train['no_stopwords'] = train['cleaned_tweets'].apply(lambda x: [item for item in x if item not in stop])\n",
        "\n",
        "train.head()"
      ],
      "id": "2302bf98",
      "execution_count": null,
      "outputs": []
    },
    {
      "cell_type": "markdown",
      "metadata": {
        "id": "be58f780"
      },
      "source": [
        "**Removing collection words**\n",
        "\n",
        "These are words used to query data from Twitter i.e\n",
        "\n",
        "\n",
        "1. climate\n",
        "\n",
        "2. climatechange\n",
        "\n",
        "3. change"
      ],
      "id": "be58f780"
    },
    {
      "cell_type": "code",
      "metadata": {
        "id": "48d1d3b4"
      },
      "source": [
        "collection_words = ['climatechange', 'climate', 'change']\n",
        "train['no_colwords'] = [[w for w in word if not w in collection_words]\n",
        "                 for word in train['no_stopwords']]\n",
        "\n",
        "train.head()"
      ],
      "id": "48d1d3b4",
      "execution_count": null,
      "outputs": []
    },
    {
      "cell_type": "markdown",
      "metadata": {
        "id": "ca45c8a9"
      },
      "source": [
        "**Most Frequent Words**"
      ],
      "id": "ca45c8a9"
    },
    {
      "cell_type": "code",
      "metadata": {
        "id": "76750a92"
      },
      "source": [
        "from collections import Counter\n",
        "cnt = Counter()\n",
        "for message in train['no_stopwords'].values:\n",
        "    for word in message:\n",
        "        cnt[word] += 1\n",
        "        \n",
        "# cnt.most_common()\n",
        "\n"
      ],
      "id": "76750a92",
      "execution_count": null,
      "outputs": []
    },
    {
      "cell_type": "code",
      "metadata": {
        "id": "a7b8bffa"
      },
      "source": [
        "cnt.most_common()"
      ],
      "id": "a7b8bffa",
      "execution_count": null,
      "outputs": []
    },
    {
      "cell_type": "markdown",
      "metadata": {
        "id": "56d8b3b9"
      },
      "source": [
        "**Mapping the Sentiment class by name**"
      ],
      "id": "56d8b3b9"
    },
    {
      "cell_type": "code",
      "metadata": {
        "id": "ee9d5747"
      },
      "source": [
        "train['sent_labels']  = train['sentiment'].map({-1: 'Anti',0:'Neutral', 1:'Pro', 2:'News'})\n",
        "train_eda['sent_labels']  = train['sentiment'].map({-1: 'Anti',0:'Neutral', 1:'Pro', 2:'News'})\n",
        "\n",
        "# I need to understand more about mapping and why this was done\n",
        "train.head()"
      ],
      "id": "ee9d5747",
      "execution_count": null,
      "outputs": []
    },
    {
      "cell_type": "markdown",
      "metadata": {
        "id": "b6aa3e10"
      },
      "source": [
        "**Get the length of each raw tweet**"
      ],
      "id": "b6aa3e10"
    },
    {
      "cell_type": "code",
      "metadata": {
        "id": "e7c390e7"
      },
      "source": [
        "train['text_length'] = train_eda['message'].apply(lambda x: len(x))"
      ],
      "id": "e7c390e7",
      "execution_count": null,
      "outputs": []
    },
    {
      "cell_type": "markdown",
      "metadata": {
        "id": "863ac5ed"
      },
      "source": [
        "**Separate Dataframes of tweets for each sentiment**"
      ],
      "id": "863ac5ed"
    },
    {
      "cell_type": "code",
      "metadata": {
        "id": "2f8a13be"
      },
      "source": [
        "# Dataframe for neutral tweets\n",
        "neutral_df = train[train['sentiment'] == 0]\n",
        "neutral_df.head()"
      ],
      "id": "2f8a13be",
      "execution_count": null,
      "outputs": []
    },
    {
      "cell_type": "code",
      "metadata": {
        "id": "e89601ac"
      },
      "source": [
        "# Dataframe for pro tweets\n",
        "pro_df = train[train['sentiment'] == 1]\n",
        "pro_df.head()"
      ],
      "id": "e89601ac",
      "execution_count": null,
      "outputs": []
    },
    {
      "cell_type": "code",
      "metadata": {
        "id": "70e5170b"
      },
      "source": [
        "# DtataFrame for anti tweets\n",
        "anti_df = train[train['sentiment'] == -1]\n",
        "anti_df.head()"
      ],
      "id": "70e5170b",
      "execution_count": null,
      "outputs": []
    },
    {
      "cell_type": "code",
      "metadata": {
        "id": "74849bea"
      },
      "source": [
        "# Dataframe for news tweets\n",
        "\n",
        "news_df = train[train['sentiment'] == 2]\n",
        "news_df.head()"
      ],
      "id": "74849bea",
      "execution_count": null,
      "outputs": []
    },
    {
      "cell_type": "code",
      "metadata": {
        "id": "a80002f9"
      },
      "source": [
        "train.head()"
      ],
      "id": "a80002f9",
      "execution_count": null,
      "outputs": []
    },
    {
      "cell_type": "markdown",
      "metadata": {
        "id": "fafd33a1"
      },
      "source": [
        "# Exploratory Data Analysis"
      ],
      "id": "fafd33a1"
    },
    {
      "cell_type": "code",
      "metadata": {
        "id": "a280f914"
      },
      "source": [
        ""
      ],
      "id": "a280f914",
      "execution_count": null,
      "outputs": []
    },
    {
      "cell_type": "markdown",
      "metadata": {
        "id": "b17e5049"
      },
      "source": [
        "# Feature Engineering"
      ],
      "id": "b17e5049"
    },
    {
      "cell_type": "code",
      "metadata": {
        "id": "c912e838"
      },
      "source": [
        "# Data preprocessing for model building\n",
        "\n",
        "train = train_data.copy()\n",
        "test = test_data.copy()\n",
        "normalizer = WordNetLemmatizer()\n",
        "nltk.download('wordnet')\n",
        "\n",
        "def replace_sentiments(df):\n",
        "    \"\"\"\n",
        "    replace keywords in the tweets  with associated sentiments\n",
        "    \n",
        "    'global' ----> 'negative'\n",
        "    'climate' ----> 'positive'\n",
        "    'MAGA'----> 'negative'\n",
        "  \n",
        "    \"\"\"\n",
        "    df['message'] = df['message'].apply(lambda x: x.replace('global', 'negative'))\n",
        "    df['message'] = df['message'].apply(lambda x: x.replace('climate', 'positive'))\n",
        "    df['message'] = df['message'].apply(lambda x: x.replace('MAGA', 'negative')) \n",
        "\n",
        "    return df['message']\n",
        "\n",
        "train['message'] = replace_sentiments(train)\n",
        "test['message'] = replace_sentiments(test)\n",
        "\n",
        "# cleaning tweets\n",
        "train['clean_tweets'] = clean_tweets(train)\n",
        "test['clean_tweets'] = clean_tweets(test)\n",
        "\n",
        "\n",
        "# lemmatize\n",
        "train['clean_tweets'] = train['clean_tweets'].apply(lambda x: [normalizer.lemmatize(token, POS(token)) for token in x])\n",
        "test['clean_tweets'] = test['clean_tweets'].apply(lambda x: [normalizer.lemmatize(token, POS(token)) for token in x])"
      ],
      "id": "c912e838",
      "execution_count": null,
      "outputs": []
    },
    {
      "cell_type": "markdown",
      "metadata": {
        "id": "841220e4"
      },
      "source": [
        "# Creating our X and y Metrics"
      ],
      "id": "841220e4"
    },
    {
      "cell_type": "code",
      "metadata": {
        "id": "aba365f8"
      },
      "source": [
        "X = train['clean_tweets']\n",
        "y = train['sentiment']\n",
        "X_test = test['clean_tweets']"
      ],
      "id": "aba365f8",
      "execution_count": null,
      "outputs": []
    },
    {
      "cell_type": "markdown",
      "metadata": {
        "id": "cdead3c9"
      },
      "source": [
        "# Spliting our data"
      ],
      "id": "cdead3c9"
    },
    {
      "cell_type": "code",
      "metadata": {
        "id": "53d72236"
      },
      "source": [
        "# Splitting the data into 90% train and 10% validation set\n",
        "X_train, X_val, y_train, y_val = train_test_split(X, y, test_size=0.1, random_state = 42)"
      ],
      "id": "53d72236",
      "execution_count": null,
      "outputs": []
    },
    {
      "cell_type": "code",
      "metadata": {
        "id": "2961db1e"
      },
      "source": [
        "X_train = list(X_train.apply(' '.join))\n",
        "X_val = list(X_val.apply(' '.join))\n",
        "X_test = list(X_test.apply(' '.join))"
      ],
      "id": "2961db1e",
      "execution_count": null,
      "outputs": []
    },
    {
      "cell_type": "markdown",
      "metadata": {
        "id": "cc0073d9"
      },
      "source": [
        "# Pipelines"
      ],
      "id": "cc0073d9"
    },
    {
      "cell_type": "code",
      "metadata": {
        "id": "0334a60f"
      },
      "source": [
        "# DecisionTreeClassifier Pipeline\n",
        "tree_tfidf = Pipeline([('tfidf', TfidfVectorizer()),('tree', DecisionTreeClassifier()),])\n",
        "tree_count = Pipeline([('CountVec',  CountVectorizer(analyzer = 'word', \n",
        "                             tokenizer = None, \n",
        "                             preprocessor = None, \n",
        "                             stop_words = None, \n",
        "                             max_features = 180000,\n",
        "                             min_df = 1,\n",
        "                             ngram_range = (1,2)\n",
        "                            )),('tree', DecisionTreeClassifier()),])\n",
        "\n",
        "\n",
        "# RandomForestClassifier Pipeline\n",
        "rfc_tfidf = Pipeline([('tfidf', TfidfVectorizer()), ('rfc', RandomForestClassifier())])\n",
        "rfc_count = Pipeline([('CountVec',  CountVectorizer(analyzer = 'word', \n",
        "                             tokenizer = None, \n",
        "                             preprocessor = None, \n",
        "                             stop_words = None, \n",
        "                             max_features = 180000,\n",
        "                             min_df = 1,\n",
        "                             ngram_range = (1,2)\n",
        "                            )),('rfc', RandomForestClassifier()),])\n",
        "\n",
        "\n",
        "# LinearSVC Pipeline\n",
        "Lsvc_tfidf = Pipeline([('tfidf', TfidfVectorizer()),\n",
        "                     ('scv', LinearSVC()),])\n",
        "Lsvc_count = Pipeline([('CountVec',  CountVectorizer(analyzer = 'word', \n",
        "                             tokenizer = None, \n",
        "                             preprocessor = None, \n",
        "                             stop_words = None, \n",
        "                             max_features = 180000,\n",
        "                             min_df = 1,\n",
        "                             ngram_range = (1,2)\n",
        "                            )),('svc', LinearSVC()),])\n",
        "\n",
        "\n",
        "\n",
        "# Logistic Regression pipeline\n",
        "logreg_tfidf = Pipeline([('tfidf', TfidfVectorizer()),('logistic', LogisticRegression()),])\n",
        "logreg_count = Pipeline([('CountVec',  CountVectorizer(analyzer = 'word', \n",
        "                             tokenizer = None, \n",
        "                             preprocessor = None, \n",
        "                             stop_words = None, \n",
        "                             max_features = 180000,\n",
        "                             min_df = 1,\n",
        "                             ngram_range = (1,2)\n",
        "                            )),('logistic', LogisticRegression()),])\n",
        "\n",
        "\n",
        "\n",
        "# SGD Classifier pipeline\n",
        "SGD_tfidf = Pipeline([('tfidf', TfidfVectorizer()), ('SGD', SGDClassifier())])\n",
        "SGD_count = Pipeline([('CountVec',  CountVectorizer(analyzer = 'word', \n",
        "                             tokenizer = None, \n",
        "                             preprocessor = None, \n",
        "                             stop_words = None, \n",
        "                             max_features = 180000,\n",
        "                             min_df = 1,\n",
        "                             ngram_range = (1,2)\n",
        "                            )),('SGD', SGDClassifier()),])\n",
        "\n",
        "\n",
        "\n",
        "\n",
        "# Support Vector Classifier Pipeline\n",
        "svc_tfidf = Pipeline([('tfidf', TfidfVectorizer()), ('SVC', SVC())])\n",
        "svc_count = Pipeline([('CountVec',  CountVectorizer(analyzer = 'word', \n",
        "                             tokenizer = None, \n",
        "                             preprocessor = None, \n",
        "                             stop_words = None, \n",
        "                             max_features = 180000,\n",
        "                             min_df = 1,\n",
        "                             ngram_range = (1,2)\n",
        "                            )),('SVC', SVC()),])\n",
        "\n",
        "# Ridge Classifier\n",
        "ridge_tfidf = Pipeline([('tfidf', TfidfVectorizer()), ('Ridge', RidgeClassifier())])\n",
        "ridge_count = Pipeline([('CountVec',  CountVectorizer(analyzer = 'word', \n",
        "                             tokenizer = None, \n",
        "                             preprocessor = None, \n",
        "                             stop_words = None, \n",
        "                             max_features = 180000,\n",
        "                             min_df = 1,\n",
        "                             ngram_range = (1,2)\n",
        "                            )),('Ridge', RidgeClassifier()),])"
      ],
      "id": "0334a60f",
      "execution_count": null,
      "outputs": []
    },
    {
      "cell_type": "markdown",
      "metadata": {
        "id": "8bca1da9"
      },
      "source": [
        "# Model training"
      ],
      "id": "8bca1da9"
    },
    {
      "cell_type": "code",
      "metadata": {
        "id": "493ab801"
      },
      "source": [
        "# training the decision tree pipeline\n",
        "tree_tfidf.fit(X_train, y_train)\n",
        "tree_count.fit(X_train, y_train)\n",
        "\n",
        "# training the RandomForest pipleline\n",
        "rfc_tfidf.fit(X_train, y_train)\n",
        "rfc_count.fit(X_train, y_train)\n",
        "\n",
        "# training the LinearSVC pipeline\n",
        "Lsvc_tfidf.fit(X_train, y_train)\n",
        "Lsvc_count.fit(X_train, y_train)\n",
        "\n",
        "# training the logistic regression pipeline\n",
        "logreg_tfidf.fit(X_train, y_train)\n",
        "logreg_count.fit(X_train, y_train)\n",
        "\n",
        "# training the SGD Classifier\n",
        "SGD_tfidf.fit(X_train, y_train)\n",
        "SGD_count.fit(X_train, y_train)\n",
        "\n",
        "# training the support vector classifier\n",
        "svc_tfidf.fit(X_train, y_train)\n",
        "svc_count.fit(X_train, y_train)\n",
        "\n",
        "# training the Ridge classifier\n",
        "ridge_tfidf.fit(X_train, y_train)\n",
        "ridge_count.fit(X_train, y_train)"
      ],
      "id": "493ab801",
      "execution_count": null,
      "outputs": []
    },
    {
      "cell_type": "code",
      "metadata": {
        "id": "fd96d4cd"
      },
      "source": [
        ""
      ],
      "id": "fd96d4cd",
      "execution_count": null,
      "outputs": []
    },
    {
      "cell_type": "code",
      "metadata": {
        "id": "879a6b9b"
      },
      "source": [
        "# calculating average scores for the TFIDF\n",
        "tree_acc =  accuracy_score(y_val,tree_tfidf.predict(X_val))\n",
        "rfc_acc = accuracy_score(y_val,rfc_tfidf.predict(X_val))\n",
        "lsvc_acc = accuracy_score(y_val,Lsvc_tfidf.predict(X_val))\n",
        "log_acc = accuracy_score(y_val, logreg_tfidf.predict(X_val))\n",
        "sgd_acc = accuracy_score(y_val, SGD_tfidf.predict(X_val))\n",
        "svc_acc = accuracy_score(y_val, svc_tfidf.predict(X_val))\n",
        "ridge_acc = accuracy_score(y_val, ridge_tfidf.predict(X_val))\n",
        " \n",
        "tfidf_avg_accuracy = round(np.mean([tree_acc,rfc_acc,lsvc_acc,log_acc,sgd_acc,svc_acc,ridge_acc]),4)"
      ],
      "id": "879a6b9b",
      "execution_count": null,
      "outputs": []
    },
    {
      "cell_type": "code",
      "metadata": {
        "id": "db79ad9f"
      },
      "source": [
        "tree_acc =  accuracy_score(y_val,tree_count.predict(X_val))\n",
        "rfc_acc = accuracy_score(y_val,rfc_count.predict(X_val))\n",
        "lsvc_acc = accuracy_score(y_val,Lsvc_count.predict(X_val))\n",
        "log_acc = accuracy_score(y_val, logreg_count.predict(X_val))\n",
        "sgd_acc = accuracy_score(y_val, SGD_count.predict(X_val))\n",
        "svc_acc = accuracy_score(y_val, svc_count.predict(X_val))\n",
        "ridge_acc = accuracy_score(y_val, ridge_count.predict(X_val))\n",
        "\n",
        "CountVec = round(np.mean([tree_acc,rfc_acc,lsvc_acc,log_acc,sgd_acc,svc_acc, ridge_acc]),4)"
      ],
      "id": "db79ad9f",
      "execution_count": null,
      "outputs": []
    },
    {
      "cell_type": "code",
      "metadata": {
        "id": "c6ce772f"
      },
      "source": [
        "accuracy_dict = {'TFIDF':[tfidf_avg_accuracy], 'CountVec':[CountVec]}\n",
        "accuracy_df = pd.DataFrame(accuracy_dict)\n",
        "accuracy_df.T.plot(kind='barh', figsize = (8,8),legend = False)\n",
        "plt.xlabel('Avg Accuracy Score')\n",
        "plt.ylabel('Feature Engineering Method')\n",
        "plt.yticks(rotation = 40)\n",
        "plt.title('Avg accuracy score per method')\n",
        "plt.show()"
      ],
      "id": "c6ce772f",
      "execution_count": null,
      "outputs": []
    },
    {
      "cell_type": "code",
      "metadata": {
        "id": "a771383d"
      },
      "source": [
        ""
      ],
      "id": "a771383d",
      "execution_count": null,
      "outputs": []
    },
    {
      "cell_type": "code",
      "metadata": {
        "id": "871d6110"
      },
      "source": [
        "# Making validations set predicions\n",
        "\n",
        "tree_prediction = tree_count.predict(X_val) # DecisionTreeClassifier predictions\n",
        "rfc_prediction = rfc_count.predict(X_val) # RandomForestClassifier predictions\n",
        "Lsvc_prediction = Lsvc_count.predict(X_val) # LinearSVClassifier Predictions\n",
        "logreg_prediction = logreg_count.predict(X_val) # Logistic regression predictions\n",
        "SGD_prediction = SGD_count.predict(X_val) # SGD Classifier predictions\n",
        "SVC_prediction = svc_count.predict(X_val) # Support vector machine predictions\n",
        "ridge_prediction = ridge_count.predict(X_val) # Ridge predictions"
      ],
      "id": "871d6110",
      "execution_count": null,
      "outputs": []
    },
    {
      "cell_type": "code",
      "metadata": {
        "id": "9560a58a"
      },
      "source": [
        ""
      ],
      "id": "9560a58a",
      "execution_count": null,
      "outputs": []
    },
    {
      "cell_type": "code",
      "metadata": {
        "id": "0e5c8396"
      },
      "source": [
        "# Confusion matrix for the Ridge Classifier\n",
        "print('\\nRidge Classifier\\n', confusion_matrix(y_val, ridge_prediction))"
      ],
      "id": "0e5c8396",
      "execution_count": null,
      "outputs": []
    },
    {
      "cell_type": "code",
      "metadata": {
        "id": "641f68b5"
      },
      "source": [
        "# The classification report \n",
        "print('\\nRidge Classifier  Classification report :\\n', classification_report(y_val, ridge_prediction))\n",
        "plot_confusion_matrix(y_val, ridge_prediction, normalize=True,figsize=(8,8),cmap='Reds')\n",
        "plt.title('Ridge Classification')\n",
        "plt.show()"
      ],
      "id": "641f68b5",
      "execution_count": null,
      "outputs": []
    },
    {
      "cell_type": "code",
      "metadata": {
        "id": "19d3a577"
      },
      "source": [
        "linearSVC_acc = round(accuracy_score(y_val, Lsvc_prediction),4)\n",
        "print(f'\\nOverall accuracy score for LinearSVC Model : {linearSVC_acc}')\n",
        "linearSVC_f1 = round(f1_score(y_val, Lsvc_prediction, average=\"weighted\"),4)\n",
        "print(f'\\nWeighted avg f1 score for LinearSVC Model : {linearSVC_f1}')"
      ],
      "id": "19d3a577",
      "execution_count": null,
      "outputs": []
    },
    {
      "cell_type": "code",
      "metadata": {
        "id": "259214ed"
      },
      "source": [
        "# Checking the accuracy score\n",
        "ridge_acc = round(accuracy_score(y_val, ridge_prediction),4)\n",
        "print(f'\\nRidge Classifier accuracy Score : {ridge_acc}')\n",
        "ridge_f1 = round(f1_score(y_val, ridge_prediction, average=\"weighted\"),4)\n",
        "print(f'\\nRidge Classifier weighted avg f1 score : {ridge_f1}')"
      ],
      "id": "259214ed",
      "execution_count": null,
      "outputs": []
    },
    {
      "cell_type": "code",
      "metadata": {
        "id": "fa66b97f"
      },
      "source": [
        "# Checking the accuracy score\n",
        "svc_acc = round(accuracy_score(y_val, SVC_prediction),4)\n",
        "print(f'\\nSupport Vector Classifier accuracy Score : {svc_acc}')\n",
        "svc_f1 = round(f1_score(y_val, SVC_prediction, average=\"weighted\"),4)\n",
        "print(f'\\nSupport Vector Classifier weighted avg f1 score : {svc_f1}')"
      ],
      "id": "fa66b97f",
      "execution_count": null,
      "outputs": []
    },
    {
      "cell_type": "code",
      "metadata": {
        "id": "5d9fc77d"
      },
      "source": [
        "# Checking the accuracy score\n",
        "sgd_acc = round(accuracy_score(y_val, SGD_prediction),4)\n",
        "print('\\nSGD Classifier accuracy Score :\\n', sgd_acc)\n",
        "\n",
        "# Checking the f1_score report for the decison tree model\n",
        "sgd_f1 = round(f1_score(y_val, SGD_prediction, average=\"weighted\"),4)\n",
        "print('\\nSGD weighted avg f1_score :\\n', sgd_f1)"
      ],
      "id": "5d9fc77d",
      "execution_count": null,
      "outputs": []
    },
    {
      "cell_type": "code",
      "metadata": {
        "id": "10ccbe63"
      },
      "source": [
        "# Print the overall accuracy\n",
        "logistic_reg_acc = round(accuracy_score(y_val, logreg_prediction),4)\n",
        "print('\\nLogistic Regression accuracy Score\\n', logistic_reg_acc)\n",
        "logistic_reg_f1 = round(f1_score(y_val, logreg_prediction, average=\"weighted\"),4)\n",
        "print('\\nLogistic Regression weighted f1 score\\n', logistic_reg_f1)\n"
      ],
      "id": "10ccbe63",
      "execution_count": null,
      "outputs": []
    },
    {
      "cell_type": "code",
      "metadata": {
        "id": "3aaac0d4"
      },
      "source": [
        "# Print the overall accuracy\n",
        "decison_tree_acc = round(accuracy_score(y_val, tree_prediction),4)\n",
        "print(f'\\nOverall accuracy score for Decision Tree : {decison_tree_acc}')\n",
        "decision_tree_f1 = round(f1_score(y_val, tree_prediction, average=\"weighted\"),4)\n",
        "print(f'\\nWeighted avg f1 score Decision Tree {decision_tree_f1}' )\n"
      ],
      "id": "3aaac0d4",
      "execution_count": null,
      "outputs": []
    },
    {
      "cell_type": "code",
      "metadata": {
        "id": "a01bec86"
      },
      "source": [
        "random_forest_acc = round(accuracy_score(y_val, rfc_prediction),4)\n",
        "print(f'\\nOveral accuracy score for RandomForestClassifier :{random_forest_acc}')\n",
        "random_forest_f1 = round(f1_score(y_val, rfc_prediction, average=\"weighted\"),4)\n",
        "print(f'\\nWeighted f1 score for RandomForestClassifier : {random_forest_f1}')"
      ],
      "id": "a01bec86",
      "execution_count": null,
      "outputs": []
    },
    {
      "cell_type": "code",
      "metadata": {
        "id": "43a97148"
      },
      "source": [
        "# Creating a dataframe with our models and their performances metrics\n",
        "classifier_scores = {'Classifiers':['Decision Tree', 'Random Forest','LinearSVC',\n",
        "                                    'Logistic Regression','Stochastic Gradient Descent',\n",
        "                                    'Support Vector Classifier','Ridge Classifier'],\n",
        "                    'Accuracy':[decison_tree_acc,random_forest_acc,\n",
        "                                linearSVC_acc,logistic_reg_acc, sgd_acc, svc_f1, ridge_acc],\n",
        "                     'Weighted avg f1 Score':[decision_tree_f1,random_forest_f1,\n",
        "                                       linearSVC_f1,logistic_reg_f1, sgd_f1, svc_f1, ridge_f1]}\n",
        "df= pd.DataFrame(classifier_scores)\n",
        "df.sort_values(by=['Accuracy'],ascending=True, inplace = True)\n",
        "df"
      ],
      "id": "43a97148",
      "execution_count": null,
      "outputs": []
    },
    {
      "cell_type": "code",
      "metadata": {
        "id": "fd924021"
      },
      "source": [
        "# Define the models which we'll include in our ensemble. \n",
        "# We pass a list of tuples, which each have a string identifier for the\n",
        "# model (arbitrary choice), along the actual instantiated sklearn model.  \n",
        "models = [(\"LinearSVC\",Lsvc_count),(\"Logistic Regression\",logreg_count),(\"Ridge Classified\",ridge_count)]\n",
        "\n",
        "# Specify weights for weighted model averaging\n",
        "model_weightings = np.array([0.1,0.3,0.6])\n",
        "\n",
        "# building the voting classifier\n",
        "Voting_classifier = VotingClassifier(estimators=models,weights=model_weightings)\n"
      ],
      "id": "fd924021",
      "execution_count": null,
      "outputs": []
    },
    {
      "cell_type": "code",
      "metadata": {
        "id": "8d3ed65b"
      },
      "source": [
        "# training the voting classifier\n",
        "Voting_classifier.fit(X_train, y_train)"
      ],
      "id": "8d3ed65b",
      "execution_count": null,
      "outputs": []
    },
    {
      "cell_type": "code",
      "metadata": {
        "id": "60823f09"
      },
      "source": [
        "voting_prediction = Voting_classifier.predict(X_val) # Voting Classifier predictions"
      ],
      "id": "60823f09",
      "execution_count": null,
      "outputs": []
    },
    {
      "cell_type": "code",
      "metadata": {
        "id": "e3da3bd6"
      },
      "source": [
        "print('\\nVoting Classifier  Classification report :\\n', classification_report(y_val, voting_prediction))"
      ],
      "id": "e3da3bd6",
      "execution_count": null,
      "outputs": []
    },
    {
      "cell_type": "code",
      "metadata": {
        "id": "93f7fcc8"
      },
      "source": [
        "# Checking the accuracy score\n",
        "voting_acc = round(accuracy_score(y_val, voting_prediction),4)\n",
        "print(f'\\nOverall accuracy for the Voting Classifier : {voting_acc}')\n",
        "voting_f1 = round(f1_score(y_val, voting_prediction, average=\"weighted\"),4)\n",
        "print(f'\\nWeighted avg f1 score for the Voting Classifier : {voting_f1}')"
      ],
      "id": "93f7fcc8",
      "execution_count": null,
      "outputs": []
    },
    {
      "cell_type": "markdown",
      "metadata": {
        "id": "7a0a4ff7"
      },
      "source": [
        "**Hyperparameter turning**"
      ],
      "id": "7a0a4ff7"
    },
    {
      "cell_type": "code",
      "metadata": {
        "id": "53301488"
      },
      "source": [
        "# We have to to prepare our data again since we wont be using the pipelines\n",
        "\n",
        "train = train_data.copy()\n",
        "test = test_data.copy()\n",
        "\n",
        "train['message'] = replace_sentiments(train)\n",
        "test['message'] = replace_sentiments(test)\n",
        "train['clean_tweets'] = clean_tweets(train)\n",
        "test['clean_tweets'] = clean_tweets(test)\n",
        "\n",
        "normalizer = WordNetLemmatizer()\n",
        "train['clean_tweets'] = train['clean_tweets'].apply(lambda x: [normalizer.lemmatize(token, POS(token)) for token in x])\n",
        "test['clean_tweets'] = test['clean_tweets'].apply(lambda x: [normalizer.lemmatize(token, POS(token)) for token in x])\n",
        "\n",
        "\n",
        "\n",
        "X = train['clean_tweets']\n",
        "y = train['sentiment']\n",
        "X_test = test['clean_tweets']\n",
        "\n",
        "\n",
        "X_train, X_val, y_train, y_val = train_test_split(X, y, test_size=0.1, random_state = 42)\n",
        "\n",
        "X_train = list(X_train.apply(' '.join))\n",
        "X_val = list(X_val.apply(' '.join))\n",
        "X_test = list(X_test.apply(' '.join))"
      ],
      "id": "53301488",
      "execution_count": null,
      "outputs": []
    },
    {
      "cell_type": "code",
      "metadata": {
        "id": "00b77fde"
      },
      "source": [
        "vectorizer = CountVectorizer(analyzer = 'word', \n",
        "                             tokenizer = None, \n",
        "                             preprocessor = None, \n",
        "                             stop_words = None, \n",
        "                             max_features = 180000,\n",
        "                             min_df = 1,\n",
        "                             ngram_range = (1,2)\n",
        "                            )\n",
        "vectorizer.fit(X_train)\n",
        "X_train = vectorizer.transform(X_train)\n",
        "X_val = vectorizer.transform(X_val)\n",
        "X_test = vectorizer.transform(X_test)"
      ],
      "id": "00b77fde",
      "execution_count": null,
      "outputs": []
    },
    {
      "cell_type": "code",
      "metadata": {
        "id": "277b5361"
      },
      "source": [
        "# Tunning Ridge Classifier using GridSearchCV\n",
        "\n",
        "# The hyperprarameter gridsearch for the logistic regression model is purposefully commented out because \n",
        "# it perfoms 5 folds for each of the 50 candidates totalling in 250 fits, this GridSearch  code took 57 minutes to complete\n",
        "#  we have saved the resulting model as a pickle file\n",
        "\n",
        "'''\n",
        "param_grid = {'alpha':np.logspace(-4, 4, 50)}\n",
        "grid = GridSearchCV(RidgeClassifier(),param_grid,refit=True,verbose=2)\n",
        "grid.fit(X_train,y_train)\n",
        "print(accuracy_score(y_val, grid.predict(X_val)))\n",
        "'''\n",
        "best_params = {'alpha': 11.513953993264458}\n",
        "# retrain the model with best params\n",
        "ridge_grid = RidgeClassifier(alpha=11.513953993264458)\n",
        "ridge_grid.fit(X_train, y_train)"
      ],
      "id": "277b5361",
      "execution_count": null,
      "outputs": []
    },
    {
      "cell_type": "code",
      "metadata": {
        "id": "46cdc318"
      },
      "source": [
        "# accuracy of the ridge gridsearch model\n",
        "print(f1_score(y_val, ridge_grid.predict(X_val), average = 'weighted'))"
      ],
      "id": "46cdc318",
      "execution_count": null,
      "outputs": []
    },
    {
      "cell_type": "code",
      "metadata": {
        "id": "94018bd5"
      },
      "source": [
        "# retraining the best Ridge Classifer model we have\n",
        "ridge_tuned = RidgeClassifier(alpha=5.428675439323859, class_weight=None, copy_X=True,\n",
        "                fit_intercept=True, max_iter=None, normalize=False,\n",
        "                random_state=None, solver='auto', tol=0.001) \n",
        "ridge_tuned.fit(X_train, y_train)"
      ],
      "id": "94018bd5",
      "execution_count": null,
      "outputs": []
    },
    {
      "cell_type": "code",
      "metadata": {
        "id": "042f5430"
      },
      "source": [
        "# Checking the accuracy score\n",
        "ridge_prediction_tuned =ridge_tuned.predict(X_val)\n",
        "\n",
        "ridge_acc_2 = round(accuracy_score(y_val, ridge_prediction_tuned),4)\n",
        "print(f'\\nOverall accuracy score for Ridge Classifier accuracy Score : {ridge_acc}')\n",
        "ridge_f1_2 = round(f1_score(y_val, ridge_prediction_tuned, average=\"weighted\"),4)\n",
        "print(f'\\nWeighted avg f1 score for Ridge Classifier : {ridge_f1}')"
      ],
      "id": "042f5430",
      "execution_count": null,
      "outputs": []
    },
    {
      "cell_type": "code",
      "metadata": {
        "id": "1ab60600"
      },
      "source": [
        "# Saving the model\n",
        "import pickle\n",
        "model_save_path = 'Ridgeclfr.pkl'\n",
        "with open(model_save_path, 'wb') as file:\n",
        "  pickle.dump(ridge_tuned, file)"
      ],
      "id": "1ab60600",
      "execution_count": null,
      "outputs": []
    },
    {
      "cell_type": "code",
      "metadata": {
        "id": "1033b5b6"
      },
      "source": [
        "print('classfication report for our best model\\n',classification_report(y_val, ridge_tuned.predict(X_val)))"
      ],
      "id": "1033b5b6",
      "execution_count": null,
      "outputs": []
    },
    {
      "cell_type": "code",
      "metadata": {
        "id": "7c04800f"
      },
      "source": [
        "# # Visual represetation of of the f1 score for each class\n",
        "report_ridge = classification_report(y_val, ridge_prediction_tuned, output_dict=True)\n",
        "df_ridge = pd.DataFrame(report_ridge).transpose()\n",
        "df_ridge.drop(['accuracy'], inplace = True)\n",
        "df_ridge.sort_values(by=['f1-score'],ascending=True, inplace = True)\n",
        "df_ridge.drop(['weighted avg','macro avg'])['f1-score'].plot(kind='barh', figsize = (8,8))\n",
        "plt.xlabel('f1-score')\n",
        "plt.ylabel('Classes')\n",
        "plt.yticks(rotation = 40)\n",
        "plt.title('f1-score per sentiment class for tunned SVC')\n",
        "plt.show()"
      ],
      "id": "7c04800f",
      "execution_count": null,
      "outputs": []
    },
    {
      "cell_type": "code",
      "metadata": {
        "id": "390dddb5"
      },
      "source": [
        "y_pred = ridge_tuned.predict(X_test)"
      ],
      "id": "390dddb5",
      "execution_count": null,
      "outputs": []
    },
    {
      "cell_type": "code",
      "metadata": {
        "id": "8dbcc304"
      },
      "source": [
        "y_pred"
      ],
      "id": "8dbcc304",
      "execution_count": null,
      "outputs": []
    },
    {
      "cell_type": "code",
      "metadata": {
        "id": "8d66fc89"
      },
      "source": [
        "test_data['sentiment'] = y_pred"
      ],
      "id": "8d66fc89",
      "execution_count": null,
      "outputs": []
    },
    {
      "cell_type": "code",
      "metadata": {
        "id": "d3293fad"
      },
      "source": [
        "test_data[['tweetid','sentiment']].to_csv('Ridge Submission.csv', index=False)"
      ],
      "id": "d3293fad",
      "execution_count": null,
      "outputs": []
    },
    {
      "cell_type": "code",
      "metadata": {
        "id": "f962ffe1"
      },
      "source": [
        "test_data[['tweetid','sentiment']]"
      ],
      "id": "f962ffe1",
      "execution_count": null,
      "outputs": []
    },
    {
      "cell_type": "code",
      "metadata": {
        "id": "311bd5ee"
      },
      "source": [
        ""
      ],
      "id": "311bd5ee",
      "execution_count": null,
      "outputs": []
    },
    {
      "cell_type": "code",
      "metadata": {
        "id": "e8133580"
      },
      "source": [
        ""
      ],
      "id": "e8133580",
      "execution_count": null,
      "outputs": []
    },
    {
      "cell_type": "code",
      "metadata": {
        "id": "b5a1638d"
      },
      "source": [
        ""
      ],
      "id": "b5a1638d",
      "execution_count": null,
      "outputs": []
    },
    {
      "cell_type": "code",
      "metadata": {
        "id": "89db5f22"
      },
      "source": [
        ""
      ],
      "id": "89db5f22",
      "execution_count": null,
      "outputs": []
    }
  ]
}